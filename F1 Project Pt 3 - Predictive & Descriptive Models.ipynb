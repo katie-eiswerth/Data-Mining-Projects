{
 "cells": [
  {
   "cell_type": "code",
   "execution_count": 217,
   "id": "0ac2fe8e-8f1f-4727-adfc-3e0d967fff04",
   "metadata": {
    "tags": []
   },
   "outputs": [],
   "source": [
    "import pandas as pd \n",
    "import numpy as np\n",
    "import matplotlib.pyplot as plt\n",
    "import seaborn as sns\n",
    "from datetime import datetime"
   ]
  },
  {
   "cell_type": "code",
   "execution_count": 448,
   "id": "11050b82-b413-46a0-a51c-d993ffac07ba",
   "metadata": {
    "tags": []
   },
   "outputs": [
    {
     "data": {
      "text/html": [
       "<div>\n",
       "<style scoped>\n",
       "    .dataframe tbody tr th:only-of-type {\n",
       "        vertical-align: middle;\n",
       "    }\n",
       "\n",
       "    .dataframe tbody tr th {\n",
       "        vertical-align: top;\n",
       "    }\n",
       "\n",
       "    .dataframe thead th {\n",
       "        text-align: right;\n",
       "    }\n",
       "</style>\n",
       "<table border=\"1\" class=\"dataframe\">\n",
       "  <thead>\n",
       "    <tr style=\"text-align: right;\">\n",
       "      <th></th>\n",
       "      <th>raceId</th>\n",
       "      <th>year</th>\n",
       "      <th>circuitId</th>\n",
       "      <th>race_name</th>\n",
       "      <th>driverId</th>\n",
       "      <th>constructorId</th>\n",
       "      <th>race_points</th>\n",
       "      <th>race_fastestLapTime</th>\n",
       "      <th>race_fastestLapSpeed</th>\n",
       "      <th>dob</th>\n",
       "      <th>...</th>\n",
       "      <th>constructor_points</th>\n",
       "      <th>constructor_name</th>\n",
       "      <th>q1_complete</th>\n",
       "      <th>q2_complete</th>\n",
       "      <th>q3_complete</th>\n",
       "      <th>age</th>\n",
       "      <th>driver_name</th>\n",
       "      <th>lap_minutes</th>\n",
       "      <th>lap_seconds</th>\n",
       "      <th>fastest_lap_seconds</th>\n",
       "    </tr>\n",
       "  </thead>\n",
       "  <tbody>\n",
       "    <tr>\n",
       "      <th>0</th>\n",
       "      <td>948</td>\n",
       "      <td>2016</td>\n",
       "      <td>1</td>\n",
       "      <td>Australian Grand Prix</td>\n",
       "      <td>3</td>\n",
       "      <td>131</td>\n",
       "      <td>25.0</td>\n",
       "      <td>5/29/2024 1:30</td>\n",
       "      <td>210.815</td>\n",
       "      <td>6/27/1985</td>\n",
       "      <td>...</td>\n",
       "      <td>43.0</td>\n",
       "      <td>Mercedes</td>\n",
       "      <td>1</td>\n",
       "      <td>1</td>\n",
       "      <td>1</td>\n",
       "      <td>38</td>\n",
       "      <td>Nico Rosberg</td>\n",
       "      <td>1</td>\n",
       "      <td>30</td>\n",
       "      <td>90</td>\n",
       "    </tr>\n",
       "    <tr>\n",
       "      <th>1</th>\n",
       "      <td>948</td>\n",
       "      <td>2016</td>\n",
       "      <td>1</td>\n",
       "      <td>Australian Grand Prix</td>\n",
       "      <td>1</td>\n",
       "      <td>131</td>\n",
       "      <td>18.0</td>\n",
       "      <td>5/29/2024 1:30</td>\n",
       "      <td>210.608</td>\n",
       "      <td>1/7/1985</td>\n",
       "      <td>...</td>\n",
       "      <td>43.0</td>\n",
       "      <td>Mercedes</td>\n",
       "      <td>1</td>\n",
       "      <td>1</td>\n",
       "      <td>1</td>\n",
       "      <td>39</td>\n",
       "      <td>Lewis Hamilton</td>\n",
       "      <td>1</td>\n",
       "      <td>30</td>\n",
       "      <td>90</td>\n",
       "    </tr>\n",
       "    <tr>\n",
       "      <th>2</th>\n",
       "      <td>948</td>\n",
       "      <td>2016</td>\n",
       "      <td>1</td>\n",
       "      <td>Australian Grand Prix</td>\n",
       "      <td>20</td>\n",
       "      <td>6</td>\n",
       "      <td>15.0</td>\n",
       "      <td>5/29/2024 1:29</td>\n",
       "      <td>212.235</td>\n",
       "      <td>7/3/1987</td>\n",
       "      <td>...</td>\n",
       "      <td>15.0</td>\n",
       "      <td>Ferrari</td>\n",
       "      <td>1</td>\n",
       "      <td>1</td>\n",
       "      <td>1</td>\n",
       "      <td>36</td>\n",
       "      <td>Sebastian Vettel</td>\n",
       "      <td>1</td>\n",
       "      <td>29</td>\n",
       "      <td>89</td>\n",
       "    </tr>\n",
       "    <tr>\n",
       "      <th>3</th>\n",
       "      <td>948</td>\n",
       "      <td>2016</td>\n",
       "      <td>1</td>\n",
       "      <td>Australian Grand Prix</td>\n",
       "      <td>817</td>\n",
       "      <td>9</td>\n",
       "      <td>12.0</td>\n",
       "      <td>5/29/2024 1:28</td>\n",
       "      <td>214.510</td>\n",
       "      <td>7/1/1989</td>\n",
       "      <td>...</td>\n",
       "      <td>12.0</td>\n",
       "      <td>Red Bull</td>\n",
       "      <td>1</td>\n",
       "      <td>1</td>\n",
       "      <td>1</td>\n",
       "      <td>34</td>\n",
       "      <td>Daniel Ricciardo</td>\n",
       "      <td>1</td>\n",
       "      <td>28</td>\n",
       "      <td>88</td>\n",
       "    </tr>\n",
       "    <tr>\n",
       "      <th>4</th>\n",
       "      <td>948</td>\n",
       "      <td>2016</td>\n",
       "      <td>1</td>\n",
       "      <td>Australian Grand Prix</td>\n",
       "      <td>13</td>\n",
       "      <td>3</td>\n",
       "      <td>10.0</td>\n",
       "      <td>5/29/2024 1:32</td>\n",
       "      <td>206.861</td>\n",
       "      <td>4/25/1981</td>\n",
       "      <td>...</td>\n",
       "      <td>14.0</td>\n",
       "      <td>Williams</td>\n",
       "      <td>1</td>\n",
       "      <td>1</td>\n",
       "      <td>1</td>\n",
       "      <td>43</td>\n",
       "      <td>Felipe Massa</td>\n",
       "      <td>1</td>\n",
       "      <td>32</td>\n",
       "      <td>92</td>\n",
       "    </tr>\n",
       "  </tbody>\n",
       "</table>\n",
       "<p>5 rows × 23 columns</p>\n",
       "</div>"
      ],
      "text/plain": [
       "   raceId  year  circuitId              race_name  driverId  constructorId  \\\n",
       "0     948  2016          1  Australian Grand Prix         3            131   \n",
       "1     948  2016          1  Australian Grand Prix         1            131   \n",
       "2     948  2016          1  Australian Grand Prix        20              6   \n",
       "3     948  2016          1  Australian Grand Prix       817              9   \n",
       "4     948  2016          1  Australian Grand Prix        13              3   \n",
       "\n",
       "   race_points race_fastestLapTime  race_fastestLapSpeed        dob  ...  \\\n",
       "0         25.0      5/29/2024 1:30               210.815  6/27/1985  ...   \n",
       "1         18.0      5/29/2024 1:30               210.608   1/7/1985  ...   \n",
       "2         15.0      5/29/2024 1:29               212.235   7/3/1987  ...   \n",
       "3         12.0      5/29/2024 1:28               214.510   7/1/1989  ...   \n",
       "4         10.0      5/29/2024 1:32               206.861  4/25/1981  ...   \n",
       "\n",
       "   constructor_points constructor_name  q1_complete  q2_complete q3_complete  \\\n",
       "0                43.0         Mercedes            1            1           1   \n",
       "1                43.0         Mercedes            1            1           1   \n",
       "2                15.0          Ferrari            1            1           1   \n",
       "3                12.0         Red Bull            1            1           1   \n",
       "4                14.0         Williams            1            1           1   \n",
       "\n",
       "   age       driver_name  lap_minutes  lap_seconds fastest_lap_seconds  \n",
       "0   38      Nico Rosberg            1           30                  90  \n",
       "1   39    Lewis Hamilton            1           30                  90  \n",
       "2   36  Sebastian Vettel            1           29                  89  \n",
       "3   34  Daniel Ricciardo            1           28                  88  \n",
       "4   43      Felipe Massa            1           32                  92  \n",
       "\n",
       "[5 rows x 23 columns]"
      ]
     },
     "execution_count": 448,
     "metadata": {},
     "output_type": "execute_result"
    }
   ],
   "source": [
    "df = pd.read_csv(\"F1_EDA_complete.csv\")\n",
    "df.head()"
   ]
  },
  {
   "cell_type": "code",
   "execution_count": 450,
   "id": "4ad7e429-261c-4ff8-bf28-c5632a358bd8",
   "metadata": {
    "tags": []
   },
   "outputs": [
    {
     "name": "stdout",
     "output_type": "stream",
     "text": [
      "<class 'pandas.core.frame.DataFrame'>\n",
      "RangeIndex: 3481 entries, 0 to 3480\n",
      "Data columns (total 23 columns):\n",
      " #   Column                Non-Null Count  Dtype  \n",
      "---  ------                --------------  -----  \n",
      " 0   raceId                3481 non-null   int64  \n",
      " 1   year                  3481 non-null   int64  \n",
      " 2   circuitId             3481 non-null   int64  \n",
      " 3   race_name             3481 non-null   object \n",
      " 4   driverId              3481 non-null   int64  \n",
      " 5   constructorId         3481 non-null   int64  \n",
      " 6   race_points           3481 non-null   float64\n",
      " 7   race_fastestLapTime   3481 non-null   object \n",
      " 8   race_fastestLapSpeed  3481 non-null   float64\n",
      " 9   dob                   3481 non-null   object \n",
      " 10  qualifyId             3471 non-null   float64\n",
      " 11  circuit_name          3481 non-null   object \n",
      " 12  circuit_altitude      3481 non-null   int64  \n",
      " 13  constructor_points    3481 non-null   float64\n",
      " 14  constructor_name      3481 non-null   object \n",
      " 15  q1_complete           3481 non-null   int64  \n",
      " 16  q2_complete           3481 non-null   int64  \n",
      " 17  q3_complete           3481 non-null   int64  \n",
      " 18  age                   3481 non-null   int64  \n",
      " 19  driver_name           3481 non-null   object \n",
      " 20  lap_minutes           3481 non-null   int64  \n",
      " 21  lap_seconds           3481 non-null   int64  \n",
      " 22  fastest_lap_seconds   3481 non-null   int64  \n",
      "dtypes: float64(4), int64(13), object(6)\n",
      "memory usage: 625.6+ KB\n"
     ]
    }
   ],
   "source": [
    "df.info()"
   ]
  },
  {
   "cell_type": "markdown",
   "id": "29d8698c-35a5-42bb-8b21-f6f088602b09",
   "metadata": {
    "tags": []
   },
   "source": [
    "# Linear Regression"
   ]
  },
  {
   "cell_type": "code",
   "execution_count": 453,
   "id": "f4d10688-5311-4a06-a52b-fde546d09bb5",
   "metadata": {
    "tags": []
   },
   "outputs": [
    {
     "data": {
      "text/html": [
       "<table class=\"simpletable\">\n",
       "<caption>OLS Regression Results</caption>\n",
       "<tr>\n",
       "  <th>Dep. Variable:</th>    <td>fastest_lap_seconds</td> <th>  R-squared:         </th> <td>   0.554</td> \n",
       "</tr>\n",
       "<tr>\n",
       "  <th>Model:</th>                    <td>OLS</td>         <th>  Adj. R-squared:    </th> <td>   0.551</td> \n",
       "</tr>\n",
       "<tr>\n",
       "  <th>Method:</th>              <td>Least Squares</td>    <th>  F-statistic:       </th> <td>   172.0</td> \n",
       "</tr>\n",
       "<tr>\n",
       "  <th>Date:</th>              <td>Wed, 05 Jun 2024</td>   <th>  Prob (F-statistic):</th>  <td>  0.00</td>  \n",
       "</tr>\n",
       "<tr>\n",
       "  <th>Time:</th>                  <td>14:19:38</td>       <th>  Log-Likelihood:    </th> <td> -14207.</td> \n",
       "</tr>\n",
       "<tr>\n",
       "  <th>No. Observations:</th>       <td>  3481</td>        <th>  AIC:               </th> <td>2.847e+04</td>\n",
       "</tr>\n",
       "<tr>\n",
       "  <th>Df Residuals:</th>           <td>  3455</td>        <th>  BIC:               </th> <td>2.863e+04</td>\n",
       "</tr>\n",
       "<tr>\n",
       "  <th>Df Model:</th>               <td>    25</td>        <th>                     </th>     <td> </td>    \n",
       "</tr>\n",
       "<tr>\n",
       "  <th>Covariance Type:</th>       <td>nonrobust</td>      <th>                     </th>     <td> </td>    \n",
       "</tr>\n",
       "</table>\n",
       "<table class=\"simpletable\">\n",
       "<tr>\n",
       "                    <td></td>                       <th>coef</th>     <th>std err</th>      <th>t</th>      <th>P>|t|</th>  <th>[0.025</th>    <th>0.975]</th>  \n",
       "</tr>\n",
       "<tr>\n",
       "  <th>Intercept</th>                             <td> 1813.1687</td> <td>  272.999</td> <td>    6.642</td> <td> 0.000</td> <td> 1277.913</td> <td> 2348.425</td>\n",
       "</tr>\n",
       "<tr>\n",
       "  <th>C(constructor_name)[T.AlphaTauri]</th>     <td>   -0.7115</td> <td>    1.540</td> <td>   -0.462</td> <td> 0.644</td> <td>   -3.731</td> <td>    2.308</td>\n",
       "</tr>\n",
       "<tr>\n",
       "  <th>C(constructor_name)[T.Alpine F1 Team]</th> <td>    1.1190</td> <td>    1.584</td> <td>    0.707</td> <td> 0.480</td> <td>   -1.986</td> <td>    4.224</td>\n",
       "</tr>\n",
       "<tr>\n",
       "  <th>C(constructor_name)[T.Aston Martin]</th>   <td>    0.4834</td> <td>    1.576</td> <td>    0.307</td> <td> 0.759</td> <td>   -2.606</td> <td>    3.573</td>\n",
       "</tr>\n",
       "<tr>\n",
       "  <th>C(constructor_name)[T.Ferrari]</th>        <td>   -1.6129</td> <td>    1.451</td> <td>   -1.111</td> <td> 0.267</td> <td>   -4.459</td> <td>    1.233</td>\n",
       "</tr>\n",
       "<tr>\n",
       "  <th>C(constructor_name)[T.Force India]</th>    <td>   -0.4384</td> <td>    1.771</td> <td>   -0.248</td> <td> 0.804</td> <td>   -3.910</td> <td>    3.033</td>\n",
       "</tr>\n",
       "<tr>\n",
       "  <th>C(constructor_name)[T.Haas F1 Team]</th>   <td>    0.3135</td> <td>    1.284</td> <td>    0.244</td> <td> 0.807</td> <td>   -2.204</td> <td>    2.831</td>\n",
       "</tr>\n",
       "<tr>\n",
       "  <th>C(constructor_name)[T.Manor Marussia]</th> <td>    6.0260</td> <td>    2.578</td> <td>    2.337</td> <td> 0.019</td> <td>    0.971</td> <td>   11.081</td>\n",
       "</tr>\n",
       "<tr>\n",
       "  <th>C(constructor_name)[T.McLaren]</th>        <td>    0.0576</td> <td>    1.323</td> <td>    0.044</td> <td> 0.965</td> <td>   -2.536</td> <td>    2.652</td>\n",
       "</tr>\n",
       "<tr>\n",
       "  <th>C(constructor_name)[T.Mercedes]</th>       <td>   -2.1412</td> <td>    1.558</td> <td>   -1.374</td> <td> 0.169</td> <td>   -5.196</td> <td>    0.914</td>\n",
       "</tr>\n",
       "<tr>\n",
       "  <th>C(constructor_name)[T.RB F1 Team]</th>     <td>    1.9103</td> <td>    4.290</td> <td>    0.445</td> <td> 0.656</td> <td>   -6.502</td> <td>   10.322</td>\n",
       "</tr>\n",
       "<tr>\n",
       "  <th>C(constructor_name)[T.Racing Point]</th>   <td>   -3.6967</td> <td>    1.973</td> <td>   -1.873</td> <td> 0.061</td> <td>   -7.565</td> <td>    0.172</td>\n",
       "</tr>\n",
       "<tr>\n",
       "  <th>C(constructor_name)[T.Red Bull]</th>       <td>   -1.7163</td> <td>    1.543</td> <td>   -1.112</td> <td> 0.266</td> <td>   -4.742</td> <td>    1.309</td>\n",
       "</tr>\n",
       "<tr>\n",
       "  <th>C(constructor_name)[T.Renault]</th>        <td>    0.7045</td> <td>    1.503</td> <td>    0.469</td> <td> 0.639</td> <td>   -2.241</td> <td>    3.650</td>\n",
       "</tr>\n",
       "<tr>\n",
       "  <th>C(constructor_name)[T.Sauber]</th>         <td>    2.4339</td> <td>    1.685</td> <td>    1.444</td> <td> 0.149</td> <td>   -0.871</td> <td>    5.738</td>\n",
       "</tr>\n",
       "<tr>\n",
       "  <th>C(constructor_name)[T.Toro Rosso]</th>     <td>    1.3452</td> <td>    1.614</td> <td>    0.833</td> <td> 0.405</td> <td>   -1.820</td> <td>    4.510</td>\n",
       "</tr>\n",
       "<tr>\n",
       "  <th>C(constructor_name)[T.Williams]</th>       <td>    0.9759</td> <td>    1.310</td> <td>    0.745</td> <td> 0.456</td> <td>   -1.592</td> <td>    3.544</td>\n",
       "</tr>\n",
       "<tr>\n",
       "  <th>year</th>                                  <td>   -0.8881</td> <td>    0.135</td> <td>   -6.592</td> <td> 0.000</td> <td>   -1.152</td> <td>   -0.624</td>\n",
       "</tr>\n",
       "<tr>\n",
       "  <th>race_points</th>                           <td>   -0.0154</td> <td>    0.070</td> <td>   -0.219</td> <td> 0.827</td> <td>   -0.153</td> <td>    0.122</td>\n",
       "</tr>\n",
       "<tr>\n",
       "  <th>race_fastestLapSpeed</th>                  <td>    0.3353</td> <td>    0.005</td> <td>   62.374</td> <td> 0.000</td> <td>    0.325</td> <td>    0.346</td>\n",
       "</tr>\n",
       "<tr>\n",
       "  <th>circuit_altitude</th>                      <td>   -0.0066</td> <td>    0.001</td> <td>  -12.604</td> <td> 0.000</td> <td>   -0.008</td> <td>   -0.006</td>\n",
       "</tr>\n",
       "<tr>\n",
       "  <th>constructor_points</th>                    <td>   -0.0016</td> <td>    0.045</td> <td>   -0.036</td> <td> 0.971</td> <td>   -0.090</td> <td>    0.087</td>\n",
       "</tr>\n",
       "<tr>\n",
       "  <th>q1_complete</th>                           <td>    0.5425</td> <td>    2.392</td> <td>    0.227</td> <td> 0.821</td> <td>   -4.147</td> <td>    5.232</td>\n",
       "</tr>\n",
       "<tr>\n",
       "  <th>q2_complete</th>                           <td>   -0.8827</td> <td>    0.719</td> <td>   -1.228</td> <td> 0.219</td> <td>   -2.292</td> <td>    0.526</td>\n",
       "</tr>\n",
       "<tr>\n",
       "  <th>q3_complete</th>                           <td>   -0.0540</td> <td>    0.697</td> <td>   -0.078</td> <td> 0.938</td> <td>   -1.420</td> <td>    1.312</td>\n",
       "</tr>\n",
       "<tr>\n",
       "  <th>age</th>                                   <td>    0.0359</td> <td>    0.051</td> <td>    0.703</td> <td> 0.482</td> <td>   -0.064</td> <td>    0.136</td>\n",
       "</tr>\n",
       "</table>\n",
       "<table class=\"simpletable\">\n",
       "<tr>\n",
       "  <th>Omnibus:</th>       <td>140.847</td> <th>  Durbin-Watson:     </th> <td>   0.312</td>\n",
       "</tr>\n",
       "<tr>\n",
       "  <th>Prob(Omnibus):</th> <td> 0.000</td>  <th>  Jarque-Bera (JB):  </th> <td> 217.327</td>\n",
       "</tr>\n",
       "<tr>\n",
       "  <th>Skew:</th>          <td> 0.368</td>  <th>  Prob(JB):          </th> <td>6.43e-48</td>\n",
       "</tr>\n",
       "<tr>\n",
       "  <th>Kurtosis:</th>      <td> 3.979</td>  <th>  Cond. No.          </th> <td>2.29e+06</td>\n",
       "</tr>\n",
       "</table><br/><br/>Notes:<br/>[1] Standard Errors assume that the covariance matrix of the errors is correctly specified.<br/>[2] The condition number is large, 2.29e+06. This might indicate that there are<br/>strong multicollinearity or other numerical problems."
      ],
      "text/latex": [
       "\\begin{center}\n",
       "\\begin{tabular}{lclc}\n",
       "\\toprule\n",
       "\\textbf{Dep. Variable:}                         & fastest\\_lap\\_seconds & \\textbf{  R-squared:         } &     0.554   \\\\\n",
       "\\textbf{Model:}                                 &          OLS          & \\textbf{  Adj. R-squared:    } &     0.551   \\\\\n",
       "\\textbf{Method:}                                &     Least Squares     & \\textbf{  F-statistic:       } &     172.0   \\\\\n",
       "\\textbf{Date:}                                  &    Wed, 05 Jun 2024   & \\textbf{  Prob (F-statistic):} &     0.00    \\\\\n",
       "\\textbf{Time:}                                  &        14:19:38       & \\textbf{  Log-Likelihood:    } &   -14207.   \\\\\n",
       "\\textbf{No. Observations:}                      &           3481        & \\textbf{  AIC:               } & 2.847e+04   \\\\\n",
       "\\textbf{Df Residuals:}                          &           3455        & \\textbf{  BIC:               } & 2.863e+04   \\\\\n",
       "\\textbf{Df Model:}                              &             25        & \\textbf{                     } &             \\\\\n",
       "\\textbf{Covariance Type:}                       &       nonrobust       & \\textbf{                     } &             \\\\\n",
       "\\bottomrule\n",
       "\\end{tabular}\n",
       "\\begin{tabular}{lcccccc}\n",
       "                                                & \\textbf{coef} & \\textbf{std err} & \\textbf{t} & \\textbf{P$> |$t$|$} & \\textbf{[0.025} & \\textbf{0.975]}  \\\\\n",
       "\\midrule\n",
       "\\textbf{Intercept}                              &    1813.1687  &      272.999     &     6.642  &         0.000        &     1277.913    &     2348.425     \\\\\n",
       "\\textbf{C(constructor\\_name)[T.AlphaTauri]}     &      -0.7115  &        1.540     &    -0.462  &         0.644        &       -3.731    &        2.308     \\\\\n",
       "\\textbf{C(constructor\\_name)[T.Alpine F1 Team]} &       1.1190  &        1.584     &     0.707  &         0.480        &       -1.986    &        4.224     \\\\\n",
       "\\textbf{C(constructor\\_name)[T.Aston Martin]}   &       0.4834  &        1.576     &     0.307  &         0.759        &       -2.606    &        3.573     \\\\\n",
       "\\textbf{C(constructor\\_name)[T.Ferrari]}        &      -1.6129  &        1.451     &    -1.111  &         0.267        &       -4.459    &        1.233     \\\\\n",
       "\\textbf{C(constructor\\_name)[T.Force India]}    &      -0.4384  &        1.771     &    -0.248  &         0.804        &       -3.910    &        3.033     \\\\\n",
       "\\textbf{C(constructor\\_name)[T.Haas F1 Team]}   &       0.3135  &        1.284     &     0.244  &         0.807        &       -2.204    &        2.831     \\\\\n",
       "\\textbf{C(constructor\\_name)[T.Manor Marussia]} &       6.0260  &        2.578     &     2.337  &         0.019        &        0.971    &       11.081     \\\\\n",
       "\\textbf{C(constructor\\_name)[T.McLaren]}        &       0.0576  &        1.323     &     0.044  &         0.965        &       -2.536    &        2.652     \\\\\n",
       "\\textbf{C(constructor\\_name)[T.Mercedes]}       &      -2.1412  &        1.558     &    -1.374  &         0.169        &       -5.196    &        0.914     \\\\\n",
       "\\textbf{C(constructor\\_name)[T.RB F1 Team]}     &       1.9103  &        4.290     &     0.445  &         0.656        &       -6.502    &       10.322     \\\\\n",
       "\\textbf{C(constructor\\_name)[T.Racing Point]}   &      -3.6967  &        1.973     &    -1.873  &         0.061        &       -7.565    &        0.172     \\\\\n",
       "\\textbf{C(constructor\\_name)[T.Red Bull]}       &      -1.7163  &        1.543     &    -1.112  &         0.266        &       -4.742    &        1.309     \\\\\n",
       "\\textbf{C(constructor\\_name)[T.Renault]}        &       0.7045  &        1.503     &     0.469  &         0.639        &       -2.241    &        3.650     \\\\\n",
       "\\textbf{C(constructor\\_name)[T.Sauber]}         &       2.4339  &        1.685     &     1.444  &         0.149        &       -0.871    &        5.738     \\\\\n",
       "\\textbf{C(constructor\\_name)[T.Toro Rosso]}     &       1.3452  &        1.614     &     0.833  &         0.405        &       -1.820    &        4.510     \\\\\n",
       "\\textbf{C(constructor\\_name)[T.Williams]}       &       0.9759  &        1.310     &     0.745  &         0.456        &       -1.592    &        3.544     \\\\\n",
       "\\textbf{year}                                   &      -0.8881  &        0.135     &    -6.592  &         0.000        &       -1.152    &       -0.624     \\\\\n",
       "\\textbf{race\\_points}                           &      -0.0154  &        0.070     &    -0.219  &         0.827        &       -0.153    &        0.122     \\\\\n",
       "\\textbf{race\\_fastestLapSpeed}                  &       0.3353  &        0.005     &    62.374  &         0.000        &        0.325    &        0.346     \\\\\n",
       "\\textbf{circuit\\_altitude}                      &      -0.0066  &        0.001     &   -12.604  &         0.000        &       -0.008    &       -0.006     \\\\\n",
       "\\textbf{constructor\\_points}                    &      -0.0016  &        0.045     &    -0.036  &         0.971        &       -0.090    &        0.087     \\\\\n",
       "\\textbf{q1\\_complete}                           &       0.5425  &        2.392     &     0.227  &         0.821        &       -4.147    &        5.232     \\\\\n",
       "\\textbf{q2\\_complete}                           &      -0.8827  &        0.719     &    -1.228  &         0.219        &       -2.292    &        0.526     \\\\\n",
       "\\textbf{q3\\_complete}                           &      -0.0540  &        0.697     &    -0.078  &         0.938        &       -1.420    &        1.312     \\\\\n",
       "\\textbf{age}                                    &       0.0359  &        0.051     &     0.703  &         0.482        &       -0.064    &        0.136     \\\\\n",
       "\\bottomrule\n",
       "\\end{tabular}\n",
       "\\begin{tabular}{lclc}\n",
       "\\textbf{Omnibus:}       & 140.847 & \\textbf{  Durbin-Watson:     } &    0.312  \\\\\n",
       "\\textbf{Prob(Omnibus):} &   0.000 & \\textbf{  Jarque-Bera (JB):  } &  217.327  \\\\\n",
       "\\textbf{Skew:}          &   0.368 & \\textbf{  Prob(JB):          } & 6.43e-48  \\\\\n",
       "\\textbf{Kurtosis:}      &   3.979 & \\textbf{  Cond. No.          } & 2.29e+06  \\\\\n",
       "\\bottomrule\n",
       "\\end{tabular}\n",
       "%\\caption{OLS Regression Results}\n",
       "\\end{center}\n",
       "\n",
       "Notes: \\newline\n",
       " [1] Standard Errors assume that the covariance matrix of the errors is correctly specified. \\newline\n",
       " [2] The condition number is large, 2.29e+06. This might indicate that there are \\newline\n",
       " strong multicollinearity or other numerical problems."
      ],
      "text/plain": [
       "<class 'statsmodels.iolib.summary.Summary'>\n",
       "\"\"\"\n",
       "                             OLS Regression Results                            \n",
       "===============================================================================\n",
       "Dep. Variable:     fastest_lap_seconds   R-squared:                       0.554\n",
       "Model:                             OLS   Adj. R-squared:                  0.551\n",
       "Method:                  Least Squares   F-statistic:                     172.0\n",
       "Date:                 Wed, 05 Jun 2024   Prob (F-statistic):               0.00\n",
       "Time:                         14:19:38   Log-Likelihood:                -14207.\n",
       "No. Observations:                 3481   AIC:                         2.847e+04\n",
       "Df Residuals:                     3455   BIC:                         2.863e+04\n",
       "Df Model:                           25                                         \n",
       "Covariance Type:             nonrobust                                         \n",
       "=========================================================================================================\n",
       "                                            coef    std err          t      P>|t|      [0.025      0.975]\n",
       "---------------------------------------------------------------------------------------------------------\n",
       "Intercept                              1813.1687    272.999      6.642      0.000    1277.913    2348.425\n",
       "C(constructor_name)[T.AlphaTauri]        -0.7115      1.540     -0.462      0.644      -3.731       2.308\n",
       "C(constructor_name)[T.Alpine F1 Team]     1.1190      1.584      0.707      0.480      -1.986       4.224\n",
       "C(constructor_name)[T.Aston Martin]       0.4834      1.576      0.307      0.759      -2.606       3.573\n",
       "C(constructor_name)[T.Ferrari]           -1.6129      1.451     -1.111      0.267      -4.459       1.233\n",
       "C(constructor_name)[T.Force India]       -0.4384      1.771     -0.248      0.804      -3.910       3.033\n",
       "C(constructor_name)[T.Haas F1 Team]       0.3135      1.284      0.244      0.807      -2.204       2.831\n",
       "C(constructor_name)[T.Manor Marussia]     6.0260      2.578      2.337      0.019       0.971      11.081\n",
       "C(constructor_name)[T.McLaren]            0.0576      1.323      0.044      0.965      -2.536       2.652\n",
       "C(constructor_name)[T.Mercedes]          -2.1412      1.558     -1.374      0.169      -5.196       0.914\n",
       "C(constructor_name)[T.RB F1 Team]         1.9103      4.290      0.445      0.656      -6.502      10.322\n",
       "C(constructor_name)[T.Racing Point]      -3.6967      1.973     -1.873      0.061      -7.565       0.172\n",
       "C(constructor_name)[T.Red Bull]          -1.7163      1.543     -1.112      0.266      -4.742       1.309\n",
       "C(constructor_name)[T.Renault]            0.7045      1.503      0.469      0.639      -2.241       3.650\n",
       "C(constructor_name)[T.Sauber]             2.4339      1.685      1.444      0.149      -0.871       5.738\n",
       "C(constructor_name)[T.Toro Rosso]         1.3452      1.614      0.833      0.405      -1.820       4.510\n",
       "C(constructor_name)[T.Williams]           0.9759      1.310      0.745      0.456      -1.592       3.544\n",
       "year                                     -0.8881      0.135     -6.592      0.000      -1.152      -0.624\n",
       "race_points                              -0.0154      0.070     -0.219      0.827      -0.153       0.122\n",
       "race_fastestLapSpeed                      0.3353      0.005     62.374      0.000       0.325       0.346\n",
       "circuit_altitude                         -0.0066      0.001    -12.604      0.000      -0.008      -0.006\n",
       "constructor_points                       -0.0016      0.045     -0.036      0.971      -0.090       0.087\n",
       "q1_complete                               0.5425      2.392      0.227      0.821      -4.147       5.232\n",
       "q2_complete                              -0.8827      0.719     -1.228      0.219      -2.292       0.526\n",
       "q3_complete                              -0.0540      0.697     -0.078      0.938      -1.420       1.312\n",
       "age                                       0.0359      0.051      0.703      0.482      -0.064       0.136\n",
       "==============================================================================\n",
       "Omnibus:                      140.847   Durbin-Watson:                   0.312\n",
       "Prob(Omnibus):                  0.000   Jarque-Bera (JB):              217.327\n",
       "Skew:                           0.368   Prob(JB):                     6.43e-48\n",
       "Kurtosis:                       3.979   Cond. No.                     2.29e+06\n",
       "==============================================================================\n",
       "\n",
       "Notes:\n",
       "[1] Standard Errors assume that the covariance matrix of the errors is correctly specified.\n",
       "[2] The condition number is large, 2.29e+06. This might indicate that there are\n",
       "strong multicollinearity or other numerical problems.\n",
       "\"\"\""
      ]
     },
     "execution_count": 453,
     "metadata": {},
     "output_type": "execute_result"
    }
   ],
   "source": [
    "# Importing needed modules\n",
    "from statsmodels.formula.api import ols\n",
    "\n",
    "# Running Model 1:\n",
    "model1 = ols(\"fastest_lap_seconds ~ year + race_points + race_fastestLapSpeed + circuit_altitude + constructor_points + C(constructor_name) +\\\n",
    "             q1_complete + q2_complete + q3_complete + age\", data = df).fit()\n",
    "\n",
    "# look at model summary\n",
    "model1.summary()"
   ]
  },
  {
   "cell_type": "markdown",
   "id": "c854a6bf-9c99-484b-8753-e038c27375f8",
   "metadata": {},
   "source": [
    "Model 1 includes the predictive variables year, race points, race fastest lap speed, circuit altitude, constructor points, constructor name, Q1 Q2 and Q3 complete, and age.\n",
    "\n",
    "The model automatically created dummy variables for Constructor Name. However, since most of the constructor names are not relevant, I will proceed to run another model without this variable."
   ]
  },
  {
   "cell_type": "code",
   "execution_count": 456,
   "id": "00362c1c-3a60-4e09-97b2-8461c118a191",
   "metadata": {
    "tags": []
   },
   "outputs": [
    {
     "data": {
      "text/html": [
       "<table class=\"simpletable\">\n",
       "<caption>OLS Regression Results</caption>\n",
       "<tr>\n",
       "  <th>Dep. Variable:</th>    <td>fastest_lap_seconds</td> <th>  R-squared:         </th> <td>   0.552</td> \n",
       "</tr>\n",
       "<tr>\n",
       "  <th>Model:</th>                    <td>OLS</td>         <th>  Adj. R-squared:    </th> <td>   0.550</td> \n",
       "</tr>\n",
       "<tr>\n",
       "  <th>Method:</th>              <td>Least Squares</td>    <th>  F-statistic:       </th> <td>   474.3</td> \n",
       "</tr>\n",
       "<tr>\n",
       "  <th>Date:</th>              <td>Wed, 05 Jun 2024</td>   <th>  Prob (F-statistic):</th>  <td>  0.00</td>  \n",
       "</tr>\n",
       "<tr>\n",
       "  <th>Time:</th>                  <td>14:19:43</td>       <th>  Log-Likelihood:    </th> <td> -14218.</td> \n",
       "</tr>\n",
       "<tr>\n",
       "  <th>No. Observations:</th>       <td>  3481</td>        <th>  AIC:               </th> <td>2.846e+04</td>\n",
       "</tr>\n",
       "<tr>\n",
       "  <th>Df Residuals:</th>           <td>  3471</td>        <th>  BIC:               </th> <td>2.852e+04</td>\n",
       "</tr>\n",
       "<tr>\n",
       "  <th>Df Model:</th>               <td>     9</td>        <th>                     </th>     <td> </td>    \n",
       "</tr>\n",
       "<tr>\n",
       "  <th>Covariance Type:</th>       <td>nonrobust</td>      <th>                     </th>     <td> </td>    \n",
       "</tr>\n",
       "</table>\n",
       "<table class=\"simpletable\">\n",
       "<tr>\n",
       "            <td></td>              <th>coef</th>     <th>std err</th>      <th>t</th>      <th>P>|t|</th>  <th>[0.025</th>    <th>0.975]</th>  \n",
       "</tr>\n",
       "<tr>\n",
       "  <th>Intercept</th>            <td> 1981.7278</td> <td>  217.685</td> <td>    9.104</td> <td> 0.000</td> <td> 1554.925</td> <td> 2408.530</td>\n",
       "</tr>\n",
       "<tr>\n",
       "  <th>year</th>                 <td>   -0.9711</td> <td>    0.108</td> <td>   -9.028</td> <td> 0.000</td> <td>   -1.182</td> <td>   -0.760</td>\n",
       "</tr>\n",
       "<tr>\n",
       "  <th>race_points</th>          <td>   -0.0158</td> <td>    0.070</td> <td>   -0.226</td> <td> 0.821</td> <td>   -0.153</td> <td>    0.122</td>\n",
       "</tr>\n",
       "<tr>\n",
       "  <th>race_fastestLapSpeed</th> <td>    0.3362</td> <td>    0.005</td> <td>   62.779</td> <td> 0.000</td> <td>    0.326</td> <td>    0.347</td>\n",
       "</tr>\n",
       "<tr>\n",
       "  <th>circuit_altitude</th>     <td>   -0.0066</td> <td>    0.001</td> <td>  -12.635</td> <td> 0.000</td> <td>   -0.008</td> <td>   -0.006</td>\n",
       "</tr>\n",
       "<tr>\n",
       "  <th>constructor_points</th>   <td>   -0.0584</td> <td>    0.039</td> <td>   -1.483</td> <td> 0.138</td> <td>   -0.136</td> <td>    0.019</td>\n",
       "</tr>\n",
       "<tr>\n",
       "  <th>q1_complete</th>          <td>    0.7910</td> <td>    2.389</td> <td>    0.331</td> <td> 0.741</td> <td>   -3.894</td> <td>    5.476</td>\n",
       "</tr>\n",
       "<tr>\n",
       "  <th>q2_complete</th>          <td>   -1.2441</td> <td>    0.695</td> <td>   -1.790</td> <td> 0.073</td> <td>   -2.607</td> <td>    0.118</td>\n",
       "</tr>\n",
       "<tr>\n",
       "  <th>q3_complete</th>          <td>   -0.3609</td> <td>    0.681</td> <td>   -0.530</td> <td> 0.596</td> <td>   -1.697</td> <td>    0.975</td>\n",
       "</tr>\n",
       "<tr>\n",
       "  <th>age</th>                  <td>    0.0196</td> <td>    0.046</td> <td>    0.426</td> <td> 0.670</td> <td>   -0.071</td> <td>    0.110</td>\n",
       "</tr>\n",
       "</table>\n",
       "<table class=\"simpletable\">\n",
       "<tr>\n",
       "  <th>Omnibus:</th>       <td>155.570</td> <th>  Durbin-Watson:     </th> <td>   0.306</td>\n",
       "</tr>\n",
       "<tr>\n",
       "  <th>Prob(Omnibus):</th> <td> 0.000</td>  <th>  Jarque-Bera (JB):  </th> <td> 256.264</td>\n",
       "</tr>\n",
       "<tr>\n",
       "  <th>Skew:</th>          <td> 0.377</td>  <th>  Prob(JB):          </th> <td>2.25e-56</td>\n",
       "</tr>\n",
       "<tr>\n",
       "  <th>Kurtosis:</th>      <td> 4.095</td>  <th>  Cond. No.          </th> <td>1.82e+06</td>\n",
       "</tr>\n",
       "</table><br/><br/>Notes:<br/>[1] Standard Errors assume that the covariance matrix of the errors is correctly specified.<br/>[2] The condition number is large, 1.82e+06. This might indicate that there are<br/>strong multicollinearity or other numerical problems."
      ],
      "text/latex": [
       "\\begin{center}\n",
       "\\begin{tabular}{lclc}\n",
       "\\toprule\n",
       "\\textbf{Dep. Variable:}        & fastest\\_lap\\_seconds & \\textbf{  R-squared:         } &     0.552   \\\\\n",
       "\\textbf{Model:}                &          OLS          & \\textbf{  Adj. R-squared:    } &     0.550   \\\\\n",
       "\\textbf{Method:}               &     Least Squares     & \\textbf{  F-statistic:       } &     474.3   \\\\\n",
       "\\textbf{Date:}                 &    Wed, 05 Jun 2024   & \\textbf{  Prob (F-statistic):} &     0.00    \\\\\n",
       "\\textbf{Time:}                 &        14:19:43       & \\textbf{  Log-Likelihood:    } &   -14218.   \\\\\n",
       "\\textbf{No. Observations:}     &           3481        & \\textbf{  AIC:               } & 2.846e+04   \\\\\n",
       "\\textbf{Df Residuals:}         &           3471        & \\textbf{  BIC:               } & 2.852e+04   \\\\\n",
       "\\textbf{Df Model:}             &              9        & \\textbf{                     } &             \\\\\n",
       "\\textbf{Covariance Type:}      &       nonrobust       & \\textbf{                     } &             \\\\\n",
       "\\bottomrule\n",
       "\\end{tabular}\n",
       "\\begin{tabular}{lcccccc}\n",
       "                               & \\textbf{coef} & \\textbf{std err} & \\textbf{t} & \\textbf{P$> |$t$|$} & \\textbf{[0.025} & \\textbf{0.975]}  \\\\\n",
       "\\midrule\n",
       "\\textbf{Intercept}             &    1981.7278  &      217.685     &     9.104  &         0.000        &     1554.925    &     2408.530     \\\\\n",
       "\\textbf{year}                  &      -0.9711  &        0.108     &    -9.028  &         0.000        &       -1.182    &       -0.760     \\\\\n",
       "\\textbf{race\\_points}          &      -0.0158  &        0.070     &    -0.226  &         0.821        &       -0.153    &        0.122     \\\\\n",
       "\\textbf{race\\_fastestLapSpeed} &       0.3362  &        0.005     &    62.779  &         0.000        &        0.326    &        0.347     \\\\\n",
       "\\textbf{circuit\\_altitude}     &      -0.0066  &        0.001     &   -12.635  &         0.000        &       -0.008    &       -0.006     \\\\\n",
       "\\textbf{constructor\\_points}   &      -0.0584  &        0.039     &    -1.483  &         0.138        &       -0.136    &        0.019     \\\\\n",
       "\\textbf{q1\\_complete}          &       0.7910  &        2.389     &     0.331  &         0.741        &       -3.894    &        5.476     \\\\\n",
       "\\textbf{q2\\_complete}          &      -1.2441  &        0.695     &    -1.790  &         0.073        &       -2.607    &        0.118     \\\\\n",
       "\\textbf{q3\\_complete}          &      -0.3609  &        0.681     &    -0.530  &         0.596        &       -1.697    &        0.975     \\\\\n",
       "\\textbf{age}                   &       0.0196  &        0.046     &     0.426  &         0.670        &       -0.071    &        0.110     \\\\\n",
       "\\bottomrule\n",
       "\\end{tabular}\n",
       "\\begin{tabular}{lclc}\n",
       "\\textbf{Omnibus:}       & 155.570 & \\textbf{  Durbin-Watson:     } &    0.306  \\\\\n",
       "\\textbf{Prob(Omnibus):} &   0.000 & \\textbf{  Jarque-Bera (JB):  } &  256.264  \\\\\n",
       "\\textbf{Skew:}          &   0.377 & \\textbf{  Prob(JB):          } & 2.25e-56  \\\\\n",
       "\\textbf{Kurtosis:}      &   4.095 & \\textbf{  Cond. No.          } & 1.82e+06  \\\\\n",
       "\\bottomrule\n",
       "\\end{tabular}\n",
       "%\\caption{OLS Regression Results}\n",
       "\\end{center}\n",
       "\n",
       "Notes: \\newline\n",
       " [1] Standard Errors assume that the covariance matrix of the errors is correctly specified. \\newline\n",
       " [2] The condition number is large, 1.82e+06. This might indicate that there are \\newline\n",
       " strong multicollinearity or other numerical problems."
      ],
      "text/plain": [
       "<class 'statsmodels.iolib.summary.Summary'>\n",
       "\"\"\"\n",
       "                             OLS Regression Results                            \n",
       "===============================================================================\n",
       "Dep. Variable:     fastest_lap_seconds   R-squared:                       0.552\n",
       "Model:                             OLS   Adj. R-squared:                  0.550\n",
       "Method:                  Least Squares   F-statistic:                     474.3\n",
       "Date:                 Wed, 05 Jun 2024   Prob (F-statistic):               0.00\n",
       "Time:                         14:19:43   Log-Likelihood:                -14218.\n",
       "No. Observations:                 3481   AIC:                         2.846e+04\n",
       "Df Residuals:                     3471   BIC:                         2.852e+04\n",
       "Df Model:                            9                                         \n",
       "Covariance Type:             nonrobust                                         \n",
       "========================================================================================\n",
       "                           coef    std err          t      P>|t|      [0.025      0.975]\n",
       "----------------------------------------------------------------------------------------\n",
       "Intercept             1981.7278    217.685      9.104      0.000    1554.925    2408.530\n",
       "year                    -0.9711      0.108     -9.028      0.000      -1.182      -0.760\n",
       "race_points             -0.0158      0.070     -0.226      0.821      -0.153       0.122\n",
       "race_fastestLapSpeed     0.3362      0.005     62.779      0.000       0.326       0.347\n",
       "circuit_altitude        -0.0066      0.001    -12.635      0.000      -0.008      -0.006\n",
       "constructor_points      -0.0584      0.039     -1.483      0.138      -0.136       0.019\n",
       "q1_complete              0.7910      2.389      0.331      0.741      -3.894       5.476\n",
       "q2_complete             -1.2441      0.695     -1.790      0.073      -2.607       0.118\n",
       "q3_complete             -0.3609      0.681     -0.530      0.596      -1.697       0.975\n",
       "age                      0.0196      0.046      0.426      0.670      -0.071       0.110\n",
       "==============================================================================\n",
       "Omnibus:                      155.570   Durbin-Watson:                   0.306\n",
       "Prob(Omnibus):                  0.000   Jarque-Bera (JB):              256.264\n",
       "Skew:                           0.377   Prob(JB):                     2.25e-56\n",
       "Kurtosis:                       4.095   Cond. No.                     1.82e+06\n",
       "==============================================================================\n",
       "\n",
       "Notes:\n",
       "[1] Standard Errors assume that the covariance matrix of the errors is correctly specified.\n",
       "[2] The condition number is large, 1.82e+06. This might indicate that there are\n",
       "strong multicollinearity or other numerical problems.\n",
       "\"\"\""
      ]
     },
     "execution_count": 456,
     "metadata": {},
     "output_type": "execute_result"
    }
   ],
   "source": [
    "# Running Model 2:\n",
    "model2 = ols(\"fastest_lap_seconds ~ year + race_points + race_fastestLapSpeed + circuit_altitude + constructor_points + q1_complete + q2_complete + q3_complete + age\", data = df).fit()\n",
    "\n",
    "# look at model summary\n",
    "model2.summary()"
   ]
  },
  {
   "cell_type": "markdown",
   "id": "ef51548a-f41d-4278-8f18-680e20ee43d0",
   "metadata": {},
   "source": [
    "Model 2 R-Squared and adjusted R-squared are slightly lower than Model 1. I will run another model getting rid of race points to see if it improves. "
   ]
  },
  {
   "cell_type": "code",
   "execution_count": 459,
   "id": "f3cd1f53-2300-466c-8e2b-81de3ed215f8",
   "metadata": {
    "tags": []
   },
   "outputs": [
    {
     "data": {
      "text/html": [
       "<table class=\"simpletable\">\n",
       "<caption>OLS Regression Results</caption>\n",
       "<tr>\n",
       "  <th>Dep. Variable:</th>    <td>fastest_lap_seconds</td> <th>  R-squared:         </th> <td>   0.552</td> \n",
       "</tr>\n",
       "<tr>\n",
       "  <th>Model:</th>                    <td>OLS</td>         <th>  Adj. R-squared:    </th> <td>   0.550</td> \n",
       "</tr>\n",
       "<tr>\n",
       "  <th>Method:</th>              <td>Least Squares</td>    <th>  F-statistic:       </th> <td>   533.7</td> \n",
       "</tr>\n",
       "<tr>\n",
       "  <th>Date:</th>              <td>Wed, 05 Jun 2024</td>   <th>  Prob (F-statistic):</th>  <td>  0.00</td>  \n",
       "</tr>\n",
       "<tr>\n",
       "  <th>Time:</th>                  <td>14:19:48</td>       <th>  Log-Likelihood:    </th> <td> -14218.</td> \n",
       "</tr>\n",
       "<tr>\n",
       "  <th>No. Observations:</th>       <td>  3481</td>        <th>  AIC:               </th> <td>2.845e+04</td>\n",
       "</tr>\n",
       "<tr>\n",
       "  <th>Df Residuals:</th>           <td>  3472</td>        <th>  BIC:               </th> <td>2.851e+04</td>\n",
       "</tr>\n",
       "<tr>\n",
       "  <th>Df Model:</th>               <td>     8</td>        <th>                     </th>     <td> </td>    \n",
       "</tr>\n",
       "<tr>\n",
       "  <th>Covariance Type:</th>       <td>nonrobust</td>      <th>                     </th>     <td> </td>    \n",
       "</tr>\n",
       "</table>\n",
       "<table class=\"simpletable\">\n",
       "<tr>\n",
       "            <td></td>              <th>coef</th>     <th>std err</th>      <th>t</th>      <th>P>|t|</th>  <th>[0.025</th>    <th>0.975]</th>  \n",
       "</tr>\n",
       "<tr>\n",
       "  <th>Intercept</th>            <td> 1979.1291</td> <td>  217.351</td> <td>    9.106</td> <td> 0.000</td> <td> 1552.980</td> <td> 2405.278</td>\n",
       "</tr>\n",
       "<tr>\n",
       "  <th>year</th>                 <td>   -0.9698</td> <td>    0.107</td> <td>   -9.030</td> <td> 0.000</td> <td>   -1.180</td> <td>   -0.759</td>\n",
       "</tr>\n",
       "<tr>\n",
       "  <th>race_fastestLapSpeed</th> <td>    0.3360</td> <td>    0.005</td> <td>   63.286</td> <td> 0.000</td> <td>    0.326</td> <td>    0.346</td>\n",
       "</tr>\n",
       "<tr>\n",
       "  <th>circuit_altitude</th>     <td>   -0.0066</td> <td>    0.001</td> <td>  -12.636</td> <td> 0.000</td> <td>   -0.008</td> <td>   -0.006</td>\n",
       "</tr>\n",
       "<tr>\n",
       "  <th>constructor_points</th>   <td>   -0.0656</td> <td>    0.023</td> <td>   -2.822</td> <td> 0.005</td> <td>   -0.111</td> <td>   -0.020</td>\n",
       "</tr>\n",
       "<tr>\n",
       "  <th>q1_complete</th>          <td>    0.7887</td> <td>    2.389</td> <td>    0.330</td> <td> 0.741</td> <td>   -3.895</td> <td>    5.473</td>\n",
       "</tr>\n",
       "<tr>\n",
       "  <th>q2_complete</th>          <td>   -1.2447</td> <td>    0.695</td> <td>   -1.792</td> <td> 0.073</td> <td>   -2.607</td> <td>    0.117</td>\n",
       "</tr>\n",
       "<tr>\n",
       "  <th>q3_complete</th>          <td>   -0.3801</td> <td>    0.676</td> <td>   -0.562</td> <td> 0.574</td> <td>   -1.706</td> <td>    0.945</td>\n",
       "</tr>\n",
       "<tr>\n",
       "  <th>age</th>                  <td>    0.0197</td> <td>    0.046</td> <td>    0.429</td> <td> 0.668</td> <td>   -0.071</td> <td>    0.110</td>\n",
       "</tr>\n",
       "</table>\n",
       "<table class=\"simpletable\">\n",
       "<tr>\n",
       "  <th>Omnibus:</th>       <td>155.850</td> <th>  Durbin-Watson:     </th> <td>   0.306</td>\n",
       "</tr>\n",
       "<tr>\n",
       "  <th>Prob(Omnibus):</th> <td> 0.000</td>  <th>  Jarque-Bera (JB):  </th> <td> 256.894</td>\n",
       "</tr>\n",
       "<tr>\n",
       "  <th>Skew:</th>          <td> 0.377</td>  <th>  Prob(JB):          </th> <td>1.64e-56</td>\n",
       "</tr>\n",
       "<tr>\n",
       "  <th>Kurtosis:</th>      <td> 4.096</td>  <th>  Cond. No.          </th> <td>1.82e+06</td>\n",
       "</tr>\n",
       "</table><br/><br/>Notes:<br/>[1] Standard Errors assume that the covariance matrix of the errors is correctly specified.<br/>[2] The condition number is large, 1.82e+06. This might indicate that there are<br/>strong multicollinearity or other numerical problems."
      ],
      "text/latex": [
       "\\begin{center}\n",
       "\\begin{tabular}{lclc}\n",
       "\\toprule\n",
       "\\textbf{Dep. Variable:}        & fastest\\_lap\\_seconds & \\textbf{  R-squared:         } &     0.552   \\\\\n",
       "\\textbf{Model:}                &          OLS          & \\textbf{  Adj. R-squared:    } &     0.550   \\\\\n",
       "\\textbf{Method:}               &     Least Squares     & \\textbf{  F-statistic:       } &     533.7   \\\\\n",
       "\\textbf{Date:}                 &    Wed, 05 Jun 2024   & \\textbf{  Prob (F-statistic):} &     0.00    \\\\\n",
       "\\textbf{Time:}                 &        14:19:48       & \\textbf{  Log-Likelihood:    } &   -14218.   \\\\\n",
       "\\textbf{No. Observations:}     &           3481        & \\textbf{  AIC:               } & 2.845e+04   \\\\\n",
       "\\textbf{Df Residuals:}         &           3472        & \\textbf{  BIC:               } & 2.851e+04   \\\\\n",
       "\\textbf{Df Model:}             &              8        & \\textbf{                     } &             \\\\\n",
       "\\textbf{Covariance Type:}      &       nonrobust       & \\textbf{                     } &             \\\\\n",
       "\\bottomrule\n",
       "\\end{tabular}\n",
       "\\begin{tabular}{lcccccc}\n",
       "                               & \\textbf{coef} & \\textbf{std err} & \\textbf{t} & \\textbf{P$> |$t$|$} & \\textbf{[0.025} & \\textbf{0.975]}  \\\\\n",
       "\\midrule\n",
       "\\textbf{Intercept}             &    1979.1291  &      217.351     &     9.106  &         0.000        &     1552.980    &     2405.278     \\\\\n",
       "\\textbf{year}                  &      -0.9698  &        0.107     &    -9.030  &         0.000        &       -1.180    &       -0.759     \\\\\n",
       "\\textbf{race\\_fastestLapSpeed} &       0.3360  &        0.005     &    63.286  &         0.000        &        0.326    &        0.346     \\\\\n",
       "\\textbf{circuit\\_altitude}     &      -0.0066  &        0.001     &   -12.636  &         0.000        &       -0.008    &       -0.006     \\\\\n",
       "\\textbf{constructor\\_points}   &      -0.0656  &        0.023     &    -2.822  &         0.005        &       -0.111    &       -0.020     \\\\\n",
       "\\textbf{q1\\_complete}          &       0.7887  &        2.389     &     0.330  &         0.741        &       -3.895    &        5.473     \\\\\n",
       "\\textbf{q2\\_complete}          &      -1.2447  &        0.695     &    -1.792  &         0.073        &       -2.607    &        0.117     \\\\\n",
       "\\textbf{q3\\_complete}          &      -0.3801  &        0.676     &    -0.562  &         0.574        &       -1.706    &        0.945     \\\\\n",
       "\\textbf{age}                   &       0.0197  &        0.046     &     0.429  &         0.668        &       -0.071    &        0.110     \\\\\n",
       "\\bottomrule\n",
       "\\end{tabular}\n",
       "\\begin{tabular}{lclc}\n",
       "\\textbf{Omnibus:}       & 155.850 & \\textbf{  Durbin-Watson:     } &    0.306  \\\\\n",
       "\\textbf{Prob(Omnibus):} &   0.000 & \\textbf{  Jarque-Bera (JB):  } &  256.894  \\\\\n",
       "\\textbf{Skew:}          &   0.377 & \\textbf{  Prob(JB):          } & 1.64e-56  \\\\\n",
       "\\textbf{Kurtosis:}      &   4.096 & \\textbf{  Cond. No.          } & 1.82e+06  \\\\\n",
       "\\bottomrule\n",
       "\\end{tabular}\n",
       "%\\caption{OLS Regression Results}\n",
       "\\end{center}\n",
       "\n",
       "Notes: \\newline\n",
       " [1] Standard Errors assume that the covariance matrix of the errors is correctly specified. \\newline\n",
       " [2] The condition number is large, 1.82e+06. This might indicate that there are \\newline\n",
       " strong multicollinearity or other numerical problems."
      ],
      "text/plain": [
       "<class 'statsmodels.iolib.summary.Summary'>\n",
       "\"\"\"\n",
       "                             OLS Regression Results                            \n",
       "===============================================================================\n",
       "Dep. Variable:     fastest_lap_seconds   R-squared:                       0.552\n",
       "Model:                             OLS   Adj. R-squared:                  0.550\n",
       "Method:                  Least Squares   F-statistic:                     533.7\n",
       "Date:                 Wed, 05 Jun 2024   Prob (F-statistic):               0.00\n",
       "Time:                         14:19:48   Log-Likelihood:                -14218.\n",
       "No. Observations:                 3481   AIC:                         2.845e+04\n",
       "Df Residuals:                     3472   BIC:                         2.851e+04\n",
       "Df Model:                            8                                         \n",
       "Covariance Type:             nonrobust                                         \n",
       "========================================================================================\n",
       "                           coef    std err          t      P>|t|      [0.025      0.975]\n",
       "----------------------------------------------------------------------------------------\n",
       "Intercept             1979.1291    217.351      9.106      0.000    1552.980    2405.278\n",
       "year                    -0.9698      0.107     -9.030      0.000      -1.180      -0.759\n",
       "race_fastestLapSpeed     0.3360      0.005     63.286      0.000       0.326       0.346\n",
       "circuit_altitude        -0.0066      0.001    -12.636      0.000      -0.008      -0.006\n",
       "constructor_points      -0.0656      0.023     -2.822      0.005      -0.111      -0.020\n",
       "q1_complete              0.7887      2.389      0.330      0.741      -3.895       5.473\n",
       "q2_complete             -1.2447      0.695     -1.792      0.073      -2.607       0.117\n",
       "q3_complete             -0.3801      0.676     -0.562      0.574      -1.706       0.945\n",
       "age                      0.0197      0.046      0.429      0.668      -0.071       0.110\n",
       "==============================================================================\n",
       "Omnibus:                      155.850   Durbin-Watson:                   0.306\n",
       "Prob(Omnibus):                  0.000   Jarque-Bera (JB):              256.894\n",
       "Skew:                           0.377   Prob(JB):                     1.64e-56\n",
       "Kurtosis:                       4.096   Cond. No.                     1.82e+06\n",
       "==============================================================================\n",
       "\n",
       "Notes:\n",
       "[1] Standard Errors assume that the covariance matrix of the errors is correctly specified.\n",
       "[2] The condition number is large, 1.82e+06. This might indicate that there are\n",
       "strong multicollinearity or other numerical problems.\n",
       "\"\"\""
      ]
     },
     "execution_count": 459,
     "metadata": {},
     "output_type": "execute_result"
    }
   ],
   "source": [
    "# Running Model 3:\n",
    "model3 = ols(\"fastest_lap_seconds ~ year + race_fastestLapSpeed + circuit_altitude + constructor_points + q1_complete + q2_complete + q3_complete + age\", data = df).fit()\n",
    "\n",
    "# look at model summary\n",
    "model3.summary()"
   ]
  },
  {
   "cell_type": "markdown",
   "id": "929adfec-a9ff-441f-8314-da2ba13f28c0",
   "metadata": {},
   "source": [
    "Model did not improve by taking out variable race points."
   ]
  },
  {
   "cell_type": "code",
   "execution_count": 462,
   "id": "5190c91c-5e2d-49e9-8213-dbb3be439dcb",
   "metadata": {
    "tags": []
   },
   "outputs": [
    {
     "data": {
      "text/html": [
       "<table class=\"simpletable\">\n",
       "<caption>OLS Regression Results</caption>\n",
       "<tr>\n",
       "  <th>Dep. Variable:</th>    <td>fastest_lap_seconds</td> <th>  R-squared:         </th> <td>   0.551</td> \n",
       "</tr>\n",
       "<tr>\n",
       "  <th>Model:</th>                    <td>OLS</td>         <th>  Adj. R-squared:    </th> <td>   0.551</td> \n",
       "</tr>\n",
       "<tr>\n",
       "  <th>Method:</th>              <td>Least Squares</td>    <th>  F-statistic:       </th> <td>   610.0</td> \n",
       "</tr>\n",
       "<tr>\n",
       "  <th>Date:</th>              <td>Wed, 05 Jun 2024</td>   <th>  Prob (F-statistic):</th>  <td>  0.00</td>  \n",
       "</tr>\n",
       "<tr>\n",
       "  <th>Time:</th>                  <td>14:19:51</td>       <th>  Log-Likelihood:    </th> <td> -14219.</td> \n",
       "</tr>\n",
       "<tr>\n",
       "  <th>No. Observations:</th>       <td>  3481</td>        <th>  AIC:               </th> <td>2.845e+04</td>\n",
       "</tr>\n",
       "<tr>\n",
       "  <th>Df Residuals:</th>           <td>  3473</td>        <th>  BIC:               </th> <td>2.850e+04</td>\n",
       "</tr>\n",
       "<tr>\n",
       "  <th>Df Model:</th>               <td>     7</td>        <th>                     </th>     <td> </td>    \n",
       "</tr>\n",
       "<tr>\n",
       "  <th>Covariance Type:</th>       <td>nonrobust</td>      <th>                     </th>     <td> </td>    \n",
       "</tr>\n",
       "</table>\n",
       "<table class=\"simpletable\">\n",
       "<tr>\n",
       "            <td></td>              <th>coef</th>     <th>std err</th>      <th>t</th>      <th>P>|t|</th>  <th>[0.025</th>    <th>0.975]</th>  \n",
       "</tr>\n",
       "<tr>\n",
       "  <th>Intercept</th>            <td> 2012.7289</td> <td>  202.703</td> <td>    9.929</td> <td> 0.000</td> <td> 1615.301</td> <td> 2410.157</td>\n",
       "</tr>\n",
       "<tr>\n",
       "  <th>year</th>                 <td>   -0.9862</td> <td>    0.100</td> <td>   -9.824</td> <td> 0.000</td> <td>   -1.183</td> <td>   -0.789</td>\n",
       "</tr>\n",
       "<tr>\n",
       "  <th>race_fastestLapSpeed</th> <td>    0.3361</td> <td>    0.005</td> <td>   63.316</td> <td> 0.000</td> <td>    0.326</td> <td>    0.346</td>\n",
       "</tr>\n",
       "<tr>\n",
       "  <th>circuit_altitude</th>     <td>   -0.0066</td> <td>    0.001</td> <td>  -12.638</td> <td> 0.000</td> <td>   -0.008</td> <td>   -0.006</td>\n",
       "</tr>\n",
       "<tr>\n",
       "  <th>constructor_points</th>   <td>   -0.0647</td> <td>    0.023</td> <td>   -2.795</td> <td> 0.005</td> <td>   -0.110</td> <td>   -0.019</td>\n",
       "</tr>\n",
       "<tr>\n",
       "  <th>q1_complete</th>          <td>    0.7904</td> <td>    2.389</td> <td>    0.331</td> <td> 0.741</td> <td>   -3.893</td> <td>    5.474</td>\n",
       "</tr>\n",
       "<tr>\n",
       "  <th>q2_complete</th>          <td>   -1.2254</td> <td>    0.693</td> <td>   -1.768</td> <td> 0.077</td> <td>   -2.585</td> <td>    0.134</td>\n",
       "</tr>\n",
       "<tr>\n",
       "  <th>q3_complete</th>          <td>   -0.3781</td> <td>    0.676</td> <td>   -0.559</td> <td> 0.576</td> <td>   -1.703</td> <td>    0.947</td>\n",
       "</tr>\n",
       "</table>\n",
       "<table class=\"simpletable\">\n",
       "<tr>\n",
       "  <th>Omnibus:</th>       <td>155.530</td> <th>  Durbin-Watson:     </th> <td>   0.306</td>\n",
       "</tr>\n",
       "<tr>\n",
       "  <th>Prob(Omnibus):</th> <td> 0.000</td>  <th>  Jarque-Bera (JB):  </th> <td> 256.091</td>\n",
       "</tr>\n",
       "<tr>\n",
       "  <th>Skew:</th>          <td> 0.377</td>  <th>  Prob(JB):          </th> <td>2.46e-56</td>\n",
       "</tr>\n",
       "<tr>\n",
       "  <th>Kurtosis:</th>      <td> 4.094</td>  <th>  Cond. No.          </th> <td>1.70e+06</td>\n",
       "</tr>\n",
       "</table><br/><br/>Notes:<br/>[1] Standard Errors assume that the covariance matrix of the errors is correctly specified.<br/>[2] The condition number is large, 1.7e+06. This might indicate that there are<br/>strong multicollinearity or other numerical problems."
      ],
      "text/latex": [
       "\\begin{center}\n",
       "\\begin{tabular}{lclc}\n",
       "\\toprule\n",
       "\\textbf{Dep. Variable:}        & fastest\\_lap\\_seconds & \\textbf{  R-squared:         } &     0.551   \\\\\n",
       "\\textbf{Model:}                &          OLS          & \\textbf{  Adj. R-squared:    } &     0.551   \\\\\n",
       "\\textbf{Method:}               &     Least Squares     & \\textbf{  F-statistic:       } &     610.0   \\\\\n",
       "\\textbf{Date:}                 &    Wed, 05 Jun 2024   & \\textbf{  Prob (F-statistic):} &     0.00    \\\\\n",
       "\\textbf{Time:}                 &        14:19:51       & \\textbf{  Log-Likelihood:    } &   -14219.   \\\\\n",
       "\\textbf{No. Observations:}     &           3481        & \\textbf{  AIC:               } & 2.845e+04   \\\\\n",
       "\\textbf{Df Residuals:}         &           3473        & \\textbf{  BIC:               } & 2.850e+04   \\\\\n",
       "\\textbf{Df Model:}             &              7        & \\textbf{                     } &             \\\\\n",
       "\\textbf{Covariance Type:}      &       nonrobust       & \\textbf{                     } &             \\\\\n",
       "\\bottomrule\n",
       "\\end{tabular}\n",
       "\\begin{tabular}{lcccccc}\n",
       "                               & \\textbf{coef} & \\textbf{std err} & \\textbf{t} & \\textbf{P$> |$t$|$} & \\textbf{[0.025} & \\textbf{0.975]}  \\\\\n",
       "\\midrule\n",
       "\\textbf{Intercept}             &    2012.7289  &      202.703     &     9.929  &         0.000        &     1615.301    &     2410.157     \\\\\n",
       "\\textbf{year}                  &      -0.9862  &        0.100     &    -9.824  &         0.000        &       -1.183    &       -0.789     \\\\\n",
       "\\textbf{race\\_fastestLapSpeed} &       0.3361  &        0.005     &    63.316  &         0.000        &        0.326    &        0.346     \\\\\n",
       "\\textbf{circuit\\_altitude}     &      -0.0066  &        0.001     &   -12.638  &         0.000        &       -0.008    &       -0.006     \\\\\n",
       "\\textbf{constructor\\_points}   &      -0.0647  &        0.023     &    -2.795  &         0.005        &       -0.110    &       -0.019     \\\\\n",
       "\\textbf{q1\\_complete}          &       0.7904  &        2.389     &     0.331  &         0.741        &       -3.893    &        5.474     \\\\\n",
       "\\textbf{q2\\_complete}          &      -1.2254  &        0.693     &    -1.768  &         0.077        &       -2.585    &        0.134     \\\\\n",
       "\\textbf{q3\\_complete}          &      -0.3781  &        0.676     &    -0.559  &         0.576        &       -1.703    &        0.947     \\\\\n",
       "\\bottomrule\n",
       "\\end{tabular}\n",
       "\\begin{tabular}{lclc}\n",
       "\\textbf{Omnibus:}       & 155.530 & \\textbf{  Durbin-Watson:     } &    0.306  \\\\\n",
       "\\textbf{Prob(Omnibus):} &   0.000 & \\textbf{  Jarque-Bera (JB):  } &  256.091  \\\\\n",
       "\\textbf{Skew:}          &   0.377 & \\textbf{  Prob(JB):          } & 2.46e-56  \\\\\n",
       "\\textbf{Kurtosis:}      &   4.094 & \\textbf{  Cond. No.          } & 1.70e+06  \\\\\n",
       "\\bottomrule\n",
       "\\end{tabular}\n",
       "%\\caption{OLS Regression Results}\n",
       "\\end{center}\n",
       "\n",
       "Notes: \\newline\n",
       " [1] Standard Errors assume that the covariance matrix of the errors is correctly specified. \\newline\n",
       " [2] The condition number is large, 1.7e+06. This might indicate that there are \\newline\n",
       " strong multicollinearity or other numerical problems."
      ],
      "text/plain": [
       "<class 'statsmodels.iolib.summary.Summary'>\n",
       "\"\"\"\n",
       "                             OLS Regression Results                            \n",
       "===============================================================================\n",
       "Dep. Variable:     fastest_lap_seconds   R-squared:                       0.551\n",
       "Model:                             OLS   Adj. R-squared:                  0.551\n",
       "Method:                  Least Squares   F-statistic:                     610.0\n",
       "Date:                 Wed, 05 Jun 2024   Prob (F-statistic):               0.00\n",
       "Time:                         14:19:51   Log-Likelihood:                -14219.\n",
       "No. Observations:                 3481   AIC:                         2.845e+04\n",
       "Df Residuals:                     3473   BIC:                         2.850e+04\n",
       "Df Model:                            7                                         \n",
       "Covariance Type:             nonrobust                                         \n",
       "========================================================================================\n",
       "                           coef    std err          t      P>|t|      [0.025      0.975]\n",
       "----------------------------------------------------------------------------------------\n",
       "Intercept             2012.7289    202.703      9.929      0.000    1615.301    2410.157\n",
       "year                    -0.9862      0.100     -9.824      0.000      -1.183      -0.789\n",
       "race_fastestLapSpeed     0.3361      0.005     63.316      0.000       0.326       0.346\n",
       "circuit_altitude        -0.0066      0.001    -12.638      0.000      -0.008      -0.006\n",
       "constructor_points      -0.0647      0.023     -2.795      0.005      -0.110      -0.019\n",
       "q1_complete              0.7904      2.389      0.331      0.741      -3.893       5.474\n",
       "q2_complete             -1.2254      0.693     -1.768      0.077      -2.585       0.134\n",
       "q3_complete             -0.3781      0.676     -0.559      0.576      -1.703       0.947\n",
       "==============================================================================\n",
       "Omnibus:                      155.530   Durbin-Watson:                   0.306\n",
       "Prob(Omnibus):                  0.000   Jarque-Bera (JB):              256.091\n",
       "Skew:                           0.377   Prob(JB):                     2.46e-56\n",
       "Kurtosis:                       4.094   Cond. No.                     1.70e+06\n",
       "==============================================================================\n",
       "\n",
       "Notes:\n",
       "[1] Standard Errors assume that the covariance matrix of the errors is correctly specified.\n",
       "[2] The condition number is large, 1.7e+06. This might indicate that there are\n",
       "strong multicollinearity or other numerical problems.\n",
       "\"\"\""
      ]
     },
     "execution_count": 462,
     "metadata": {},
     "output_type": "execute_result"
    }
   ],
   "source": [
    "# Running Model 4:\n",
    "model4 = ols(\"fastest_lap_seconds ~ year + race_fastestLapSpeed + circuit_altitude + constructor_points + q1_complete + q2_complete + q3_complete\", data = df).fit()\n",
    "\n",
    "# look at model summary\n",
    "model4.summary()"
   ]
  },
  {
   "cell_type": "markdown",
   "id": "debd4c63-a654-4ef7-8a35-f8a727ffebc2",
   "metadata": {},
   "source": [
    "Model 4 confirms that the more variables we take out, the worst the model performs, even if the variables are insignificant. Model 1 was the best model, but it still only explains 55% of the vartiation in Fastest Lap Seconds. Hence, this model is not good at predicting the number of seconds. "
   ]
  },
  {
   "cell_type": "markdown",
   "id": "d9ca3f7d-3ce0-4a0f-a9b6-97ab3c7eace5",
   "metadata": {},
   "source": [
    "# LMM"
   ]
  },
  {
   "cell_type": "code",
   "execution_count": 466,
   "id": "e7c7217d-86cf-4501-9b6d-fb07940c474b",
   "metadata": {
    "tags": []
   },
   "outputs": [],
   "source": [
    "import researchpy as rp\n",
    "import statsmodels.api as sm\n",
    "from statsmodels.regression.mixed_linear_model import MixedLM\n",
    "import scipy.stats as stats"
   ]
  },
  {
   "cell_type": "code",
   "execution_count": 468,
   "id": "3019c08a-425f-4201-a761-d4ec0bffdd45",
   "metadata": {
    "tags": []
   },
   "outputs": [],
   "source": [
    "df_lmm = pd.read_csv(\"F1_EDA_complete.csv\")"
   ]
  },
  {
   "cell_type": "code",
   "execution_count": 470,
   "id": "ac44b0bb-5c48-417f-9c69-405abc4c84d8",
   "metadata": {
    "scrolled": true,
    "tags": []
   },
   "outputs": [
    {
     "name": "stdout",
     "output_type": "stream",
     "text": [
      "      raceId  year  circuitId              race_name  driverId  constructorId  \\\n",
      "0        948  2016          1  Australian Grand Prix         3            131   \n",
      "1        948  2016          1  Australian Grand Prix         1            131   \n",
      "2        948  2016          1  Australian Grand Prix        20              6   \n",
      "3        948  2016          1  Australian Grand Prix       817              9   \n",
      "4        948  2016          1  Australian Grand Prix        13              3   \n",
      "...      ...   ...        ...                    ...       ...            ...   \n",
      "3476    1126  2024         79       Miami Grand Prix       822             15   \n",
      "3477    1126  2024         79       Miami Grand Prix       840            117   \n",
      "3478    1126  2024         79       Miami Grand Prix       848              3   \n",
      "3479    1126  2024         79       Miami Grand Prix       825            210   \n",
      "3480    1126  2024         79       Miami Grand Prix       858              3   \n",
      "\n",
      "      race_points race_fastestLapTime  race_fastestLapSpeed         dob  ...  \\\n",
      "0            25.0      5/29/2024 1:30               210.815   6/27/1985  ...   \n",
      "1            18.0      5/29/2024 1:30               210.608    1/7/1985  ...   \n",
      "2            15.0      5/29/2024 1:29               212.235    7/3/1987  ...   \n",
      "3            12.0      5/29/2024 1:28               214.510    7/1/1989  ...   \n",
      "4            10.0      5/29/2024 1:32               206.861   4/25/1981  ...   \n",
      "...           ...                 ...                   ...         ...  ...   \n",
      "3476          0.0      5/29/2024 1:32               211.548   8/28/1989  ...   \n",
      "3477          0.0      5/29/2024 1:31               212.726  10/29/1998  ...   \n",
      "3478          0.0      5/29/2024 1:30               214.456   3/23/1996  ...   \n",
      "3479          0.0      5/29/2024 1:31               212.295   10/5/1992  ...   \n",
      "3480          0.0      5/29/2024 1:33               208.483  12/31/2000  ...   \n",
      "\n",
      "      constructor_points constructor_name  q1_complete  q2_complete  \\\n",
      "0                   43.0         Mercedes          Yes            1   \n",
      "1                   43.0         Mercedes          Yes            1   \n",
      "2                   15.0          Ferrari          Yes            1   \n",
      "3                   12.0         Red Bull          Yes            1   \n",
      "4                   14.0         Williams          Yes            1   \n",
      "...                  ...              ...          ...          ...   \n",
      "3476                 0.0           Sauber          Yes            0   \n",
      "3477                 2.0     Aston Martin          Yes            1   \n",
      "3478                 0.0         Williams          Yes            1   \n",
      "3479                 2.0     Haas F1 Team          Yes            0   \n",
      "3480                 0.0         Williams          Yes            0   \n",
      "\n",
      "     q3_complete age       driver_name  lap_minutes  lap_seconds  \\\n",
      "0              1  38      Nico Rosberg            1           30   \n",
      "1              1  39    Lewis Hamilton            1           30   \n",
      "2              1  36  Sebastian Vettel            1           29   \n",
      "3              1  34  Daniel Ricciardo            1           28   \n",
      "4              1  43      Felipe Massa            1           32   \n",
      "...          ...  ..               ...          ...          ...   \n",
      "3476           0  34   Valtteri Bottas            1           32   \n",
      "3477           0  25      Lance Stroll            1           31   \n",
      "3478           0  28   Alexander Albon            1           30   \n",
      "3479           0  31   Kevin Magnussen            1           31   \n",
      "3480           0  23    Logan Sargeant            1           33   \n",
      "\n",
      "     fastest_lap_seconds  \n",
      "0                     90  \n",
      "1                     90  \n",
      "2                     89  \n",
      "3                     88  \n",
      "4                     92  \n",
      "...                  ...  \n",
      "3476                  92  \n",
      "3477                  91  \n",
      "3478                  90  \n",
      "3479                  91  \n",
      "3480                  93  \n",
      "\n",
      "[3481 rows x 23 columns]\n"
     ]
    }
   ],
   "source": [
    "# Convert q1_complete binary to 'Yes'/'No'\n",
    "df_lmm['q1_complete'] = df_lmm['q1_complete'].map({0: 'No', 1: 'Yes'})\n",
    "\n",
    "print(df_lmm)"
   ]
  },
  {
   "cell_type": "code",
   "execution_count": 472,
   "id": "d347efd5-6025-4e88-9dce-976db417afc3",
   "metadata": {
    "scrolled": true,
    "tags": []
   },
   "outputs": [
    {
     "name": "stdout",
     "output_type": "stream",
     "text": [
      "      raceId  year  circuitId              race_name  driverId  constructorId  \\\n",
      "0        948  2016          1  Australian Grand Prix         3            131   \n",
      "1        948  2016          1  Australian Grand Prix         1            131   \n",
      "2        948  2016          1  Australian Grand Prix        20              6   \n",
      "3        948  2016          1  Australian Grand Prix       817              9   \n",
      "4        948  2016          1  Australian Grand Prix        13              3   \n",
      "...      ...   ...        ...                    ...       ...            ...   \n",
      "3476    1126  2024         79       Miami Grand Prix       822             15   \n",
      "3477    1126  2024         79       Miami Grand Prix       840            117   \n",
      "3478    1126  2024         79       Miami Grand Prix       848              3   \n",
      "3479    1126  2024         79       Miami Grand Prix       825            210   \n",
      "3480    1126  2024         79       Miami Grand Prix       858              3   \n",
      "\n",
      "      race_points race_fastestLapTime  race_fastestLapSpeed         dob  ...  \\\n",
      "0            25.0      5/29/2024 1:30               210.815   6/27/1985  ...   \n",
      "1            18.0      5/29/2024 1:30               210.608    1/7/1985  ...   \n",
      "2            15.0      5/29/2024 1:29               212.235    7/3/1987  ...   \n",
      "3            12.0      5/29/2024 1:28               214.510    7/1/1989  ...   \n",
      "4            10.0      5/29/2024 1:32               206.861   4/25/1981  ...   \n",
      "...           ...                 ...                   ...         ...  ...   \n",
      "3476          0.0      5/29/2024 1:32               211.548   8/28/1989  ...   \n",
      "3477          0.0      5/29/2024 1:31               212.726  10/29/1998  ...   \n",
      "3478          0.0      5/29/2024 1:30               214.456   3/23/1996  ...   \n",
      "3479          0.0      5/29/2024 1:31               212.295   10/5/1992  ...   \n",
      "3480          0.0      5/29/2024 1:33               208.483  12/31/2000  ...   \n",
      "\n",
      "      constructor_points constructor_name  q1_complete  q2_complete  \\\n",
      "0                   43.0         Mercedes          Yes          Yes   \n",
      "1                   43.0         Mercedes          Yes          Yes   \n",
      "2                   15.0          Ferrari          Yes          Yes   \n",
      "3                   12.0         Red Bull          Yes          Yes   \n",
      "4                   14.0         Williams          Yes          Yes   \n",
      "...                  ...              ...          ...          ...   \n",
      "3476                 0.0           Sauber          Yes           No   \n",
      "3477                 2.0     Aston Martin          Yes          Yes   \n",
      "3478                 0.0         Williams          Yes          Yes   \n",
      "3479                 2.0     Haas F1 Team          Yes           No   \n",
      "3480                 0.0         Williams          Yes           No   \n",
      "\n",
      "     q3_complete age       driver_name  lap_minutes  lap_seconds  \\\n",
      "0              1  38      Nico Rosberg            1           30   \n",
      "1              1  39    Lewis Hamilton            1           30   \n",
      "2              1  36  Sebastian Vettel            1           29   \n",
      "3              1  34  Daniel Ricciardo            1           28   \n",
      "4              1  43      Felipe Massa            1           32   \n",
      "...          ...  ..               ...          ...          ...   \n",
      "3476           0  34   Valtteri Bottas            1           32   \n",
      "3477           0  25      Lance Stroll            1           31   \n",
      "3478           0  28   Alexander Albon            1           30   \n",
      "3479           0  31   Kevin Magnussen            1           31   \n",
      "3480           0  23    Logan Sargeant            1           33   \n",
      "\n",
      "     fastest_lap_seconds  \n",
      "0                     90  \n",
      "1                     90  \n",
      "2                     89  \n",
      "3                     88  \n",
      "4                     92  \n",
      "...                  ...  \n",
      "3476                  92  \n",
      "3477                  91  \n",
      "3478                  90  \n",
      "3479                  91  \n",
      "3480                  93  \n",
      "\n",
      "[3481 rows x 23 columns]\n"
     ]
    }
   ],
   "source": [
    "# Convert q2_complete binary to 'Yes'/'No'\n",
    "df_lmm['q2_complete'] = df_lmm['q2_complete'].map({0: 'No', 1: 'Yes'})\n",
    "\n",
    "print(df_lmm)"
   ]
  },
  {
   "cell_type": "code",
   "execution_count": 474,
   "id": "131e760a-696d-4d43-919d-ac36740a72b6",
   "metadata": {
    "scrolled": true,
    "tags": []
   },
   "outputs": [
    {
     "name": "stdout",
     "output_type": "stream",
     "text": [
      "      raceId  year  circuitId              race_name  driverId  constructorId  \\\n",
      "0        948  2016          1  Australian Grand Prix         3            131   \n",
      "1        948  2016          1  Australian Grand Prix         1            131   \n",
      "2        948  2016          1  Australian Grand Prix        20              6   \n",
      "3        948  2016          1  Australian Grand Prix       817              9   \n",
      "4        948  2016          1  Australian Grand Prix        13              3   \n",
      "...      ...   ...        ...                    ...       ...            ...   \n",
      "3476    1126  2024         79       Miami Grand Prix       822             15   \n",
      "3477    1126  2024         79       Miami Grand Prix       840            117   \n",
      "3478    1126  2024         79       Miami Grand Prix       848              3   \n",
      "3479    1126  2024         79       Miami Grand Prix       825            210   \n",
      "3480    1126  2024         79       Miami Grand Prix       858              3   \n",
      "\n",
      "      race_points race_fastestLapTime  race_fastestLapSpeed         dob  ...  \\\n",
      "0            25.0      5/29/2024 1:30               210.815   6/27/1985  ...   \n",
      "1            18.0      5/29/2024 1:30               210.608    1/7/1985  ...   \n",
      "2            15.0      5/29/2024 1:29               212.235    7/3/1987  ...   \n",
      "3            12.0      5/29/2024 1:28               214.510    7/1/1989  ...   \n",
      "4            10.0      5/29/2024 1:32               206.861   4/25/1981  ...   \n",
      "...           ...                 ...                   ...         ...  ...   \n",
      "3476          0.0      5/29/2024 1:32               211.548   8/28/1989  ...   \n",
      "3477          0.0      5/29/2024 1:31               212.726  10/29/1998  ...   \n",
      "3478          0.0      5/29/2024 1:30               214.456   3/23/1996  ...   \n",
      "3479          0.0      5/29/2024 1:31               212.295   10/5/1992  ...   \n",
      "3480          0.0      5/29/2024 1:33               208.483  12/31/2000  ...   \n",
      "\n",
      "      constructor_points constructor_name  q1_complete  q2_complete  \\\n",
      "0                   43.0         Mercedes          Yes          Yes   \n",
      "1                   43.0         Mercedes          Yes          Yes   \n",
      "2                   15.0          Ferrari          Yes          Yes   \n",
      "3                   12.0         Red Bull          Yes          Yes   \n",
      "4                   14.0         Williams          Yes          Yes   \n",
      "...                  ...              ...          ...          ...   \n",
      "3476                 0.0           Sauber          Yes           No   \n",
      "3477                 2.0     Aston Martin          Yes          Yes   \n",
      "3478                 0.0         Williams          Yes          Yes   \n",
      "3479                 2.0     Haas F1 Team          Yes           No   \n",
      "3480                 0.0         Williams          Yes           No   \n",
      "\n",
      "     q3_complete age       driver_name lap_minutes  lap_seconds  \\\n",
      "0            Yes  38      Nico Rosberg           1           30   \n",
      "1            Yes  39    Lewis Hamilton           1           30   \n",
      "2            Yes  36  Sebastian Vettel           1           29   \n",
      "3            Yes  34  Daniel Ricciardo           1           28   \n",
      "4            Yes  43      Felipe Massa           1           32   \n",
      "...          ...  ..               ...         ...          ...   \n",
      "3476          No  34   Valtteri Bottas           1           32   \n",
      "3477          No  25      Lance Stroll           1           31   \n",
      "3478          No  28   Alexander Albon           1           30   \n",
      "3479          No  31   Kevin Magnussen           1           31   \n",
      "3480          No  23    Logan Sargeant           1           33   \n",
      "\n",
      "     fastest_lap_seconds  \n",
      "0                     90  \n",
      "1                     90  \n",
      "2                     89  \n",
      "3                     88  \n",
      "4                     92  \n",
      "...                  ...  \n",
      "3476                  92  \n",
      "3477                  91  \n",
      "3478                  90  \n",
      "3479                  91  \n",
      "3480                  93  \n",
      "\n",
      "[3481 rows x 23 columns]\n"
     ]
    }
   ],
   "source": [
    "# Convert q3_complete binary to 'Yes'/'No'\n",
    "df_lmm['q3_complete'] = df_lmm['q3_complete'].map({0: 'No', 1: 'Yes'})\n",
    "\n",
    "print(df_lmm)"
   ]
  },
  {
   "cell_type": "code",
   "execution_count": 476,
   "id": "f52e964f-7a09-4c25-8d56-b99598c9db76",
   "metadata": {
    "tags": []
   },
   "outputs": [],
   "source": [
    "# import methods for running LMMs from statsmodels\n",
    "import statsmodels.formula.api as smf"
   ]
  },
  {
   "cell_type": "markdown",
   "id": "a8c4c148-7c02-4cad-886e-4d3d1ef23f26",
   "metadata": {},
   "source": [
    "## ICC "
   ]
  },
  {
   "cell_type": "code",
   "execution_count": 479,
   "id": "79860b2a-66c0-4f75-be6c-d1d77b2491e2",
   "metadata": {
    "tags": []
   },
   "outputs": [],
   "source": [
    "import statsmodels.formula.api as smf\n",
    "formula = 'race_points ~ 1'\n",
    "null_model = smf.mixedlm(formula, data=df_lmm, groups='constructor_name')\n",
    "null_results = null_model.fit()"
   ]
  },
  {
   "cell_type": "code",
   "execution_count": 481,
   "id": "a1645b28-1f96-4e79-8957-3bb10db97510",
   "metadata": {
    "tags": []
   },
   "outputs": [
    {
     "data": {
      "text/html": [
       "<table class=\"simpletable\">\n",
       "<tr>\n",
       "       <td>Model:</td>       <td>MixedLM</td> <td>Dependent Variable:</td> <td>race_points</td>\n",
       "</tr>\n",
       "<tr>\n",
       "  <td>No. Observations:</td>  <td>3481</td>         <td>Method:</td>          <td>REML</td>    \n",
       "</tr>\n",
       "<tr>\n",
       "     <td>No. Groups:</td>      <td>17</td>          <td>Scale:</td>          <td>27.1728</td>  \n",
       "</tr>\n",
       "<tr>\n",
       "  <td>Min. group size:</td>    <td>12</td>      <td>Log-Likelihood:</td>   <td>-10725.4065</td>\n",
       "</tr>\n",
       "<tr>\n",
       "  <td>Max. group size:</td>    <td>344</td>       <td>Converged:</td>          <td>Yes</td>    \n",
       "</tr>\n",
       "<tr>\n",
       "  <td>Mean group size:</td>   <td>204.8</td>           <td></td>                <td></td>      \n",
       "</tr>\n",
       "</table>\n",
       "<table class=\"simpletable\">\n",
       "<tr>\n",
       "            <td></td>            <th>Coef.</th> <th>Std.Err.</th>   <th>z</th>   <th>P>|z|</th> <th>[0.025</th> <th>0.975]</th>\n",
       "</tr>\n",
       "<tr>\n",
       "  <th>Intercept</th>             <td>3.776</td>   <td>1.059</td>  <td>3.566</td> <td>0.000</td>  <td>1.701</td>  <td>5.852</td>\n",
       "</tr>\n",
       "<tr>\n",
       "  <th>constructor_name Var</th> <td>18.770</td>   <td>1.287</td>    <td></td>      <td></td>       <td></td>       <td></td>   \n",
       "</tr>\n",
       "</table><br/>\n"
      ],
      "text/latex": [
       "\\begin{table}\n",
       "\\caption{Mixed Linear Model Regression Results}\n",
       "\\label{}\n",
       "\\begin{center}\n",
       "\\begin{tabular}{llll}\n",
       "\\hline\n",
       "Model:            & MixedLM & Dependent Variable: & race\\_points  \\\\\n",
       "No. Observations: & 3481    & Method:             & REML          \\\\\n",
       "No. Groups:       & 17      & Scale:              & 27.1728       \\\\\n",
       "Min. group size:  & 12      & Log-Likelihood:     & -10725.4065   \\\\\n",
       "Max. group size:  & 344     & Converged:          & Yes           \\\\\n",
       "Mean group size:  & 204.8   &                     &               \\\\\n",
       "\\hline\n",
       "\\end{tabular}\n",
       "\\end{center}\n",
       "\n",
       "\\begin{center}\n",
       "\\begin{tabular}{lrrrrrr}\n",
       "\\hline\n",
       "                      &  Coef. & Std.Err. &     z & P$> |$z$|$ & [0.025 & 0.975]  \\\\\n",
       "\\hline\n",
       "Intercept             &  3.776 &    1.059 & 3.566 &       0.000 &  1.701 &  5.852  \\\\\n",
       "constructor\\_name Var & 18.770 &    1.287 &       &             &        &         \\\\\n",
       "\\hline\n",
       "\\end{tabular}\n",
       "\\end{center}\n",
       "\\end{table}\n",
       "\\bigskip\n"
      ],
      "text/plain": [
       "<class 'statsmodels.iolib.summary2.Summary'>\n",
       "\"\"\"\n",
       "            Mixed Linear Model Regression Results\n",
       "==============================================================\n",
       "Model:               MixedLM  Dependent Variable:  race_points\n",
       "No. Observations:    3481     Method:              REML       \n",
       "No. Groups:          17       Scale:               27.1728    \n",
       "Min. group size:     12       Log-Likelihood:      -10725.4065\n",
       "Max. group size:     344      Converged:           Yes        \n",
       "Mean group size:     204.8                                    \n",
       "--------------------------------------------------------------\n",
       "                     Coef.  Std.Err.   z   P>|z| [0.025 0.975]\n",
       "--------------------------------------------------------------\n",
       "Intercept             3.776    1.059 3.566 0.000  1.701  5.852\n",
       "constructor_name Var 18.770    1.287                          \n",
       "==============================================================\n",
       "\n",
       "\"\"\""
      ]
     },
     "execution_count": 481,
     "metadata": {},
     "output_type": "execute_result"
    }
   ],
   "source": [
    "null_results.summary()"
   ]
  },
  {
   "cell_type": "code",
   "execution_count": 483,
   "id": "080c23a7-c506-42ac-8f40-c7e1c1b833d6",
   "metadata": {
    "tags": []
   },
   "outputs": [
    {
     "data": {
      "text/plain": [
       "0.4085515031735114"
      ]
     },
     "execution_count": 483,
     "metadata": {},
     "output_type": "execute_result"
    }
   ],
   "source": [
    "18.770/(18.770+27.1728)"
   ]
  },
  {
   "cell_type": "markdown",
   "id": "73e37e74-cbff-410e-bab0-87dec63f1307",
   "metadata": {},
   "source": [
    "0.409 suggests that there is meaningful variation between the constructors included in the analysis."
   ]
  },
  {
   "cell_type": "markdown",
   "id": "5140c67b-73b7-4b26-859c-cf69d03b7b31",
   "metadata": {},
   "source": [
    "### Random Intercept "
   ]
  },
  {
   "cell_type": "code",
   "execution_count": 487,
   "id": "239648d0-29f1-48f4-88ee-1f3458a92059",
   "metadata": {
    "tags": []
   },
   "outputs": [
    {
     "data": {
      "text/html": [
       "<table class=\"simpletable\">\n",
       "<tr>\n",
       "       <td>Model:</td>       <td>MixedLM</td> <td>Dependent Variable:</td> <td>race_points</td>\n",
       "</tr>\n",
       "<tr>\n",
       "  <td>No. Observations:</td>  <td>3481</td>         <td>Method:</td>          <td>REML</td>    \n",
       "</tr>\n",
       "<tr>\n",
       "     <td>No. Groups:</td>      <td>17</td>          <td>Scale:</td>          <td>12.1694</td>  \n",
       "</tr>\n",
       "<tr>\n",
       "  <td>Min. group size:</td>    <td>12</td>      <td>Log-Likelihood:</td>       <td>inf</td>    \n",
       "</tr>\n",
       "<tr>\n",
       "  <td>Max. group size:</td>    <td>344</td>       <td>Converged:</td>          <td>Yes</td>    \n",
       "</tr>\n",
       "<tr>\n",
       "  <td>Mean group size:</td>   <td>204.8</td>           <td></td>                <td></td>      \n",
       "</tr>\n",
       "</table>\n",
       "<table class=\"simpletable\">\n",
       "<tr>\n",
       "            <td></td>             <th>Coef.</th>  <th>Std.Err.</th>      <th>z</th>   <th>P>|z|</th>    <th>[0.025</th>      <th>0.975]</th>   \n",
       "</tr>\n",
       "<tr>\n",
       "  <th>Intercept</th>              <td>0.000</td> <td>3866770.116</td>  <td>0.000</td> <td>1.000</td> <td>-7578730.163</td> <td>7578730.163</td>\n",
       "</tr>\n",
       "<tr>\n",
       "  <th>C(q1_complete)[T.Yes]</th>  <td>0.136</td>    <td>0.580</td>     <td>0.234</td> <td>0.815</td>    <td>-1.001</td>       <td>1.273</td>   \n",
       "</tr>\n",
       "<tr>\n",
       "  <th>C(q2_complete)[T.Yes]</th>  <td>0.100</td>    <td>0.174</td>     <td>0.572</td> <td>0.568</td>    <td>-0.242</td>       <td>0.441</td>   \n",
       "</tr>\n",
       "<tr>\n",
       "  <th>C(q3_complete)[T.Yes]</th>  <td>1.238</td>    <td>0.168</td>     <td>7.382</td> <td>0.000</td>     <td>0.909</td>       <td>1.566</td>   \n",
       "</tr>\n",
       "<tr>\n",
       "  <th>constructor_points</th>     <td>0.452</td>    <td>0.008</td>    <td>58.352</td> <td>0.000</td>     <td>0.437</td>       <td>0.467</td>   \n",
       "</tr>\n",
       "<tr>\n",
       "  <th>race_fastestLapSpeed</th>   <td>0.009</td>    <td>0.002</td>     <td>4.944</td> <td>0.000</td>     <td>0.006</td>       <td>0.013</td>   \n",
       "</tr>\n",
       "<tr>\n",
       "  <th>circuit_altitude</th>      <td>-0.000</td>    <td>0.000</td>    <td>-0.056</td> <td>0.955</td>    <td>-0.000</td>       <td>0.000</td>   \n",
       "</tr>\n",
       "<tr>\n",
       "  <th>age</th>                    <td>0.005</td>    <td>0.011</td>     <td>0.449</td> <td>0.654</td>    <td>-0.017</td>       <td>0.027</td>   \n",
       "</tr>\n",
       "<tr>\n",
       "  <th>fastest_lap_seconds</th>    <td>0.001</td>    <td>0.004</td>     <td>0.159</td> <td>0.874</td>    <td>-0.007</td>       <td>0.009</td>   \n",
       "</tr>\n",
       "<tr>\n",
       "  <th>constructor_name Var</th>   <td>0.000</td>      <td></td>          <td></td>      <td></td>          <td></td>            <td></td>      \n",
       "</tr>\n",
       "</table><br/>\n"
      ],
      "text/latex": [
       "\\begin{table}\n",
       "\\caption{Mixed Linear Model Regression Results}\n",
       "\\label{}\n",
       "\\begin{center}\n",
       "\\begin{tabular}{llll}\n",
       "\\hline\n",
       "Model:            & MixedLM & Dependent Variable: & race\\_points  \\\\\n",
       "No. Observations: & 3481    & Method:             & REML          \\\\\n",
       "No. Groups:       & 17      & Scale:              & 12.1694       \\\\\n",
       "Min. group size:  & 12      & Log-Likelihood:     & inf           \\\\\n",
       "Max. group size:  & 344     & Converged:          & Yes           \\\\\n",
       "Mean group size:  & 204.8   &                     &               \\\\\n",
       "\\hline\n",
       "\\end{tabular}\n",
       "\\end{center}\n",
       "\n",
       "\\begin{center}\n",
       "\\begin{tabular}{lrrrrrr}\n",
       "\\hline\n",
       "                       &  Coef. &    Std.Err. &      z & P$> |$z$|$ &       [0.025 &      0.975]  \\\\\n",
       "\\hline\n",
       "Intercept              &  0.000 & 3866770.116 &  0.000 &       1.000 & -7578730.163 & 7578730.163  \\\\\n",
       "C(q1\\_complete)[T.Yes] &  0.136 &       0.580 &  0.234 &       0.815 &       -1.001 &       1.273  \\\\\n",
       "C(q2\\_complete)[T.Yes] &  0.100 &       0.174 &  0.572 &       0.568 &       -0.242 &       0.441  \\\\\n",
       "C(q3\\_complete)[T.Yes] &  1.238 &       0.168 &  7.382 &       0.000 &        0.909 &       1.566  \\\\\n",
       "constructor\\_points    &  0.452 &       0.008 & 58.352 &       0.000 &        0.437 &       0.467  \\\\\n",
       "race\\_fastestLapSpeed  &  0.009 &       0.002 &  4.944 &       0.000 &        0.006 &       0.013  \\\\\n",
       "circuit\\_altitude      & -0.000 &       0.000 & -0.056 &       0.955 &       -0.000 &       0.000  \\\\\n",
       "age                    &  0.005 &       0.011 &  0.449 &       0.654 &       -0.017 &       0.027  \\\\\n",
       "fastest\\_lap\\_seconds  &  0.001 &       0.004 &  0.159 &       0.874 &       -0.007 &       0.009  \\\\\n",
       "constructor\\_name Var  &  0.000 &             &        &             &              &              \\\\\n",
       "\\hline\n",
       "\\end{tabular}\n",
       "\\end{center}\n",
       "\\end{table}\n",
       "\\bigskip\n"
      ],
      "text/plain": [
       "<class 'statsmodels.iolib.summary2.Summary'>\n",
       "\"\"\"\n",
       "                    Mixed Linear Model Regression Results\n",
       "==============================================================================\n",
       "Model:                   MixedLM        Dependent Variable:        race_points\n",
       "No. Observations:        3481           Method:                    REML       \n",
       "No. Groups:              17             Scale:                     12.1694    \n",
       "Min. group size:         12             Log-Likelihood:            inf        \n",
       "Max. group size:         344            Converged:                 Yes        \n",
       "Mean group size:         204.8                                                \n",
       "------------------------------------------------------------------------------\n",
       "                      Coef.    Std.Err.    z    P>|z|    [0.025       0.975]  \n",
       "------------------------------------------------------------------------------\n",
       "Intercept              0.000 3866770.116  0.000 1.000 -7578730.163 7578730.163\n",
       "C(q1_complete)[T.Yes]  0.136       0.580  0.234 0.815       -1.001       1.273\n",
       "C(q2_complete)[T.Yes]  0.100       0.174  0.572 0.568       -0.242       0.441\n",
       "C(q3_complete)[T.Yes]  1.238       0.168  7.382 0.000        0.909       1.566\n",
       "constructor_points     0.452       0.008 58.352 0.000        0.437       0.467\n",
       "race_fastestLapSpeed   0.009       0.002  4.944 0.000        0.006       0.013\n",
       "circuit_altitude      -0.000       0.000 -0.056 0.955       -0.000       0.000\n",
       "age                    0.005       0.011  0.449 0.654       -0.017       0.027\n",
       "fastest_lap_seconds    0.001       0.004  0.159 0.874       -0.007       0.009\n",
       "constructor_name Var   0.000                                                  \n",
       "==============================================================================\n",
       "\n",
       "\"\"\""
      ]
     },
     "execution_count": 487,
     "metadata": {},
     "output_type": "execute_result"
    }
   ],
   "source": [
    "ri_model2 = smf.mixedlm(\"race_points ~ C(q1_complete) + C(q2_complete) + C(q3_complete) + constructor_points + race_fastestLapSpeed + circuit_altitude + age + fastest_lap_seconds\", df_lmm, groups= \"constructor_name\").fit()\n",
    "\n",
    "ri_model2.summary()"
   ]
  },
  {
   "cell_type": "markdown",
   "id": "852b5f94-5292-43e1-81bd-2aa19e878e12",
   "metadata": {},
   "source": [
    "Performing Random Intercept, Random Slope, and Random Intercept & Slope to compare Log-Likelihood. Inf is high. "
   ]
  },
  {
   "cell_type": "markdown",
   "id": "e4bb8264-7568-4f65-8583-03d6d8395e98",
   "metadata": {},
   "source": [
    "### Random Slope"
   ]
  },
  {
   "cell_type": "code",
   "execution_count": 491,
   "id": "e0ab5657-fecd-4495-b7a8-8a8794d3ef66",
   "metadata": {
    "tags": []
   },
   "outputs": [
    {
     "data": {
      "text/html": [
       "<table class=\"simpletable\">\n",
       "<tr>\n",
       "       <td>Model:</td>       <td>MixedLM</td> <td>Dependent Variable:</td> <td>race_points</td>\n",
       "</tr>\n",
       "<tr>\n",
       "  <td>No. Observations:</td>  <td>3481</td>         <td>Method:</td>          <td>REML</td>    \n",
       "</tr>\n",
       "<tr>\n",
       "     <td>No. Groups:</td>      <td>17</td>          <td>Scale:</td>          <td>12.1576</td>  \n",
       "</tr>\n",
       "<tr>\n",
       "  <td>Min. group size:</td>    <td>12</td>      <td>Log-Likelihood:</td>   <td>-9403.9452</td> \n",
       "</tr>\n",
       "<tr>\n",
       "  <td>Max. group size:</td>    <td>344</td>       <td>Converged:</td>          <td>Yes</td>    \n",
       "</tr>\n",
       "<tr>\n",
       "  <td>Mean group size:</td>   <td>204.8</td>           <td></td>                <td></td>      \n",
       "</tr>\n",
       "</table>\n",
       "<table class=\"simpletable\">\n",
       "<tr>\n",
       "            <td></td>             <th>Coef.</th>  <th>Std.Err.</th>    <th>z</th>   <th>P>|z|</th> <th>[0.025</th> <th>0.975]</th>\n",
       "</tr>\n",
       "<tr>\n",
       "  <th>Intercept</th>             <td>-2.306</td>    <td>0.709</td>  <td>-3.254</td> <td>0.001</td> <td>-3.695</td> <td>-0.917</td>\n",
       "</tr>\n",
       "<tr>\n",
       "  <th>C(q1_complete)[T.Yes]</th>  <td>0.148</td>    <td>0.579</td>   <td>0.256</td> <td>0.798</td> <td>-0.987</td>  <td>1.283</td>\n",
       "</tr>\n",
       "<tr>\n",
       "  <th>C(q2_complete)[T.Yes]</th>  <td>0.052</td>    <td>0.170</td>   <td>0.309</td> <td>0.757</td> <td>-0.280</td>  <td>0.385</td>\n",
       "</tr>\n",
       "<tr>\n",
       "  <th>C(q3_complete)[T.Yes]</th>  <td>1.228</td>    <td>0.165</td>   <td>7.453</td> <td>0.000</td>  <td>0.905</td>  <td>1.550</td>\n",
       "</tr>\n",
       "<tr>\n",
       "  <th>constructor_points</th>     <td>0.436</td>    <td>3.386</td>   <td>0.129</td> <td>0.897</td> <td>-6.200</td>  <td>7.072</td>\n",
       "</tr>\n",
       "<tr>\n",
       "  <th>race_fastestLapSpeed</th>   <td>0.009</td>    <td>0.002</td>   <td>4.958</td> <td>0.000</td>  <td>0.006</td>  <td>0.013</td>\n",
       "</tr>\n",
       "<tr>\n",
       "  <th>circuit_altitude</th>      <td>-0.000</td>    <td>0.000</td>  <td>-0.071</td> <td>0.944</td> <td>-0.000</td>  <td>0.000</td>\n",
       "</tr>\n",
       "<tr>\n",
       "  <th>age</th>                    <td>0.000</td>    <td>0.011</td>   <td>0.007</td> <td>0.995</td> <td>-0.021</td>  <td>0.022</td>\n",
       "</tr>\n",
       "<tr>\n",
       "  <th>fastest_lap_seconds</th>    <td>0.001</td>    <td>0.004</td>   <td>0.226</td> <td>0.822</td> <td>-0.007</td>  <td>0.009</td>\n",
       "</tr>\n",
       "<tr>\n",
       "  <th>construtor_points Var</th> <td>194.521</td>     <td></td>        <td></td>      <td></td>       <td></td>       <td></td>   \n",
       "</tr>\n",
       "</table><br/>\n"
      ],
      "text/latex": [
       "\\begin{table}\n",
       "\\caption{Mixed Linear Model Regression Results}\n",
       "\\label{}\n",
       "\\begin{center}\n",
       "\\begin{tabular}{llll}\n",
       "\\hline\n",
       "Model:            & MixedLM & Dependent Variable: & race\\_points  \\\\\n",
       "No. Observations: & 3481    & Method:             & REML          \\\\\n",
       "No. Groups:       & 17      & Scale:              & 12.1576       \\\\\n",
       "Min. group size:  & 12      & Log-Likelihood:     & -9403.9452    \\\\\n",
       "Max. group size:  & 344     & Converged:          & Yes           \\\\\n",
       "Mean group size:  & 204.8   &                     &               \\\\\n",
       "\\hline\n",
       "\\end{tabular}\n",
       "\\end{center}\n",
       "\n",
       "\\begin{center}\n",
       "\\begin{tabular}{lrrrrrr}\n",
       "\\hline\n",
       "                       &   Coef. & Std.Err. &      z & P$> |$z$|$ & [0.025 & 0.975]  \\\\\n",
       "\\hline\n",
       "Intercept              &  -2.306 &    0.709 & -3.254 &       0.001 & -3.695 & -0.917  \\\\\n",
       "C(q1\\_complete)[T.Yes] &   0.148 &    0.579 &  0.256 &       0.798 & -0.987 &  1.283  \\\\\n",
       "C(q2\\_complete)[T.Yes] &   0.052 &    0.170 &  0.309 &       0.757 & -0.280 &  0.385  \\\\\n",
       "C(q3\\_complete)[T.Yes] &   1.228 &    0.165 &  7.453 &       0.000 &  0.905 &  1.550  \\\\\n",
       "constructor\\_points    &   0.436 &    3.386 &  0.129 &       0.897 & -6.200 &  7.072  \\\\\n",
       "race\\_fastestLapSpeed  &   0.009 &    0.002 &  4.958 &       0.000 &  0.006 &  0.013  \\\\\n",
       "circuit\\_altitude      &  -0.000 &    0.000 & -0.071 &       0.944 & -0.000 &  0.000  \\\\\n",
       "age                    &   0.000 &    0.011 &  0.007 &       0.995 & -0.021 &  0.022  \\\\\n",
       "fastest\\_lap\\_seconds  &   0.001 &    0.004 &  0.226 &       0.822 & -0.007 &  0.009  \\\\\n",
       "construtor\\_points Var & 194.521 &          &        &             &        &         \\\\\n",
       "\\hline\n",
       "\\end{tabular}\n",
       "\\end{center}\n",
       "\\end{table}\n",
       "\\bigskip\n"
      ],
      "text/plain": [
       "<class 'statsmodels.iolib.summary2.Summary'>\n",
       "\"\"\"\n",
       "              Mixed Linear Model Regression Results\n",
       "=================================================================\n",
       "Model:                MixedLM   Dependent Variable:   race_points\n",
       "No. Observations:     3481      Method:               REML       \n",
       "No. Groups:           17        Scale:                12.1576    \n",
       "Min. group size:      12        Log-Likelihood:       -9403.9452 \n",
       "Max. group size:      344       Converged:            Yes        \n",
       "Mean group size:      204.8                                      \n",
       "-----------------------------------------------------------------\n",
       "                       Coef.  Std.Err.   z    P>|z| [0.025 0.975]\n",
       "-----------------------------------------------------------------\n",
       "Intercept              -2.306    0.709 -3.254 0.001 -3.695 -0.917\n",
       "C(q1_complete)[T.Yes]   0.148    0.579  0.256 0.798 -0.987  1.283\n",
       "C(q2_complete)[T.Yes]   0.052    0.170  0.309 0.757 -0.280  0.385\n",
       "C(q3_complete)[T.Yes]   1.228    0.165  7.453 0.000  0.905  1.550\n",
       "constructor_points      0.436    3.386  0.129 0.897 -6.200  7.072\n",
       "race_fastestLapSpeed    0.009    0.002  4.958 0.000  0.006  0.013\n",
       "circuit_altitude       -0.000    0.000 -0.071 0.944 -0.000  0.000\n",
       "age                     0.000    0.011  0.007 0.995 -0.021  0.022\n",
       "fastest_lap_seconds     0.001    0.004  0.226 0.822 -0.007  0.009\n",
       "construtor_points Var 194.521                                    \n",
       "=================================================================\n",
       "\n",
       "\"\"\""
      ]
     },
     "execution_count": 491,
     "metadata": {},
     "output_type": "execute_result"
    }
   ],
   "source": [
    "rs_model = smf.mixedlm(\"race_points ~ C(q1_complete) + C(q2_complete) + C(q3_complete) + constructor_points + race_fastestLapSpeed + circuit_altitude + age + fastest_lap_seconds\", df_lmm, groups= \"constructor_name\",\n",
    "                     vc_formula = {\"construtor_points\" : \"0 + constructor_points\"}).fit()\n",
    "\n",
    "rs_model.summary()"
   ]
  },
  {
   "cell_type": "markdown",
   "id": "a0efcd3a-4fdc-4876-a074-de5918c283af",
   "metadata": {},
   "source": [
    "Better log-likelihood with Random Slope.  "
   ]
  },
  {
   "cell_type": "markdown",
   "id": "e6463bbb-9bff-41af-9157-a3f26b48a0df",
   "metadata": {
    "tags": []
   },
   "source": [
    "### Random Intercept & Slope"
   ]
  },
  {
   "cell_type": "code",
   "execution_count": 684,
   "id": "7de0f723-da08-4c14-a70f-8f7c78369ee4",
   "metadata": {
    "tags": []
   },
   "outputs": [
    {
     "data": {
      "text/html": [
       "<table class=\"simpletable\">\n",
       "<tr>\n",
       "       <td>Model:</td>       <td>MixedLM</td> <td>Dependent Variable:</td> <td>race_points</td>\n",
       "</tr>\n",
       "<tr>\n",
       "  <td>No. Observations:</td>  <td>3481</td>         <td>Method:</td>          <td>REML</td>    \n",
       "</tr>\n",
       "<tr>\n",
       "     <td>No. Groups:</td>      <td>17</td>          <td>Scale:</td>          <td>12.1638</td>  \n",
       "</tr>\n",
       "<tr>\n",
       "  <td>Min. group size:</td>    <td>12</td>      <td>Log-Likelihood:</td>   <td>-9302.2741</td> \n",
       "</tr>\n",
       "<tr>\n",
       "  <td>Max. group size:</td>    <td>344</td>       <td>Converged:</td>          <td>Yes</td>    \n",
       "</tr>\n",
       "<tr>\n",
       "  <td>Mean group size:</td>   <td>204.8</td>           <td></td>                <td></td>      \n",
       "</tr>\n",
       "</table>\n",
       "<table class=\"simpletable\">\n",
       "<tr>\n",
       "                      <td></td>                       <th>Coef.</th> <th>Std.Err.</th>    <th>z</th>   <th>P>|z|</th> <th>[0.025</th> <th>0.975]</th>\n",
       "</tr>\n",
       "<tr>\n",
       "  <th>Intercept</th>                                  <td>4.148</td>   <td>0.574</td>   <td>7.232</td> <td>0.000</td>  <td>3.024</td>  <td>5.272</td>\n",
       "</tr>\n",
       "<tr>\n",
       "  <th>C(q1_complete)[T.Yes]</th>                      <td>0.133</td>   <td>0.581</td>   <td>0.229</td> <td>0.819</td> <td>-1.006</td>  <td>1.271</td>\n",
       "</tr>\n",
       "<tr>\n",
       "  <th>C(q2_complete)[T.Yes]</th>                      <td>0.077</td>   <td>0.172</td>   <td>0.451</td> <td>0.652</td> <td>-0.259</td>  <td>0.414</td>\n",
       "</tr>\n",
       "<tr>\n",
       "  <th>C(q3_complete)[T.Yes]</th>                      <td>1.243</td>   <td>0.170</td>   <td>7.331</td> <td>0.000</td>  <td>0.911</td>  <td>1.575</td>\n",
       "</tr>\n",
       "<tr>\n",
       "  <th>constructor_points</th>                         <td>5.775</td>   <td>0.141</td>  <td>40.881</td> <td>0.000</td>  <td>5.498</td>  <td>6.051</td>\n",
       "</tr>\n",
       "<tr>\n",
       "  <th>race_fastestLapSpeed</th>                       <td>0.428</td>   <td>0.087</td>   <td>4.928</td> <td>0.000</td>  <td>0.258</td>  <td>0.599</td>\n",
       "</tr>\n",
       "<tr>\n",
       "  <th>circuit_altitude</th>                          <td>-0.003</td>   <td>0.061</td>  <td>-0.044</td> <td>0.965</td> <td>-0.121</td>  <td>0.116</td>\n",
       "</tr>\n",
       "<tr>\n",
       "  <th>age</th>                                        <td>0.012</td>   <td>0.066</td>   <td>0.179</td> <td>0.858</td> <td>-0.118</td>  <td>0.142</td>\n",
       "</tr>\n",
       "<tr>\n",
       "  <th>fastest_lap_seconds</th>                        <td>0.016</td>   <td>0.088</td>   <td>0.188</td> <td>0.851</td> <td>-0.155</td>  <td>0.188</td>\n",
       "</tr>\n",
       "<tr>\n",
       "  <th>constructor_name Var</th>                       <td>0.018</td>   <td>0.017</td>     <td></td>      <td></td>       <td></td>       <td></td>   \n",
       "</tr>\n",
       "<tr>\n",
       "  <th>constructor_name x constructor_points Cov</th> <td>-0.035</td>     <td></td>        <td></td>      <td></td>       <td></td>       <td></td>   \n",
       "</tr>\n",
       "<tr>\n",
       "  <th>constructor_points Var</th>                     <td>0.073</td>   <td>0.040</td>     <td></td>      <td></td>       <td></td>       <td></td>   \n",
       "</tr>\n",
       "</table><br/>\n"
      ],
      "text/latex": [
       "\\begin{table}\n",
       "\\caption{Mixed Linear Model Regression Results}\n",
       "\\label{}\n",
       "\\begin{center}\n",
       "\\begin{tabular}{llll}\n",
       "\\hline\n",
       "Model:            & MixedLM & Dependent Variable: & race\\_points  \\\\\n",
       "No. Observations: & 3481    & Method:             & REML          \\\\\n",
       "No. Groups:       & 17      & Scale:              & 12.1638       \\\\\n",
       "Min. group size:  & 12      & Log-Likelihood:     & -9302.2741    \\\\\n",
       "Max. group size:  & 344     & Converged:          & Yes           \\\\\n",
       "Mean group size:  & 204.8   &                     &               \\\\\n",
       "\\hline\n",
       "\\end{tabular}\n",
       "\\end{center}\n",
       "\n",
       "\\begin{center}\n",
       "\\begin{tabular}{lrrrrrr}\n",
       "\\hline\n",
       "                                            &  Coef. & Std.Err. &      z & P$> |$z$|$ & [0.025 & 0.975]  \\\\\n",
       "\\hline\n",
       "Intercept                                   &  4.148 &    0.574 &  7.232 &       0.000 &  3.024 &  5.272  \\\\\n",
       "C(q1\\_complete)[T.Yes]                      &  0.133 &    0.581 &  0.229 &       0.819 & -1.006 &  1.271  \\\\\n",
       "C(q2\\_complete)[T.Yes]                      &  0.077 &    0.172 &  0.451 &       0.652 & -0.259 &  0.414  \\\\\n",
       "C(q3\\_complete)[T.Yes]                      &  1.243 &    0.170 &  7.331 &       0.000 &  0.911 &  1.575  \\\\\n",
       "constructor\\_points                         &  5.775 &    0.141 & 40.881 &       0.000 &  5.498 &  6.051  \\\\\n",
       "race\\_fastestLapSpeed                       &  0.428 &    0.087 &  4.928 &       0.000 &  0.258 &  0.599  \\\\\n",
       "circuit\\_altitude                           & -0.003 &    0.061 & -0.044 &       0.965 & -0.121 &  0.116  \\\\\n",
       "age                                         &  0.012 &    0.066 &  0.179 &       0.858 & -0.118 &  0.142  \\\\\n",
       "fastest\\_lap\\_seconds                       &  0.016 &    0.088 &  0.188 &       0.851 & -0.155 &  0.188  \\\\\n",
       "constructor\\_name Var                       &  0.018 &    0.017 &        &             &        &         \\\\\n",
       "constructor\\_name x constructor\\_points Cov & -0.035 &          &        &             &        &         \\\\\n",
       "constructor\\_points Var                     &  0.073 &    0.040 &        &             &        &         \\\\\n",
       "\\hline\n",
       "\\end{tabular}\n",
       "\\end{center}\n",
       "\\end{table}\n",
       "\\bigskip\n"
      ],
      "text/plain": [
       "<class 'statsmodels.iolib.summary2.Summary'>\n",
       "\"\"\"\n",
       "                       Mixed Linear Model Regression Results\n",
       "====================================================================================\n",
       "Model:                     MixedLM          Dependent Variable:          race_points\n",
       "No. Observations:          3481             Method:                      REML       \n",
       "No. Groups:                17               Scale:                       12.1638    \n",
       "Min. group size:           12               Log-Likelihood:              -9302.2741 \n",
       "Max. group size:           344              Converged:                   Yes        \n",
       "Mean group size:           204.8                                                    \n",
       "------------------------------------------------------------------------------------\n",
       "                                          Coef.  Std.Err.   z    P>|z| [0.025 0.975]\n",
       "------------------------------------------------------------------------------------\n",
       "Intercept                                  4.148    0.574  7.232 0.000  3.024  5.272\n",
       "C(q1_complete)[T.Yes]                      0.133    0.581  0.229 0.819 -1.006  1.271\n",
       "C(q2_complete)[T.Yes]                      0.077    0.172  0.451 0.652 -0.259  0.414\n",
       "C(q3_complete)[T.Yes]                      1.243    0.170  7.331 0.000  0.911  1.575\n",
       "constructor_points                         5.775    0.141 40.881 0.000  5.498  6.051\n",
       "race_fastestLapSpeed                       0.428    0.087  4.928 0.000  0.258  0.599\n",
       "circuit_altitude                          -0.003    0.061 -0.044 0.965 -0.121  0.116\n",
       "age                                        0.012    0.066  0.179 0.858 -0.118  0.142\n",
       "fastest_lap_seconds                        0.016    0.088  0.188 0.851 -0.155  0.188\n",
       "constructor_name Var                       0.018    0.017                           \n",
       "constructor_name x constructor_points Cov -0.035                                    \n",
       "constructor_points Var                     0.073    0.040                           \n",
       "====================================================================================\n",
       "\n",
       "\"\"\""
      ]
     },
     "execution_count": 684,
     "metadata": {},
     "output_type": "execute_result"
    }
   ],
   "source": [
    "f1_model = smf.mixedlm(\"race_points ~ C(q1_complete) + C(q2_complete) + C(q3_complete) + \\\n",
    "                        constructor_points + race_fastestLapSpeed + circuit_altitude + age + \\\n",
    "                        fastest_lap_seconds\", \n",
    "                       df_lmm, groups=\"constructor_name\", re_formula=\"1 + constructor_points\").fit()\n",
    "f1_model.summary()"
   ]
  },
  {
   "cell_type": "markdown",
   "id": "13b3c8fe-015c-46c2-9110-086169a5c86f",
   "metadata": {},
   "source": [
    "Random Slope and Random Intercept is the best model out of the three. "
   ]
  },
  {
   "cell_type": "markdown",
   "id": "94f7fa5d-e667-49e9-9d98-e8176c340c2c",
   "metadata": {},
   "source": [
    "### Viz for LMM"
   ]
  },
  {
   "cell_type": "code",
   "execution_count": 499,
   "id": "47c8dcba-e039-4949-bbd3-6a29a77b57a1",
   "metadata": {
    "tags": []
   },
   "outputs": [],
   "source": [
    "actual_values = df_lmm['race_points']"
   ]
  },
  {
   "cell_type": "code",
   "execution_count": 501,
   "id": "ac15dfcd-a98e-409a-b95f-c3a2bb582535",
   "metadata": {
    "tags": []
   },
   "outputs": [],
   "source": [
    "predicted_values = f1_model.fittedvalues"
   ]
  },
  {
   "cell_type": "code",
   "execution_count": 503,
   "id": "ec4eaddc-da0a-49f0-afb2-9bbbed09f6c8",
   "metadata": {
    "tags": []
   },
   "outputs": [],
   "source": [
    "df_lmm['predicted'] = predicted_values"
   ]
  },
  {
   "cell_type": "code",
   "execution_count": 505,
   "id": "700be056-f0c3-469c-97a8-39ed870e92f8",
   "metadata": {
    "tags": []
   },
   "outputs": [
    {
     "data": {
      "image/png": "[encoded data removed]",
      "text/plain": [
       "<Figure size 800x600 with 1 Axes>"
      ]
     },
     "metadata": {},
     "output_type": "display_data"
    }
   ],
   "source": [
    "plt.figure(figsize=(8, 6))\n",
    "sns.scatterplot(x='race_points', y='predicted', data=df_lmm)\n",
    "plt.plot([df_lmm['race_points'].min(), df_lmm['race_points'].max()], [df_lmm['race_points'].min(), df_lmm['race_points'].max()], color='red', linestyle='--')\n",
    "plt.xlabel('Actual Values')\n",
    "plt.ylabel('Predicted Values')\n",
    "plt.title('Predicted vs. Actual Values')\n",
    "plt.show()"
   ]
  },
  {
   "cell_type": "code",
   "execution_count": 507,
   "id": "bea59866-0fbd-4399-be91-c885ddc1c5a7",
   "metadata": {
    "tags": []
   },
   "outputs": [
    {
     "data": {
      "image/png": "[encoded data removed]",
      "text/plain": [
       "<Figure size 800x600 with 1 Axes>"
      ]
     },
     "metadata": {},
     "output_type": "display_data"
    }
   ],
   "source": [
    "# Extract random effects from the fitted model\n",
    "random_effects = f1_model.random_effects\n",
    "\n",
    "# Plot Random Effects Variance Plot\n",
    "plt.figure(figsize=(8, 6))\n",
    "sns.barplot(x=[random_effects[key].var() for key in random_effects.keys()], y=list(random_effects.keys()), color='skyblue')\n",
    "plt.xlabel('Variance Estimate')\n",
    "plt.title('Random Effects Variance Plot')\n",
    "plt.show()"
   ]
  },
  {
   "cell_type": "markdown",
   "id": "bef20d96-954b-4ba0-8a23-97c6ee216a48",
   "metadata": {},
   "source": [
    "# Poisson Models"
   ]
  },
  {
   "cell_type": "markdown",
   "id": "32bf713f-8a97-4cff-bc05-c065dae416ce",
   "metadata": {},
   "source": [
    "## Predict Number of Constructor Points "
   ]
  },
  {
   "cell_type": "code",
   "execution_count": 511,
   "id": "0f9bbc29-7d8d-4ab4-9fcc-6e9d71edf8e2",
   "metadata": {
    "tags": []
   },
   "outputs": [],
   "source": [
    "import statsmodels.api as sm # For GLMs\n",
    "from statsmodels.formula.api import logit, probit, poisson, ols, glm\n",
    "import warnings\n",
    "warnings.filterwarnings('ignore')"
   ]
  },
  {
   "cell_type": "code",
   "execution_count": 513,
   "id": "ff882a2f-270a-4fd7-889b-284cc5ea773e",
   "metadata": {
    "tags": []
   },
   "outputs": [
    {
     "name": "stdout",
     "output_type": "stream",
     "text": [
      "count    3481.000000\n",
      "mean       10.246768\n",
      "std        12.918461\n",
      "min         0.000000\n",
      "25%         0.000000\n",
      "50%         4.000000\n",
      "75%        18.000000\n",
      "max        58.000000\n",
      "Name: constructor_points, dtype: float64\n",
      "166.88664544307423\n"
     ]
    }
   ],
   "source": [
    "print(df['constructor_points'].describe())\n",
    "print(df['constructor_points'].var())"
   ]
  },
  {
   "cell_type": "code",
   "execution_count": 515,
   "id": "7cfa4c51-8f19-4eee-8f3e-89636b26bf4b",
   "metadata": {
    "tags": []
   },
   "outputs": [],
   "source": [
    "## mean and standard deviation should be the same for a poisson distribution"
   ]
  },
  {
   "cell_type": "markdown",
   "id": "ef659fe5-361b-4a7c-b018-838512cf9d88",
   "metadata": {},
   "source": [
    "## Poisson Regression # 1 "
   ]
  },
  {
   "cell_type": "markdown",
   "id": "33e733ab-1b2b-4924-8bf9-3e9e9629b31a",
   "metadata": {},
   "source": [
    "With Circuit Name "
   ]
  },
  {
   "cell_type": "code",
   "execution_count": 519,
   "id": "0cca67d6-67c9-4df7-b9c0-928e003e071d",
   "metadata": {
    "tags": []
   },
   "outputs": [],
   "source": [
    "poisson1 = glm('constructor_points ~ year + race_points + fastest_lap_seconds + race_fastestLapSpeed + age + circuit_altitude + q1_complete + q2_complete + q3_complete + circuit_name', data=df, family=sm.families.Poisson()).fit()"
   ]
  },
  {
   "cell_type": "code",
   "execution_count": 520,
   "id": "a5e12859-e996-4352-83cc-111f88750a66",
   "metadata": {
    "tags": []
   },
   "outputs": [
    {
     "data": {
      "text/html": [
       "<table class=\"simpletable\">\n",
       "<caption>Generalized Linear Model Regression Results</caption>\n",
       "<tr>\n",
       "  <th>Dep. Variable:</th>   <td>constructor_points</td> <th>  No. Observations:  </th>  <td>  3481</td> \n",
       "</tr>\n",
       "<tr>\n",
       "  <th>Model:</th>                   <td>GLM</td>        <th>  Df Residuals:      </th>  <td>  3441</td> \n",
       "</tr>\n",
       "<tr>\n",
       "  <th>Model Family:</th>          <td>Poisson</td>      <th>  Df Model:          </th>  <td>    39</td> \n",
       "</tr>\n",
       "<tr>\n",
       "  <th>Link Function:</th>           <td>Log</td>        <th>  Scale:             </th> <td>  1.0000</td>\n",
       "</tr>\n",
       "<tr>\n",
       "  <th>Method:</th>                 <td>IRLS</td>        <th>  Log-Likelihood:    </th> <td> -14463.</td>\n",
       "</tr>\n",
       "<tr>\n",
       "  <th>Date:</th>             <td>Wed, 05 Jun 2024</td>  <th>  Deviance:          </th> <td>  19519.</td>\n",
       "</tr>\n",
       "<tr>\n",
       "  <th>Time:</th>                 <td>14:20:51</td>      <th>  Pearson chi2:      </th> <td>2.14e+04</td>\n",
       "</tr>\n",
       "<tr>\n",
       "  <th>No. Iterations:</th>          <td>100</td>        <th>  Pseudo R-squ. (CS):</th>  <td> 1.000</td> \n",
       "</tr>\n",
       "<tr>\n",
       "  <th>Covariance Type:</th>      <td>nonrobust</td>     <th>                     </th>     <td> </td>   \n",
       "</tr>\n",
       "</table>\n",
       "<table class=\"simpletable\">\n",
       "<tr>\n",
       "                            <td></td>                              <th>coef</th>     <th>std err</th>      <th>z</th>      <th>P>|z|</th>  <th>[0.025</th>    <th>0.975]</th>  \n",
       "</tr>\n",
       "<tr>\n",
       "  <th>Intercept</th>                                            <td>  -36.1470</td> <td>    5.339</td> <td>   -6.770</td> <td> 0.000</td> <td>  -46.612</td> <td>  -25.682</td>\n",
       "</tr>\n",
       "<tr>\n",
       "  <th>circuit_name[T.Autodromo Enzo e Dino Ferrari]</th>        <td>    0.0795</td> <td>    0.046</td> <td>    1.712</td> <td> 0.087</td> <td>   -0.012</td> <td>    0.170</td>\n",
       "</tr>\n",
       "<tr>\n",
       "  <th>circuit_name[T.Autodromo Internazionale del Mugello]</th> <td>   -0.0111</td> <td>    0.073</td> <td>   -0.154</td> <td> 0.878</td> <td>   -0.153</td> <td>    0.131</td>\n",
       "</tr>\n",
       "<tr>\n",
       "  <th>circuit_name[T.Autodromo Nazionale di Monza]</th>         <td>   -0.0377</td> <td>    0.035</td> <td>   -1.083</td> <td> 0.279</td> <td>   -0.106</td> <td>    0.031</td>\n",
       "</tr>\n",
       "<tr>\n",
       "  <th>circuit_name[T.Autódromo Hermanos Rodríguez]</th>         <td>    0.0289</td> <td>    0.042</td> <td>    0.687</td> <td> 0.492</td> <td>   -0.054</td> <td>    0.111</td>\n",
       "</tr>\n",
       "<tr>\n",
       "  <th>circuit_name[T.Autódromo Internacional do Algarve]</th>   <td>   -0.0009</td> <td>    0.055</td> <td>   -0.016</td> <td> 0.987</td> <td>   -0.109</td> <td>    0.107</td>\n",
       "</tr>\n",
       "<tr>\n",
       "  <th>circuit_name[T.Autódromo José Carlos Pace]</th>           <td>    0.0909</td> <td>    0.028</td> <td>    3.279</td> <td> 0.001</td> <td>    0.037</td> <td>    0.145</td>\n",
       "</tr>\n",
       "<tr>\n",
       "  <th>circuit_name[T.Bahrain International Circuit]</th>        <td>    0.0710</td> <td>    0.036</td> <td>    1.956</td> <td> 0.050</td> <td>   -0.000</td> <td>    0.142</td>\n",
       "</tr>\n",
       "<tr>\n",
       "  <th>circuit_name[T.Baku City Circuit]</th>                    <td>    0.1806</td> <td>    0.044</td> <td>    4.082</td> <td> 0.000</td> <td>    0.094</td> <td>    0.267</td>\n",
       "</tr>\n",
       "<tr>\n",
       "  <th>circuit_name[T.Circuit Gilles Villeneuve]</th>            <td>    0.0061</td> <td>    0.039</td> <td>    0.155</td> <td> 0.877</td> <td>   -0.071</td> <td>    0.083</td>\n",
       "</tr>\n",
       "<tr>\n",
       "  <th>circuit_name[T.Circuit Park Zandvoort]</th>               <td>   -0.0210</td> <td>    0.049</td> <td>   -0.431</td> <td> 0.667</td> <td>   -0.117</td> <td>    0.075</td>\n",
       "</tr>\n",
       "<tr>\n",
       "  <th>circuit_name[T.Circuit Paul Ricard]</th>                  <td>    0.0539</td> <td>    0.039</td> <td>    1.382</td> <td> 0.167</td> <td>   -0.023</td> <td>    0.130</td>\n",
       "</tr>\n",
       "<tr>\n",
       "  <th>circuit_name[T.Circuit de Barcelona-Catalunya]</th>       <td>    0.0270</td> <td>    0.035</td> <td>    0.774</td> <td> 0.439</td> <td>   -0.041</td> <td>    0.095</td>\n",
       "</tr>\n",
       "<tr>\n",
       "  <th>circuit_name[T.Circuit de Monaco]</th>                    <td>    0.0932</td> <td>    0.042</td> <td>    2.206</td> <td> 0.027</td> <td>    0.010</td> <td>    0.176</td>\n",
       "</tr>\n",
       "<tr>\n",
       "  <th>circuit_name[T.Circuit de Spa-Francorchamps]</th>         <td>    0.1272</td> <td>    0.033</td> <td>    3.832</td> <td> 0.000</td> <td>    0.062</td> <td>    0.192</td>\n",
       "</tr>\n",
       "<tr>\n",
       "  <th>circuit_name[T.Circuit of the Americas]</th>              <td>    0.1837</td> <td>    0.040</td> <td>    4.631</td> <td> 0.000</td> <td>    0.106</td> <td>    0.261</td>\n",
       "</tr>\n",
       "<tr>\n",
       "  <th>circuit_name[T.Hockenheimring]</th>                       <td>    0.1059</td> <td>    0.048</td> <td>    2.216</td> <td> 0.027</td> <td>    0.012</td> <td>    0.199</td>\n",
       "</tr>\n",
       "<tr>\n",
       "  <th>circuit_name[T.Hungaroring]</th>                          <td>    0.0578</td> <td>    0.033</td> <td>    1.758</td> <td> 0.079</td> <td>   -0.007</td> <td>    0.122</td>\n",
       "</tr>\n",
       "<tr>\n",
       "  <th>circuit_name[T.Istanbul Park]</th>                        <td>    0.1211</td> <td>    0.057</td> <td>    2.121</td> <td> 0.034</td> <td>    0.009</td> <td>    0.233</td>\n",
       "</tr>\n",
       "<tr>\n",
       "  <th>circuit_name[T.Jeddah Corniche Circuit]</th>              <td>   -0.0845</td> <td>    0.044</td> <td>   -1.904</td> <td> 0.057</td> <td>   -0.171</td> <td>    0.002</td>\n",
       "</tr>\n",
       "<tr>\n",
       "  <th>circuit_name[T.Las Vegas Strip Street Circuit]</th>       <td>    0.0975</td> <td>    0.068</td> <td>    1.440</td> <td> 0.150</td> <td>   -0.035</td> <td>    0.230</td>\n",
       "</tr>\n",
       "<tr>\n",
       "  <th>circuit_name[T.Losail International Circuit]</th>         <td>    0.1659</td> <td>    0.053</td> <td>    3.131</td> <td> 0.002</td> <td>    0.062</td> <td>    0.270</td>\n",
       "</tr>\n",
       "<tr>\n",
       "  <th>circuit_name[T.Marina Bay Street Circuit]</th>            <td>    0.2229</td> <td>    0.051</td> <td>    4.333</td> <td> 0.000</td> <td>    0.122</td> <td>    0.324</td>\n",
       "</tr>\n",
       "<tr>\n",
       "  <th>circuit_name[T.Miami International Autodrome]</th>        <td>    0.1622</td> <td>    0.048</td> <td>    3.346</td> <td> 0.001</td> <td>    0.067</td> <td>    0.257</td>\n",
       "</tr>\n",
       "<tr>\n",
       "  <th>circuit_name[T.Nürburgring]</th>                          <td>    0.0592</td> <td>    0.069</td> <td>    0.862</td> <td> 0.389</td> <td>   -0.075</td> <td>    0.194</td>\n",
       "</tr>\n",
       "<tr>\n",
       "  <th>circuit_name[T.Red Bull Ring]</th>                        <td>   -0.0035</td> <td>    0.030</td> <td>   -0.117</td> <td> 0.907</td> <td>   -0.063</td> <td>    0.056</td>\n",
       "</tr>\n",
       "<tr>\n",
       "  <th>circuit_name[T.Sepang International Circuit]</th>         <td>    0.1292</td> <td>    0.059</td> <td>    2.203</td> <td> 0.028</td> <td>    0.014</td> <td>    0.244</td>\n",
       "</tr>\n",
       "<tr>\n",
       "  <th>circuit_name[T.Shanghai International Circuit]</th>       <td>    0.1817</td> <td>    0.044</td> <td>    4.093</td> <td> 0.000</td> <td>    0.095</td> <td>    0.269</td>\n",
       "</tr>\n",
       "<tr>\n",
       "  <th>circuit_name[T.Silverstone Circuit]</th>                  <td>    0.0111</td> <td>    0.033</td> <td>    0.338</td> <td> 0.735</td> <td>   -0.053</td> <td>    0.075</td>\n",
       "</tr>\n",
       "<tr>\n",
       "  <th>circuit_name[T.Sochi Autodrom]</th>                       <td>    0.1162</td> <td>    0.042</td> <td>    2.795</td> <td> 0.005</td> <td>    0.035</td> <td>    0.198</td>\n",
       "</tr>\n",
       "<tr>\n",
       "  <th>circuit_name[T.Suzuka Circuit]</th>                       <td>    0.0450</td> <td>    0.039</td> <td>    1.168</td> <td> 0.243</td> <td>   -0.031</td> <td>    0.121</td>\n",
       "</tr>\n",
       "<tr>\n",
       "  <th>circuit_name[T.Yas Marina Circuit]</th>                   <td>    0.0664</td> <td>    0.040</td> <td>    1.663</td> <td> 0.096</td> <td>   -0.012</td> <td>    0.145</td>\n",
       "</tr>\n",
       "<tr>\n",
       "  <th>year</th>                                                 <td>    0.0185</td> <td>    0.003</td> <td>    7.014</td> <td> 0.000</td> <td>    0.013</td> <td>    0.024</td>\n",
       "</tr>\n",
       "<tr>\n",
       "  <th>race_points</th>                                          <td>    0.0785</td> <td>    0.001</td> <td>  114.339</td> <td> 0.000</td> <td>    0.077</td> <td>    0.080</td>\n",
       "</tr>\n",
       "<tr>\n",
       "  <th>fastest_lap_seconds</th>                                  <td>   -0.0044</td> <td>    0.001</td> <td>   -5.454</td> <td> 0.000</td> <td>   -0.006</td> <td>   -0.003</td>\n",
       "</tr>\n",
       "<tr>\n",
       "  <th>race_fastestLapSpeed</th>                                 <td>    0.0022</td> <td>    0.000</td> <td>    5.866</td> <td> 0.000</td> <td>    0.001</td> <td>    0.003</td>\n",
       "</tr>\n",
       "<tr>\n",
       "  <th>age</th>                                                  <td>    0.0077</td> <td>    0.001</td> <td>    7.734</td> <td> 0.000</td> <td>    0.006</td> <td>    0.010</td>\n",
       "</tr>\n",
       "<tr>\n",
       "  <th>circuit_altitude</th>                                     <td> 1.201e-05</td> <td> 3.02e-05</td> <td>    0.398</td> <td> 0.691</td> <td>-4.72e-05</td> <td> 7.12e-05</td>\n",
       "</tr>\n",
       "<tr>\n",
       "  <th>q1_complete</th>                                          <td>   -1.0558</td> <td>    0.067</td> <td>  -15.812</td> <td> 0.000</td> <td>   -1.187</td> <td>   -0.925</td>\n",
       "</tr>\n",
       "<tr>\n",
       "  <th>q2_complete</th>                                          <td>    0.7311</td> <td>    0.030</td> <td>   24.193</td> <td> 0.000</td> <td>    0.672</td> <td>    0.790</td>\n",
       "</tr>\n",
       "<tr>\n",
       "  <th>q3_complete</th>                                          <td>    0.6577</td> <td>    0.019</td> <td>   34.326</td> <td> 0.000</td> <td>    0.620</td> <td>    0.695</td>\n",
       "</tr>\n",
       "</table>"
      ],
      "text/latex": [
       "\\begin{center}\n",
       "\\begin{tabular}{lclc}\n",
       "\\toprule\n",
       "\\textbf{Dep. Variable:}                                        & constructor\\_points & \\textbf{  No. Observations:  } &     3481    \\\\\n",
       "\\textbf{Model:}                                                &         GLM         & \\textbf{  Df Residuals:      } &     3441    \\\\\n",
       "\\textbf{Model Family:}                                         &       Poisson       & \\textbf{  Df Model:          } &       39    \\\\\n",
       "\\textbf{Link Function:}                                        &         Log         & \\textbf{  Scale:             } &    1.0000   \\\\\n",
       "\\textbf{Method:}                                               &         IRLS        & \\textbf{  Log-Likelihood:    } &   -14463.   \\\\\n",
       "\\textbf{Date:}                                                 &   Wed, 05 Jun 2024  & \\textbf{  Deviance:          } &    19519.   \\\\\n",
       "\\textbf{Time:}                                                 &       14:20:51      & \\textbf{  Pearson chi2:      } &  2.14e+04   \\\\\n",
       "\\textbf{No. Iterations:}                                       &         100         & \\textbf{  Pseudo R-squ. (CS):} &    1.000    \\\\\n",
       "\\textbf{Covariance Type:}                                      &      nonrobust      & \\textbf{                     } &             \\\\\n",
       "\\bottomrule\n",
       "\\end{tabular}\n",
       "\\begin{tabular}{lcccccc}\n",
       "                                                               & \\textbf{coef} & \\textbf{std err} & \\textbf{z} & \\textbf{P$> |$z$|$} & \\textbf{[0.025} & \\textbf{0.975]}  \\\\\n",
       "\\midrule\n",
       "\\textbf{Intercept}                                             &     -36.1470  &        5.339     &    -6.770  &         0.000        &      -46.612    &      -25.682     \\\\\n",
       "\\textbf{circuit\\_name[T.Autodromo Enzo e Dino Ferrari]}        &       0.0795  &        0.046     &     1.712  &         0.087        &       -0.012    &        0.170     \\\\\n",
       "\\textbf{circuit\\_name[T.Autodromo Internazionale del Mugello]} &      -0.0111  &        0.073     &    -0.154  &         0.878        &       -0.153    &        0.131     \\\\\n",
       "\\textbf{circuit\\_name[T.Autodromo Nazionale di Monza]}         &      -0.0377  &        0.035     &    -1.083  &         0.279        &       -0.106    &        0.031     \\\\\n",
       "\\textbf{circuit\\_name[T.Autódromo Hermanos Rodríguez]}         &       0.0289  &        0.042     &     0.687  &         0.492        &       -0.054    &        0.111     \\\\\n",
       "\\textbf{circuit\\_name[T.Autódromo Internacional do Algarve]}   &      -0.0009  &        0.055     &    -0.016  &         0.987        &       -0.109    &        0.107     \\\\\n",
       "\\textbf{circuit\\_name[T.Autódromo José Carlos Pace]}           &       0.0909  &        0.028     &     3.279  &         0.001        &        0.037    &        0.145     \\\\\n",
       "\\textbf{circuit\\_name[T.Bahrain International Circuit]}        &       0.0710  &        0.036     &     1.956  &         0.050        &       -0.000    &        0.142     \\\\\n",
       "\\textbf{circuit\\_name[T.Baku City Circuit]}                    &       0.1806  &        0.044     &     4.082  &         0.000        &        0.094    &        0.267     \\\\\n",
       "\\textbf{circuit\\_name[T.Circuit Gilles Villeneuve]}            &       0.0061  &        0.039     &     0.155  &         0.877        &       -0.071    &        0.083     \\\\\n",
       "\\textbf{circuit\\_name[T.Circuit Park Zandvoort]}               &      -0.0210  &        0.049     &    -0.431  &         0.667        &       -0.117    &        0.075     \\\\\n",
       "\\textbf{circuit\\_name[T.Circuit Paul Ricard]}                  &       0.0539  &        0.039     &     1.382  &         0.167        &       -0.023    &        0.130     \\\\\n",
       "\\textbf{circuit\\_name[T.Circuit de Barcelona-Catalunya]}       &       0.0270  &        0.035     &     0.774  &         0.439        &       -0.041    &        0.095     \\\\\n",
       "\\textbf{circuit\\_name[T.Circuit de Monaco]}                    &       0.0932  &        0.042     &     2.206  &         0.027        &        0.010    &        0.176     \\\\\n",
       "\\textbf{circuit\\_name[T.Circuit de Spa-Francorchamps]}         &       0.1272  &        0.033     &     3.832  &         0.000        &        0.062    &        0.192     \\\\\n",
       "\\textbf{circuit\\_name[T.Circuit of the Americas]}              &       0.1837  &        0.040     &     4.631  &         0.000        &        0.106    &        0.261     \\\\\n",
       "\\textbf{circuit\\_name[T.Hockenheimring]}                       &       0.1059  &        0.048     &     2.216  &         0.027        &        0.012    &        0.199     \\\\\n",
       "\\textbf{circuit\\_name[T.Hungaroring]}                          &       0.0578  &        0.033     &     1.758  &         0.079        &       -0.007    &        0.122     \\\\\n",
       "\\textbf{circuit\\_name[T.Istanbul Park]}                        &       0.1211  &        0.057     &     2.121  &         0.034        &        0.009    &        0.233     \\\\\n",
       "\\textbf{circuit\\_name[T.Jeddah Corniche Circuit]}              &      -0.0845  &        0.044     &    -1.904  &         0.057        &       -0.171    &        0.002     \\\\\n",
       "\\textbf{circuit\\_name[T.Las Vegas Strip Street Circuit]}       &       0.0975  &        0.068     &     1.440  &         0.150        &       -0.035    &        0.230     \\\\\n",
       "\\textbf{circuit\\_name[T.Losail International Circuit]}         &       0.1659  &        0.053     &     3.131  &         0.002        &        0.062    &        0.270     \\\\\n",
       "\\textbf{circuit\\_name[T.Marina Bay Street Circuit]}            &       0.2229  &        0.051     &     4.333  &         0.000        &        0.122    &        0.324     \\\\\n",
       "\\textbf{circuit\\_name[T.Miami International Autodrome]}        &       0.1622  &        0.048     &     3.346  &         0.001        &        0.067    &        0.257     \\\\\n",
       "\\textbf{circuit\\_name[T.Nürburgring]}                          &       0.0592  &        0.069     &     0.862  &         0.389        &       -0.075    &        0.194     \\\\\n",
       "\\textbf{circuit\\_name[T.Red Bull Ring]}                        &      -0.0035  &        0.030     &    -0.117  &         0.907        &       -0.063    &        0.056     \\\\\n",
       "\\textbf{circuit\\_name[T.Sepang International Circuit]}         &       0.1292  &        0.059     &     2.203  &         0.028        &        0.014    &        0.244     \\\\\n",
       "\\textbf{circuit\\_name[T.Shanghai International Circuit]}       &       0.1817  &        0.044     &     4.093  &         0.000        &        0.095    &        0.269     \\\\\n",
       "\\textbf{circuit\\_name[T.Silverstone Circuit]}                  &       0.0111  &        0.033     &     0.338  &         0.735        &       -0.053    &        0.075     \\\\\n",
       "\\textbf{circuit\\_name[T.Sochi Autodrom]}                       &       0.1162  &        0.042     &     2.795  &         0.005        &        0.035    &        0.198     \\\\\n",
       "\\textbf{circuit\\_name[T.Suzuka Circuit]}                       &       0.0450  &        0.039     &     1.168  &         0.243        &       -0.031    &        0.121     \\\\\n",
       "\\textbf{circuit\\_name[T.Yas Marina Circuit]}                   &       0.0664  &        0.040     &     1.663  &         0.096        &       -0.012    &        0.145     \\\\\n",
       "\\textbf{year}                                                  &       0.0185  &        0.003     &     7.014  &         0.000        &        0.013    &        0.024     \\\\\n",
       "\\textbf{race\\_points}                                          &       0.0785  &        0.001     &   114.339  &         0.000        &        0.077    &        0.080     \\\\\n",
       "\\textbf{fastest\\_lap\\_seconds}                                 &      -0.0044  &        0.001     &    -5.454  &         0.000        &       -0.006    &       -0.003     \\\\\n",
       "\\textbf{race\\_fastestLapSpeed}                                 &       0.0022  &        0.000     &     5.866  &         0.000        &        0.001    &        0.003     \\\\\n",
       "\\textbf{age}                                                   &       0.0077  &        0.001     &     7.734  &         0.000        &        0.006    &        0.010     \\\\\n",
       "\\textbf{circuit\\_altitude}                                     &    1.201e-05  &     3.02e-05     &     0.398  &         0.691        &    -4.72e-05    &     7.12e-05     \\\\\n",
       "\\textbf{q1\\_complete}                                          &      -1.0558  &        0.067     &   -15.812  &         0.000        &       -1.187    &       -0.925     \\\\\n",
       "\\textbf{q2\\_complete}                                          &       0.7311  &        0.030     &    24.193  &         0.000        &        0.672    &        0.790     \\\\\n",
       "\\textbf{q3\\_complete}                                          &       0.6577  &        0.019     &    34.326  &         0.000        &        0.620    &        0.695     \\\\\n",
       "\\bottomrule\n",
       "\\end{tabular}\n",
       "%\\caption{Generalized Linear Model Regression Results}\n",
       "\\end{center}"
      ],
      "text/plain": [
       "<class 'statsmodels.iolib.summary.Summary'>\n",
       "\"\"\"\n",
       "                 Generalized Linear Model Regression Results                  \n",
       "==============================================================================\n",
       "Dep. Variable:     constructor_points   No. Observations:                 3481\n",
       "Model:                            GLM   Df Residuals:                     3441\n",
       "Model Family:                 Poisson   Df Model:                           39\n",
       "Link Function:                    Log   Scale:                          1.0000\n",
       "Method:                          IRLS   Log-Likelihood:                -14463.\n",
       "Date:                Wed, 05 Jun 2024   Deviance:                       19519.\n",
       "Time:                        14:20:51   Pearson chi2:                 2.14e+04\n",
       "No. Iterations:                   100   Pseudo R-squ. (CS):              1.000\n",
       "Covariance Type:            nonrobust                                         \n",
       "========================================================================================================================\n",
       "                                                           coef    std err          z      P>|z|      [0.025      0.975]\n",
       "------------------------------------------------------------------------------------------------------------------------\n",
       "Intercept                                              -36.1470      5.339     -6.770      0.000     -46.612     -25.682\n",
       "circuit_name[T.Autodromo Enzo e Dino Ferrari]            0.0795      0.046      1.712      0.087      -0.012       0.170\n",
       "circuit_name[T.Autodromo Internazionale del Mugello]    -0.0111      0.073     -0.154      0.878      -0.153       0.131\n",
       "circuit_name[T.Autodromo Nazionale di Monza]            -0.0377      0.035     -1.083      0.279      -0.106       0.031\n",
       "circuit_name[T.Autódromo Hermanos Rodríguez]             0.0289      0.042      0.687      0.492      -0.054       0.111\n",
       "circuit_name[T.Autódromo Internacional do Algarve]      -0.0009      0.055     -0.016      0.987      -0.109       0.107\n",
       "circuit_name[T.Autódromo José Carlos Pace]               0.0909      0.028      3.279      0.001       0.037       0.145\n",
       "circuit_name[T.Bahrain International Circuit]            0.0710      0.036      1.956      0.050      -0.000       0.142\n",
       "circuit_name[T.Baku City Circuit]                        0.1806      0.044      4.082      0.000       0.094       0.267\n",
       "circuit_name[T.Circuit Gilles Villeneuve]                0.0061      0.039      0.155      0.877      -0.071       0.083\n",
       "circuit_name[T.Circuit Park Zandvoort]                  -0.0210      0.049     -0.431      0.667      -0.117       0.075\n",
       "circuit_name[T.Circuit Paul Ricard]                      0.0539      0.039      1.382      0.167      -0.023       0.130\n",
       "circuit_name[T.Circuit de Barcelona-Catalunya]           0.0270      0.035      0.774      0.439      -0.041       0.095\n",
       "circuit_name[T.Circuit de Monaco]                        0.0932      0.042      2.206      0.027       0.010       0.176\n",
       "circuit_name[T.Circuit de Spa-Francorchamps]             0.1272      0.033      3.832      0.000       0.062       0.192\n",
       "circuit_name[T.Circuit of the Americas]                  0.1837      0.040      4.631      0.000       0.106       0.261\n",
       "circuit_name[T.Hockenheimring]                           0.1059      0.048      2.216      0.027       0.012       0.199\n",
       "circuit_name[T.Hungaroring]                              0.0578      0.033      1.758      0.079      -0.007       0.122\n",
       "circuit_name[T.Istanbul Park]                            0.1211      0.057      2.121      0.034       0.009       0.233\n",
       "circuit_name[T.Jeddah Corniche Circuit]                 -0.0845      0.044     -1.904      0.057      -0.171       0.002\n",
       "circuit_name[T.Las Vegas Strip Street Circuit]           0.0975      0.068      1.440      0.150      -0.035       0.230\n",
       "circuit_name[T.Losail International Circuit]             0.1659      0.053      3.131      0.002       0.062       0.270\n",
       "circuit_name[T.Marina Bay Street Circuit]                0.2229      0.051      4.333      0.000       0.122       0.324\n",
       "circuit_name[T.Miami International Autodrome]            0.1622      0.048      3.346      0.001       0.067       0.257\n",
       "circuit_name[T.Nürburgring]                              0.0592      0.069      0.862      0.389      -0.075       0.194\n",
       "circuit_name[T.Red Bull Ring]                           -0.0035      0.030     -0.117      0.907      -0.063       0.056\n",
       "circuit_name[T.Sepang International Circuit]             0.1292      0.059      2.203      0.028       0.014       0.244\n",
       "circuit_name[T.Shanghai International Circuit]           0.1817      0.044      4.093      0.000       0.095       0.269\n",
       "circuit_name[T.Silverstone Circuit]                      0.0111      0.033      0.338      0.735      -0.053       0.075\n",
       "circuit_name[T.Sochi Autodrom]                           0.1162      0.042      2.795      0.005       0.035       0.198\n",
       "circuit_name[T.Suzuka Circuit]                           0.0450      0.039      1.168      0.243      -0.031       0.121\n",
       "circuit_name[T.Yas Marina Circuit]                       0.0664      0.040      1.663      0.096      -0.012       0.145\n",
       "year                                                     0.0185      0.003      7.014      0.000       0.013       0.024\n",
       "race_points                                              0.0785      0.001    114.339      0.000       0.077       0.080\n",
       "fastest_lap_seconds                                     -0.0044      0.001     -5.454      0.000      -0.006      -0.003\n",
       "race_fastestLapSpeed                                     0.0022      0.000      5.866      0.000       0.001       0.003\n",
       "age                                                      0.0077      0.001      7.734      0.000       0.006       0.010\n",
       "circuit_altitude                                      1.201e-05   3.02e-05      0.398      0.691   -4.72e-05    7.12e-05\n",
       "q1_complete                                             -1.0558      0.067    -15.812      0.000      -1.187      -0.925\n",
       "q2_complete                                              0.7311      0.030     24.193      0.000       0.672       0.790\n",
       "q3_complete                                              0.6577      0.019     34.326      0.000       0.620       0.695\n",
       "========================================================================================================================\n",
       "\"\"\""
      ]
     },
     "execution_count": 520,
     "metadata": {},
     "output_type": "execute_result"
    }
   ],
   "source": [
    "poisson1.summary()"
   ]
  },
  {
   "cell_type": "code",
   "execution_count": 523,
   "id": "c62ed8c3-5172-49c8-a67b-c4fd3c2cf4aa",
   "metadata": {
    "tags": []
   },
   "outputs": [
    {
     "data": {
      "text/html": [
       "<div>\n",
       "<style scoped>\n",
       "    .dataframe tbody tr th:only-of-type {\n",
       "        vertical-align: middle;\n",
       "    }\n",
       "\n",
       "    .dataframe tbody tr th {\n",
       "        vertical-align: top;\n",
       "    }\n",
       "\n",
       "    .dataframe thead th {\n",
       "        text-align: right;\n",
       "    }\n",
       "</style>\n",
       "<table border=\"1\" class=\"dataframe\">\n",
       "  <thead>\n",
       "    <tr style=\"text-align: right;\">\n",
       "      <th></th>\n",
       "      <th>Coefficients</th>\n",
       "    </tr>\n",
       "  </thead>\n",
       "  <tbody>\n",
       "    <tr>\n",
       "      <th>Intercept</th>\n",
       "      <td>-36.147046</td>\n",
       "    </tr>\n",
       "    <tr>\n",
       "      <th>circuit_name[T.Autodromo Enzo e Dino Ferrari]</th>\n",
       "      <td>0.079453</td>\n",
       "    </tr>\n",
       "    <tr>\n",
       "      <th>circuit_name[T.Autodromo Internazionale del Mugello]</th>\n",
       "      <td>-0.011138</td>\n",
       "    </tr>\n",
       "    <tr>\n",
       "      <th>circuit_name[T.Autodromo Nazionale di Monza]</th>\n",
       "      <td>-0.037679</td>\n",
       "    </tr>\n",
       "    <tr>\n",
       "      <th>circuit_name[T.Autódromo Hermanos Rodríguez]</th>\n",
       "      <td>0.028915</td>\n",
       "    </tr>\n",
       "    <tr>\n",
       "      <th>circuit_name[T.Autódromo Internacional do Algarve]</th>\n",
       "      <td>-0.000868</td>\n",
       "    </tr>\n",
       "    <tr>\n",
       "      <th>circuit_name[T.Autódromo José Carlos Pace]</th>\n",
       "      <td>0.090889</td>\n",
       "    </tr>\n",
       "    <tr>\n",
       "      <th>circuit_name[T.Bahrain International Circuit]</th>\n",
       "      <td>0.071021</td>\n",
       "    </tr>\n",
       "    <tr>\n",
       "      <th>circuit_name[T.Baku City Circuit]</th>\n",
       "      <td>0.180584</td>\n",
       "    </tr>\n",
       "    <tr>\n",
       "      <th>circuit_name[T.Circuit Gilles Villeneuve]</th>\n",
       "      <td>0.006070</td>\n",
       "    </tr>\n",
       "    <tr>\n",
       "      <th>circuit_name[T.Circuit Park Zandvoort]</th>\n",
       "      <td>-0.021008</td>\n",
       "    </tr>\n",
       "    <tr>\n",
       "      <th>circuit_name[T.Circuit Paul Ricard]</th>\n",
       "      <td>0.053906</td>\n",
       "    </tr>\n",
       "    <tr>\n",
       "      <th>circuit_name[T.Circuit de Barcelona-Catalunya]</th>\n",
       "      <td>0.027024</td>\n",
       "    </tr>\n",
       "    <tr>\n",
       "      <th>circuit_name[T.Circuit de Monaco]</th>\n",
       "      <td>0.093235</td>\n",
       "    </tr>\n",
       "    <tr>\n",
       "      <th>circuit_name[T.Circuit de Spa-Francorchamps]</th>\n",
       "      <td>0.127184</td>\n",
       "    </tr>\n",
       "    <tr>\n",
       "      <th>circuit_name[T.Circuit of the Americas]</th>\n",
       "      <td>0.183712</td>\n",
       "    </tr>\n",
       "    <tr>\n",
       "      <th>circuit_name[T.Hockenheimring]</th>\n",
       "      <td>0.105862</td>\n",
       "    </tr>\n",
       "    <tr>\n",
       "      <th>circuit_name[T.Hungaroring]</th>\n",
       "      <td>0.057789</td>\n",
       "    </tr>\n",
       "    <tr>\n",
       "      <th>circuit_name[T.Istanbul Park]</th>\n",
       "      <td>0.121149</td>\n",
       "    </tr>\n",
       "    <tr>\n",
       "      <th>circuit_name[T.Jeddah Corniche Circuit]</th>\n",
       "      <td>-0.084499</td>\n",
       "    </tr>\n",
       "    <tr>\n",
       "      <th>circuit_name[T.Las Vegas Strip Street Circuit]</th>\n",
       "      <td>0.097469</td>\n",
       "    </tr>\n",
       "    <tr>\n",
       "      <th>circuit_name[T.Losail International Circuit]</th>\n",
       "      <td>0.165879</td>\n",
       "    </tr>\n",
       "    <tr>\n",
       "      <th>circuit_name[T.Marina Bay Street Circuit]</th>\n",
       "      <td>0.222891</td>\n",
       "    </tr>\n",
       "    <tr>\n",
       "      <th>circuit_name[T.Miami International Autodrome]</th>\n",
       "      <td>0.162216</td>\n",
       "    </tr>\n",
       "    <tr>\n",
       "      <th>circuit_name[T.Nürburgring]</th>\n",
       "      <td>0.059204</td>\n",
       "    </tr>\n",
       "    <tr>\n",
       "      <th>circuit_name[T.Red Bull Ring]</th>\n",
       "      <td>-0.003536</td>\n",
       "    </tr>\n",
       "    <tr>\n",
       "      <th>circuit_name[T.Sepang International Circuit]</th>\n",
       "      <td>0.129162</td>\n",
       "    </tr>\n",
       "    <tr>\n",
       "      <th>circuit_name[T.Shanghai International Circuit]</th>\n",
       "      <td>0.181707</td>\n",
       "    </tr>\n",
       "    <tr>\n",
       "      <th>circuit_name[T.Silverstone Circuit]</th>\n",
       "      <td>0.011093</td>\n",
       "    </tr>\n",
       "    <tr>\n",
       "      <th>circuit_name[T.Sochi Autodrom]</th>\n",
       "      <td>0.116173</td>\n",
       "    </tr>\n",
       "    <tr>\n",
       "      <th>circuit_name[T.Suzuka Circuit]</th>\n",
       "      <td>0.045026</td>\n",
       "    </tr>\n",
       "    <tr>\n",
       "      <th>circuit_name[T.Yas Marina Circuit]</th>\n",
       "      <td>0.066371</td>\n",
       "    </tr>\n",
       "    <tr>\n",
       "      <th>year</th>\n",
       "      <td>0.018502</td>\n",
       "    </tr>\n",
       "    <tr>\n",
       "      <th>race_points</th>\n",
       "      <td>0.078510</td>\n",
       "    </tr>\n",
       "    <tr>\n",
       "      <th>fastest_lap_seconds</th>\n",
       "      <td>-0.004376</td>\n",
       "    </tr>\n",
       "    <tr>\n",
       "      <th>race_fastestLapSpeed</th>\n",
       "      <td>0.002166</td>\n",
       "    </tr>\n",
       "    <tr>\n",
       "      <th>age</th>\n",
       "      <td>0.007663</td>\n",
       "    </tr>\n",
       "    <tr>\n",
       "      <th>circuit_altitude</th>\n",
       "      <td>0.000012</td>\n",
       "    </tr>\n",
       "    <tr>\n",
       "      <th>q1_complete</th>\n",
       "      <td>-1.055758</td>\n",
       "    </tr>\n",
       "    <tr>\n",
       "      <th>q2_complete</th>\n",
       "      <td>0.731127</td>\n",
       "    </tr>\n",
       "    <tr>\n",
       "      <th>q3_complete</th>\n",
       "      <td>0.657697</td>\n",
       "    </tr>\n",
       "  </tbody>\n",
       "</table>\n",
       "</div>"
      ],
      "text/plain": [
       "                                                    Coefficients\n",
       "Intercept                                             -36.147046\n",
       "circuit_name[T.Autodromo Enzo e Dino Ferrari]           0.079453\n",
       "circuit_name[T.Autodromo Internazionale del Mug...     -0.011138\n",
       "circuit_name[T.Autodromo Nazionale di Monza]           -0.037679\n",
       "circuit_name[T.Autódromo Hermanos Rodríguez]            0.028915\n",
       "circuit_name[T.Autódromo Internacional do Algarve]     -0.000868\n",
       "circuit_name[T.Autódromo José Carlos Pace]              0.090889\n",
       "circuit_name[T.Bahrain International Circuit]           0.071021\n",
       "circuit_name[T.Baku City Circuit]                       0.180584\n",
       "circuit_name[T.Circuit Gilles Villeneuve]               0.006070\n",
       "circuit_name[T.Circuit Park Zandvoort]                 -0.021008\n",
       "circuit_name[T.Circuit Paul Ricard]                     0.053906\n",
       "circuit_name[T.Circuit de Barcelona-Catalunya]          0.027024\n",
       "circuit_name[T.Circuit de Monaco]                       0.093235\n",
       "circuit_name[T.Circuit de Spa-Francorchamps]            0.127184\n",
       "circuit_name[T.Circuit of the Americas]                 0.183712\n",
       "circuit_name[T.Hockenheimring]                          0.105862\n",
       "circuit_name[T.Hungaroring]                             0.057789\n",
       "circuit_name[T.Istanbul Park]                           0.121149\n",
       "circuit_name[T.Jeddah Corniche Circuit]                -0.084499\n",
       "circuit_name[T.Las Vegas Strip Street Circuit]          0.097469\n",
       "circuit_name[T.Losail International Circuit]            0.165879\n",
       "circuit_name[T.Marina Bay Street Circuit]               0.222891\n",
       "circuit_name[T.Miami International Autodrome]           0.162216\n",
       "circuit_name[T.Nürburgring]                             0.059204\n",
       "circuit_name[T.Red Bull Ring]                          -0.003536\n",
       "circuit_name[T.Sepang International Circuit]            0.129162\n",
       "circuit_name[T.Shanghai International Circuit]          0.181707\n",
       "circuit_name[T.Silverstone Circuit]                     0.011093\n",
       "circuit_name[T.Sochi Autodrom]                          0.116173\n",
       "circuit_name[T.Suzuka Circuit]                          0.045026\n",
       "circuit_name[T.Yas Marina Circuit]                      0.066371\n",
       "year                                                    0.018502\n",
       "race_points                                             0.078510\n",
       "fastest_lap_seconds                                    -0.004376\n",
       "race_fastestLapSpeed                                    0.002166\n",
       "age                                                     0.007663\n",
       "circuit_altitude                                        0.000012\n",
       "q1_complete                                            -1.055758\n",
       "q2_complete                                             0.731127\n",
       "q3_complete                                             0.657697"
      ]
     },
     "execution_count": 523,
     "metadata": {},
     "output_type": "execute_result"
    }
   ],
   "source": [
    "poisson1_coeffs = pd.DataFrame(poisson1.params)\n",
    "poisson1_coeffs= poisson1_coeffs.rename(columns={0: \"Coefficients\"})\n",
    "poisson1_coeffs"
   ]
  },
  {
   "cell_type": "code",
   "execution_count": 525,
   "id": "0644297a-afd2-4514-ad46-cb808e4b47d2",
   "metadata": {
    "tags": []
   },
   "outputs": [
    {
     "name": "stdout",
     "output_type": "stream",
     "text": [
      "Substantive Effects of Intercept and Variable Coefficients:\n",
      "0.0\n",
      "1.0827\n",
      "0.9889\n",
      "0.963\n",
      "1.0293\n",
      "0.9991\n",
      "1.0951\n",
      "1.0736\n",
      "1.1979\n",
      "1.0061\n",
      "0.9792\n",
      "1.0554\n",
      "1.0274\n",
      "1.0977\n",
      "1.1356\n",
      "1.2017\n",
      "1.1117\n",
      "1.0595\n",
      "1.1288\n",
      "0.919\n",
      "1.1024\n",
      "1.1804\n",
      "1.2497\n",
      "1.1761\n",
      "1.061\n",
      "0.9965\n",
      "1.1379\n",
      "1.1993\n",
      "1.0112\n",
      "1.1232\n",
      "1.0461\n",
      "1.0686\n",
      "1.0187\n",
      "1.0817\n",
      "0.9956\n",
      "1.0022\n",
      "1.0077\n",
      "1.0\n",
      "0.3479\n",
      "2.0774\n",
      "1.9303\n"
     ]
    }
   ],
   "source": [
    "poisson1_coefficients = poisson1_coeffs['Coefficients']\n",
    "\n",
    "print(f'Substantive Effects of Intercept and Variable Coefficients:')\n",
    "for i in poisson1_coefficients:\n",
    "    print(round(np.exp(i),4))"
   ]
  },
  {
   "cell_type": "code",
   "execution_count": 527,
   "id": "a1ab7cfb-ccef-4e0a-8406-1630ebc53e94",
   "metadata": {
    "tags": []
   },
   "outputs": [
    {
     "name": "stdout",
     "output_type": "stream",
     "text": [
      "                                                            0          1\n",
      "Intercept                                          -46.611754 -25.682338\n",
      "circuit_name[T.Autodromo Enzo e Dino Ferrari]       -0.011507   0.170414\n",
      "circuit_name[T.Autodromo Internazionale del Mug...  -0.153354   0.131078\n",
      "circuit_name[T.Autodromo Nazionale di Monza]        -0.105896   0.030538\n",
      "circuit_name[T.Autódromo Hermanos Rodríguez]        -0.053529   0.111358\n",
      "circuit_name[T.Autódromo Internacional do Algarve]  -0.108806   0.107070\n",
      "circuit_name[T.Autódromo José Carlos Pace]           0.036557   0.145221\n",
      "circuit_name[T.Bahrain International Circuit]       -0.000129   0.142171\n",
      "circuit_name[T.Baku City Circuit]                    0.093886   0.267281\n",
      "circuit_name[T.Circuit Gilles Villeneuve]           -0.070842   0.082981\n",
      "circuit_name[T.Circuit Park Zandvoort]              -0.116584   0.074567\n",
      "circuit_name[T.Circuit Paul Ricard]                 -0.022570   0.130383\n",
      "circuit_name[T.Circuit de Barcelona-Catalunya]      -0.041409   0.095457\n",
      "circuit_name[T.Circuit de Monaco]                    0.010393   0.176078\n",
      "circuit_name[T.Circuit de Spa-Francorchamps]         0.062125   0.192244\n",
      "circuit_name[T.Circuit of the Americas]              0.105963   0.261462\n",
      "circuit_name[T.Hockenheimring]                       0.012232   0.199491\n",
      "circuit_name[T.Hungaroring]                         -0.006624   0.122203\n",
      "circuit_name[T.Istanbul Park]                        0.009179   0.233118\n",
      "circuit_name[T.Jeddah Corniche Circuit]             -0.171468   0.002471\n",
      "circuit_name[T.Las Vegas Strip Street Circuit]      -0.035179   0.230117\n",
      "circuit_name[T.Losail International Circuit]         0.062039   0.269718\n",
      "circuit_name[T.Marina Bay Street Circuit]            0.122071   0.323712\n",
      "circuit_name[T.Miami International Autodrome]        0.067199   0.257233\n",
      "circuit_name[T.Nürburgring]                         -0.075465   0.193873\n",
      "circuit_name[T.Red Bull Ring]                       -0.062978   0.055905\n",
      "circuit_name[T.Sepang International Circuit]         0.014228   0.244097\n",
      "circuit_name[T.Shanghai International Circuit]       0.094688   0.268725\n",
      "circuit_name[T.Silverstone Circuit]                 -0.053189   0.075376\n",
      "circuit_name[T.Sochi Autodrom]                       0.034705   0.197640\n",
      "circuit_name[T.Suzuka Circuit]                      -0.030522   0.120574\n",
      "circuit_name[T.Yas Marina Circuit]                  -0.011834   0.144576\n",
      "year                                                 0.013332   0.023672\n",
      "race_points                                          0.077164   0.079856\n",
      "fastest_lap_seconds                                 -0.005948  -0.002803\n",
      "race_fastestLapSpeed                                 0.001442   0.002890\n",
      "age                                                  0.005721   0.009605\n",
      "circuit_altitude                                    -0.000047   0.000071\n",
      "q1_complete                                         -1.186620  -0.924896\n",
      "q2_complete                                          0.671895   0.790359\n",
      "q3_complete                                          0.620143   0.695251\n"
     ]
    }
   ],
   "source": [
    "print(poisson1.conf_int())"
   ]
  },
  {
   "cell_type": "code",
   "execution_count": 529,
   "id": "9b690d1e-d6c2-47e7-8a24-d675dc7884e8",
   "metadata": {
    "tags": []
   },
   "outputs": [],
   "source": [
    "df['poisson1_fitted_values'] = poisson1.fittedvalues"
   ]
  },
  {
   "cell_type": "code",
   "execution_count": 531,
   "id": "a4e15b68-3a6c-4c8a-a5be-041ec82f2457",
   "metadata": {
    "tags": []
   },
   "outputs": [
    {
     "data": {
      "text/plain": [
       "<Axes: xlabel='race_points', ylabel='constructor_points'>"
      ]
     },
     "execution_count": 531,
     "metadata": {},
     "output_type": "execute_result"
    },
    {
     "data": {
      "image/png": "[encoded data removed]",
      "text/plain": [
       "<Figure size 640x480 with 1 Axes>"
      ]
     },
     "metadata": {},
     "output_type": "display_data"
    }
   ],
   "source": [
    "sns.regplot(data = df, x='race_points', y='constructor_points', y_jitter = 0.3, fit_reg = True, line_kws = {'color':'purple','label':'LM fit'})\n",
    "sns.scatterplot(data = df, x='race_points', y='poisson1_fitted_values', color = 'red', label = 'Poisson')"
   ]
  },
  {
   "cell_type": "markdown",
   "id": "4ab26a39-cf52-4635-8c67-5ab72d256dcd",
   "metadata": {
    "tags": []
   },
   "source": [
    "### Poisson Regression 2"
   ]
  },
  {
   "cell_type": "markdown",
   "id": "46dbeb3a-9feb-4d24-b0af-a513d0eaf286",
   "metadata": {},
   "source": [
    "Without Circuit Name"
   ]
  },
  {
   "cell_type": "code",
   "execution_count": 535,
   "id": "c63850d3-8c76-4b7a-bddd-c4c81197847b",
   "metadata": {
    "tags": []
   },
   "outputs": [],
   "source": [
    "poisson2 = glm('constructor_points ~ year + race_points + fastest_lap_seconds + race_fastestLapSpeed + age + circuit_altitude + q1_complete + q2_complete + q3_complete', data=df, family=sm.families.Poisson()).fit()"
   ]
  },
  {
   "cell_type": "code",
   "execution_count": 537,
   "id": "6a91762a-b521-43f5-ab7e-5262b6e63790",
   "metadata": {
    "tags": []
   },
   "outputs": [
    {
     "data": {
      "text/html": [
       "<table class=\"simpletable\">\n",
       "<caption>Generalized Linear Model Regression Results</caption>\n",
       "<tr>\n",
       "  <th>Dep. Variable:</th>   <td>constructor_points</td> <th>  No. Observations:  </th>  <td>  3481</td> \n",
       "</tr>\n",
       "<tr>\n",
       "  <th>Model:</th>                   <td>GLM</td>        <th>  Df Residuals:      </th>  <td>  3471</td> \n",
       "</tr>\n",
       "<tr>\n",
       "  <th>Model Family:</th>          <td>Poisson</td>      <th>  Df Model:          </th>  <td>     9</td> \n",
       "</tr>\n",
       "<tr>\n",
       "  <th>Link Function:</th>           <td>Log</td>        <th>  Scale:             </th> <td>  1.0000</td>\n",
       "</tr>\n",
       "<tr>\n",
       "  <th>Method:</th>                 <td>IRLS</td>        <th>  Log-Likelihood:    </th> <td> -14510.</td>\n",
       "</tr>\n",
       "<tr>\n",
       "  <th>Date:</th>             <td>Wed, 05 Jun 2024</td>  <th>  Deviance:          </th> <td>  19614.</td>\n",
       "</tr>\n",
       "<tr>\n",
       "  <th>Time:</th>                 <td>14:21:08</td>      <th>  Pearson chi2:      </th> <td>2.16e+04</td>\n",
       "</tr>\n",
       "<tr>\n",
       "  <th>No. Iterations:</th>           <td>6</td>         <th>  Pseudo R-squ. (CS):</th>  <td> 1.000</td> \n",
       "</tr>\n",
       "<tr>\n",
       "  <th>Covariance Type:</th>      <td>nonrobust</td>     <th>                     </th>     <td> </td>   \n",
       "</tr>\n",
       "</table>\n",
       "<table class=\"simpletable\">\n",
       "<tr>\n",
       "            <td></td>              <th>coef</th>     <th>std err</th>      <th>z</th>      <th>P>|z|</th>  <th>[0.025</th>    <th>0.975]</th>  \n",
       "</tr>\n",
       "<tr>\n",
       "  <th>Intercept</th>            <td>  -36.9417</td> <td>    4.907</td> <td>   -7.528</td> <td> 0.000</td> <td>  -46.560</td> <td>  -27.323</td>\n",
       "</tr>\n",
       "<tr>\n",
       "  <th>year</th>                 <td>    0.0190</td> <td>    0.002</td> <td>    7.820</td> <td> 0.000</td> <td>    0.014</td> <td>    0.024</td>\n",
       "</tr>\n",
       "<tr>\n",
       "  <th>race_points</th>          <td>    0.0792</td> <td>    0.001</td> <td>  117.480</td> <td> 0.000</td> <td>    0.078</td> <td>    0.081</td>\n",
       "</tr>\n",
       "<tr>\n",
       "  <th>fastest_lap_seconds</th>  <td>   -0.0012</td> <td>    0.000</td> <td>   -3.076</td> <td> 0.002</td> <td>   -0.002</td> <td>   -0.000</td>\n",
       "</tr>\n",
       "<tr>\n",
       "  <th>race_fastestLapSpeed</th> <td>    0.0007</td> <td>    0.000</td> <td>    3.595</td> <td> 0.000</td> <td>    0.000</td> <td>    0.001</td>\n",
       "</tr>\n",
       "<tr>\n",
       "  <th>age</th>                  <td>    0.0077</td> <td>    0.001</td> <td>    7.753</td> <td> 0.000</td> <td>    0.006</td> <td>    0.010</td>\n",
       "</tr>\n",
       "<tr>\n",
       "  <th>circuit_altitude</th>     <td> 4.692e-06</td> <td> 1.17e-05</td> <td>    0.403</td> <td> 0.687</td> <td>-1.82e-05</td> <td> 2.75e-05</td>\n",
       "</tr>\n",
       "<tr>\n",
       "  <th>q1_complete</th>          <td>   -1.0779</td> <td>    0.066</td> <td>  -16.209</td> <td> 0.000</td> <td>   -1.208</td> <td>   -0.948</td>\n",
       "</tr>\n",
       "<tr>\n",
       "  <th>q2_complete</th>          <td>    0.7340</td> <td>    0.030</td> <td>   24.305</td> <td> 0.000</td> <td>    0.675</td> <td>    0.793</td>\n",
       "</tr>\n",
       "<tr>\n",
       "  <th>q3_complete</th>          <td>    0.6550</td> <td>    0.019</td> <td>   34.223</td> <td> 0.000</td> <td>    0.618</td> <td>    0.693</td>\n",
       "</tr>\n",
       "</table>"
      ],
      "text/latex": [
       "\\begin{center}\n",
       "\\begin{tabular}{lclc}\n",
       "\\toprule\n",
       "\\textbf{Dep. Variable:}        & constructor\\_points & \\textbf{  No. Observations:  } &     3481    \\\\\n",
       "\\textbf{Model:}                &         GLM         & \\textbf{  Df Residuals:      } &     3471    \\\\\n",
       "\\textbf{Model Family:}         &       Poisson       & \\textbf{  Df Model:          } &        9    \\\\\n",
       "\\textbf{Link Function:}        &         Log         & \\textbf{  Scale:             } &    1.0000   \\\\\n",
       "\\textbf{Method:}               &         IRLS        & \\textbf{  Log-Likelihood:    } &   -14510.   \\\\\n",
       "\\textbf{Date:}                 &   Wed, 05 Jun 2024  & \\textbf{  Deviance:          } &    19614.   \\\\\n",
       "\\textbf{Time:}                 &       14:21:08      & \\textbf{  Pearson chi2:      } &  2.16e+04   \\\\\n",
       "\\textbf{No. Iterations:}       &          6          & \\textbf{  Pseudo R-squ. (CS):} &    1.000    \\\\\n",
       "\\textbf{Covariance Type:}      &      nonrobust      & \\textbf{                     } &             \\\\\n",
       "\\bottomrule\n",
       "\\end{tabular}\n",
       "\\begin{tabular}{lcccccc}\n",
       "                               & \\textbf{coef} & \\textbf{std err} & \\textbf{z} & \\textbf{P$> |$z$|$} & \\textbf{[0.025} & \\textbf{0.975]}  \\\\\n",
       "\\midrule\n",
       "\\textbf{Intercept}             &     -36.9417  &        4.907     &    -7.528  &         0.000        &      -46.560    &      -27.323     \\\\\n",
       "\\textbf{year}                  &       0.0190  &        0.002     &     7.820  &         0.000        &        0.014    &        0.024     \\\\\n",
       "\\textbf{race\\_points}          &       0.0792  &        0.001     &   117.480  &         0.000        &        0.078    &        0.081     \\\\\n",
       "\\textbf{fastest\\_lap\\_seconds} &      -0.0012  &        0.000     &    -3.076  &         0.002        &       -0.002    &       -0.000     \\\\\n",
       "\\textbf{race\\_fastestLapSpeed} &       0.0007  &        0.000     &     3.595  &         0.000        &        0.000    &        0.001     \\\\\n",
       "\\textbf{age}                   &       0.0077  &        0.001     &     7.753  &         0.000        &        0.006    &        0.010     \\\\\n",
       "\\textbf{circuit\\_altitude}     &    4.692e-06  &     1.17e-05     &     0.403  &         0.687        &    -1.82e-05    &     2.75e-05     \\\\\n",
       "\\textbf{q1\\_complete}          &      -1.0779  &        0.066     &   -16.209  &         0.000        &       -1.208    &       -0.948     \\\\\n",
       "\\textbf{q2\\_complete}          &       0.7340  &        0.030     &    24.305  &         0.000        &        0.675    &        0.793     \\\\\n",
       "\\textbf{q3\\_complete}          &       0.6550  &        0.019     &    34.223  &         0.000        &        0.618    &        0.693     \\\\\n",
       "\\bottomrule\n",
       "\\end{tabular}\n",
       "%\\caption{Generalized Linear Model Regression Results}\n",
       "\\end{center}"
      ],
      "text/plain": [
       "<class 'statsmodels.iolib.summary.Summary'>\n",
       "\"\"\"\n",
       "                 Generalized Linear Model Regression Results                  \n",
       "==============================================================================\n",
       "Dep. Variable:     constructor_points   No. Observations:                 3481\n",
       "Model:                            GLM   Df Residuals:                     3471\n",
       "Model Family:                 Poisson   Df Model:                            9\n",
       "Link Function:                    Log   Scale:                          1.0000\n",
       "Method:                          IRLS   Log-Likelihood:                -14510.\n",
       "Date:                Wed, 05 Jun 2024   Deviance:                       19614.\n",
       "Time:                        14:21:08   Pearson chi2:                 2.16e+04\n",
       "No. Iterations:                     6   Pseudo R-squ. (CS):              1.000\n",
       "Covariance Type:            nonrobust                                         \n",
       "========================================================================================\n",
       "                           coef    std err          z      P>|z|      [0.025      0.975]\n",
       "----------------------------------------------------------------------------------------\n",
       "Intercept              -36.9417      4.907     -7.528      0.000     -46.560     -27.323\n",
       "year                     0.0190      0.002      7.820      0.000       0.014       0.024\n",
       "race_points              0.0792      0.001    117.480      0.000       0.078       0.081\n",
       "fastest_lap_seconds     -0.0012      0.000     -3.076      0.002      -0.002      -0.000\n",
       "race_fastestLapSpeed     0.0007      0.000      3.595      0.000       0.000       0.001\n",
       "age                      0.0077      0.001      7.753      0.000       0.006       0.010\n",
       "circuit_altitude      4.692e-06   1.17e-05      0.403      0.687   -1.82e-05    2.75e-05\n",
       "q1_complete             -1.0779      0.066    -16.209      0.000      -1.208      -0.948\n",
       "q2_complete              0.7340      0.030     24.305      0.000       0.675       0.793\n",
       "q3_complete              0.6550      0.019     34.223      0.000       0.618       0.693\n",
       "========================================================================================\n",
       "\"\"\""
      ]
     },
     "execution_count": 537,
     "metadata": {},
     "output_type": "execute_result"
    }
   ],
   "source": [
    "poisson2.summary()"
   ]
  },
  {
   "cell_type": "code",
   "execution_count": 539,
   "id": "36ba6842-e3f7-4f71-8a0c-88f00b488cf3",
   "metadata": {
    "tags": []
   },
   "outputs": [
    {
     "data": {
      "text/html": [
       "<div>\n",
       "<style scoped>\n",
       "    .dataframe tbody tr th:only-of-type {\n",
       "        vertical-align: middle;\n",
       "    }\n",
       "\n",
       "    .dataframe tbody tr th {\n",
       "        vertical-align: top;\n",
       "    }\n",
       "\n",
       "    .dataframe thead th {\n",
       "        text-align: right;\n",
       "    }\n",
       "</style>\n",
       "<table border=\"1\" class=\"dataframe\">\n",
       "  <thead>\n",
       "    <tr style=\"text-align: right;\">\n",
       "      <th></th>\n",
       "      <th>Coefficients</th>\n",
       "    </tr>\n",
       "  </thead>\n",
       "  <tbody>\n",
       "    <tr>\n",
       "      <th>Intercept</th>\n",
       "      <td>-36.941676</td>\n",
       "    </tr>\n",
       "    <tr>\n",
       "      <th>year</th>\n",
       "      <td>0.018954</td>\n",
       "    </tr>\n",
       "    <tr>\n",
       "      <th>race_points</th>\n",
       "      <td>0.079187</td>\n",
       "    </tr>\n",
       "    <tr>\n",
       "      <th>fastest_lap_seconds</th>\n",
       "      <td>-0.001206</td>\n",
       "    </tr>\n",
       "    <tr>\n",
       "      <th>race_fastestLapSpeed</th>\n",
       "      <td>0.000667</td>\n",
       "    </tr>\n",
       "    <tr>\n",
       "      <th>age</th>\n",
       "      <td>0.007662</td>\n",
       "    </tr>\n",
       "    <tr>\n",
       "      <th>circuit_altitude</th>\n",
       "      <td>0.000005</td>\n",
       "    </tr>\n",
       "    <tr>\n",
       "      <th>q1_complete</th>\n",
       "      <td>-1.077877</td>\n",
       "    </tr>\n",
       "    <tr>\n",
       "      <th>q2_complete</th>\n",
       "      <td>0.734036</td>\n",
       "    </tr>\n",
       "    <tr>\n",
       "      <th>q3_complete</th>\n",
       "      <td>0.655014</td>\n",
       "    </tr>\n",
       "  </tbody>\n",
       "</table>\n",
       "</div>"
      ],
      "text/plain": [
       "                      Coefficients\n",
       "Intercept               -36.941676\n",
       "year                      0.018954\n",
       "race_points               0.079187\n",
       "fastest_lap_seconds      -0.001206\n",
       "race_fastestLapSpeed      0.000667\n",
       "age                       0.007662\n",
       "circuit_altitude          0.000005\n",
       "q1_complete              -1.077877\n",
       "q2_complete               0.734036\n",
       "q3_complete               0.655014"
      ]
     },
     "execution_count": 539,
     "metadata": {},
     "output_type": "execute_result"
    }
   ],
   "source": [
    "poisson2_coeffs = pd.DataFrame(poisson2.params)\n",
    "poisson2_coeffs= poisson2_coeffs.rename(columns={0: \"Coefficients\"})\n",
    "poisson2_coeffs"
   ]
  },
  {
   "cell_type": "code",
   "execution_count": 541,
   "id": "943ed0d5-0a60-43e0-a67e-59b108cdd265",
   "metadata": {
    "tags": []
   },
   "outputs": [
    {
     "name": "stdout",
     "output_type": "stream",
     "text": [
      "Substantive Effects of Intercept and Variable Coefficients:\n",
      "0.0\n",
      "1.0191\n",
      "1.0824\n",
      "0.9988\n",
      "1.0007\n",
      "1.0077\n",
      "1.0\n",
      "0.3403\n",
      "2.0835\n",
      "1.9252\n"
     ]
    }
   ],
   "source": [
    "poisson2_coefficients = poisson2_coeffs['Coefficients']\n",
    "\n",
    "print(f'Substantive Effects of Intercept and Variable Coefficients:')\n",
    "for i in poisson2_coefficients:\n",
    "    print(round(np.exp(i),4))"
   ]
  },
  {
   "cell_type": "code",
   "execution_count": 543,
   "id": "a16d54d9-a311-447d-b0a0-6a9113cc2a8e",
   "metadata": {
    "tags": []
   },
   "outputs": [
    {
     "name": "stdout",
     "output_type": "stream",
     "text": [
      "                              0          1\n",
      "Intercept            -46.560179 -27.323174\n",
      "year                   0.014204   0.023705\n",
      "race_points            0.077866   0.080509\n",
      "fastest_lap_seconds   -0.001975  -0.000438\n",
      "race_fastestLapSpeed   0.000303   0.001030\n",
      "age                    0.005725   0.009599\n",
      "circuit_altitude      -0.000018   0.000028\n",
      "q1_complete           -1.208211  -0.947543\n",
      "q2_complete            0.674843   0.793229\n",
      "q3_complete            0.617501   0.692527\n"
     ]
    }
   ],
   "source": [
    "print(poisson2.conf_int())"
   ]
  },
  {
   "cell_type": "code",
   "execution_count": 545,
   "id": "0b1333e6-df44-4c1c-a00a-99e5656b0c34",
   "metadata": {
    "tags": []
   },
   "outputs": [],
   "source": [
    "df['poisson2_fitted_values'] = poisson2.fittedvalues"
   ]
  },
  {
   "cell_type": "code",
   "execution_count": 547,
   "id": "c62cdfbf-d2a8-4be7-b486-e5997666d4c8",
   "metadata": {
    "tags": []
   },
   "outputs": [
    {
     "data": {
      "text/plain": [
       "<Axes: xlabel='race_points', ylabel='constructor_points'>"
      ]
     },
     "execution_count": 547,
     "metadata": {},
     "output_type": "execute_result"
    },
    {
     "data": {
      "image/png": "[encoded data removed]",
      "text/plain": [
       "<Figure size 640x480 with 1 Axes>"
      ]
     },
     "metadata": {},
     "output_type": "display_data"
    }
   ],
   "source": [
    "sns.regplot(data = df, x='race_points', y='constructor_points', y_jitter = 0.3, fit_reg = True, line_kws = {'color':'purple','label':'LM fit'})\n",
    "sns.scatterplot(data = df, x='race_points', y='poisson2_fitted_values', color = 'red', label = 'Poisson')"
   ]
  },
  {
   "cell_type": "markdown",
   "id": "8a13335f-55ca-469f-9d98-70618f613af5",
   "metadata": {},
   "source": [
    "Including circuit name improves the model, so we will keep it as an input variable."
   ]
  },
  {
   "cell_type": "markdown",
   "id": "b939f0b7-7181-4f4a-8e4b-2f78a4a855fe",
   "metadata": {},
   "source": [
    "### Negative Binomial #1"
   ]
  },
  {
   "cell_type": "markdown",
   "id": "74c5236e-5b7b-454c-a892-7b737d67ddd0",
   "metadata": {},
   "source": [
    "WIth Circuit Name"
   ]
  },
  {
   "cell_type": "code",
   "execution_count": 552,
   "id": "9132e341-b8a0-4d64-a89b-d42fb59c8c4c",
   "metadata": {
    "tags": []
   },
   "outputs": [],
   "source": [
    "negativebinomial1 = glm('constructor_points ~ year + race_points + fastest_lap_seconds + race_fastestLapSpeed + age + circuit_altitude + C(q1_complete,Treatment(0)) + q2_complete + q3_complete + circuit_name', data=df, family=sm.families.NegativeBinomial()).fit()"
   ]
  },
  {
   "cell_type": "code",
   "execution_count": 553,
   "id": "098265ec-4a35-4109-a850-190f12c0175a",
   "metadata": {
    "tags": []
   },
   "outputs": [
    {
     "data": {
      "text/html": [
       "<table class=\"simpletable\">\n",
       "<caption>Generalized Linear Model Regression Results</caption>\n",
       "<tr>\n",
       "  <th>Dep. Variable:</th>   <td>constructor_points</td> <th>  No. Observations:  </th>  <td>  3481</td> \n",
       "</tr>\n",
       "<tr>\n",
       "  <th>Model:</th>                   <td>GLM</td>        <th>  Df Residuals:      </th>  <td>  3441</td> \n",
       "</tr>\n",
       "<tr>\n",
       "  <th>Model Family:</th>     <td>NegativeBinomial</td>  <th>  Df Model:          </th>  <td>    39</td> \n",
       "</tr>\n",
       "<tr>\n",
       "  <th>Link Function:</th>           <td>Log</td>        <th>  Scale:             </th> <td>  1.0000</td>\n",
       "</tr>\n",
       "<tr>\n",
       "  <th>Method:</th>                 <td>IRLS</td>        <th>  Log-Likelihood:    </th> <td> -9790.7</td>\n",
       "</tr>\n",
       "<tr>\n",
       "  <th>Date:</th>             <td>Wed, 05 Jun 2024</td>  <th>  Deviance:          </th> <td>  4319.0</td>\n",
       "</tr>\n",
       "<tr>\n",
       "  <th>Time:</th>                 <td>14:21:21</td>      <th>  Pearson chi2:      </th> <td>4.78e+03</td>\n",
       "</tr>\n",
       "<tr>\n",
       "  <th>No. Iterations:</th>          <td>100</td>        <th>  Pseudo R-squ. (CS):</th>  <td>0.6748</td> \n",
       "</tr>\n",
       "<tr>\n",
       "  <th>Covariance Type:</th>      <td>nonrobust</td>     <th>                     </th>     <td> </td>   \n",
       "</tr>\n",
       "</table>\n",
       "<table class=\"simpletable\">\n",
       "<tr>\n",
       "                            <td></td>                              <th>coef</th>     <th>std err</th>      <th>z</th>      <th>P>|z|</th>  <th>[0.025</th>    <th>0.975]</th>  \n",
       "</tr>\n",
       "<tr>\n",
       "  <th>Intercept</th>                                            <td>  -48.3843</td> <td>   18.767</td> <td>   -2.578</td> <td> 0.010</td> <td>  -85.167</td> <td>  -11.602</td>\n",
       "</tr>\n",
       "<tr>\n",
       "  <th>C(q1_complete, Treatment(0))[T.1]</th>                    <td>   -0.9838</td> <td>    0.187</td> <td>   -5.265</td> <td> 0.000</td> <td>   -1.350</td> <td>   -0.618</td>\n",
       "</tr>\n",
       "<tr>\n",
       "  <th>circuit_name[T.Autodromo Enzo e Dino Ferrari]</th>        <td>    0.1984</td> <td>    0.169</td> <td>    1.175</td> <td> 0.240</td> <td>   -0.132</td> <td>    0.529</td>\n",
       "</tr>\n",
       "<tr>\n",
       "  <th>circuit_name[T.Autodromo Internazionale del Mugello]</th> <td>    0.2529</td> <td>    0.257</td> <td>    0.982</td> <td> 0.326</td> <td>   -0.252</td> <td>    0.758</td>\n",
       "</tr>\n",
       "<tr>\n",
       "  <th>circuit_name[T.Autodromo Nazionale di Monza]</th>         <td>   -0.2251</td> <td>    0.124</td> <td>   -1.812</td> <td> 0.070</td> <td>   -0.469</td> <td>    0.018</td>\n",
       "</tr>\n",
       "<tr>\n",
       "  <th>circuit_name[T.Autódromo Hermanos Rodríguez]</th>         <td>    0.1116</td> <td>    0.150</td> <td>    0.743</td> <td> 0.458</td> <td>   -0.183</td> <td>    0.406</td>\n",
       "</tr>\n",
       "<tr>\n",
       "  <th>circuit_name[T.Autódromo Internacional do Algarve]</th>   <td>   -0.0595</td> <td>    0.197</td> <td>   -0.302</td> <td> 0.763</td> <td>   -0.446</td> <td>    0.327</td>\n",
       "</tr>\n",
       "<tr>\n",
       "  <th>circuit_name[T.Autódromo José Carlos Pace]</th>           <td>    0.0231</td> <td>    0.101</td> <td>    0.227</td> <td> 0.820</td> <td>   -0.176</td> <td>    0.222</td>\n",
       "</tr>\n",
       "<tr>\n",
       "  <th>circuit_name[T.Bahrain International Circuit]</th>        <td>   -0.0979</td> <td>    0.128</td> <td>   -0.765</td> <td> 0.444</td> <td>   -0.349</td> <td>    0.153</td>\n",
       "</tr>\n",
       "<tr>\n",
       "  <th>circuit_name[T.Baku City Circuit]</th>                    <td>    0.1588</td> <td>    0.152</td> <td>    1.047</td> <td> 0.295</td> <td>   -0.139</td> <td>    0.456</td>\n",
       "</tr>\n",
       "<tr>\n",
       "  <th>circuit_name[T.Circuit Gilles Villeneuve]</th>            <td>   -0.1617</td> <td>    0.140</td> <td>   -1.157</td> <td> 0.247</td> <td>   -0.436</td> <td>    0.112</td>\n",
       "</tr>\n",
       "<tr>\n",
       "  <th>circuit_name[T.Circuit Park Zandvoort]</th>               <td>    0.0384</td> <td>    0.173</td> <td>    0.222</td> <td> 0.824</td> <td>   -0.300</td> <td>    0.377</td>\n",
       "</tr>\n",
       "<tr>\n",
       "  <th>circuit_name[T.Circuit Paul Ricard]</th>                  <td>   -0.2161</td> <td>    0.141</td> <td>   -1.530</td> <td> 0.126</td> <td>   -0.493</td> <td>    0.061</td>\n",
       "</tr>\n",
       "<tr>\n",
       "  <th>circuit_name[T.Circuit de Barcelona-Catalunya]</th>       <td>   -0.1263</td> <td>    0.124</td> <td>   -1.017</td> <td> 0.309</td> <td>   -0.370</td> <td>    0.117</td>\n",
       "</tr>\n",
       "<tr>\n",
       "  <th>circuit_name[T.Circuit de Monaco]</th>                    <td>    0.1285</td> <td>    0.144</td> <td>    0.891</td> <td> 0.373</td> <td>   -0.154</td> <td>    0.411</td>\n",
       "</tr>\n",
       "<tr>\n",
       "  <th>circuit_name[T.Circuit de Spa-Francorchamps]</th>         <td>    0.0454</td> <td>    0.114</td> <td>    0.398</td> <td> 0.691</td> <td>   -0.178</td> <td>    0.269</td>\n",
       "</tr>\n",
       "<tr>\n",
       "  <th>circuit_name[T.Circuit of the Americas]</th>              <td>    0.0978</td> <td>    0.138</td> <td>    0.711</td> <td> 0.477</td> <td>   -0.172</td> <td>    0.368</td>\n",
       "</tr>\n",
       "<tr>\n",
       "  <th>circuit_name[T.Hockenheimring]</th>                       <td>    0.1809</td> <td>    0.166</td> <td>    1.090</td> <td> 0.276</td> <td>   -0.144</td> <td>    0.506</td>\n",
       "</tr>\n",
       "<tr>\n",
       "  <th>circuit_name[T.Hungaroring]</th>                          <td>   -0.1458</td> <td>    0.117</td> <td>   -1.250</td> <td> 0.211</td> <td>   -0.374</td> <td>    0.083</td>\n",
       "</tr>\n",
       "<tr>\n",
       "  <th>circuit_name[T.Istanbul Park]</th>                        <td>    0.1160</td> <td>    0.201</td> <td>    0.576</td> <td> 0.564</td> <td>   -0.278</td> <td>    0.510</td>\n",
       "</tr>\n",
       "<tr>\n",
       "  <th>circuit_name[T.Jeddah Corniche Circuit]</th>              <td>   -0.2798</td> <td>    0.159</td> <td>   -1.764</td> <td> 0.078</td> <td>   -0.591</td> <td>    0.031</td>\n",
       "</tr>\n",
       "<tr>\n",
       "  <th>circuit_name[T.Las Vegas Strip Street Circuit]</th>       <td>   -0.0050</td> <td>    0.240</td> <td>   -0.021</td> <td> 0.983</td> <td>   -0.476</td> <td>    0.466</td>\n",
       "</tr>\n",
       "<tr>\n",
       "  <th>circuit_name[T.Losail International Circuit]</th>         <td>    0.2736</td> <td>    0.197</td> <td>    1.388</td> <td> 0.165</td> <td>   -0.113</td> <td>    0.660</td>\n",
       "</tr>\n",
       "<tr>\n",
       "  <th>circuit_name[T.Marina Bay Street Circuit]</th>            <td>    0.1200</td> <td>    0.172</td> <td>    0.697</td> <td> 0.486</td> <td>   -0.218</td> <td>    0.458</td>\n",
       "</tr>\n",
       "<tr>\n",
       "  <th>circuit_name[T.Miami International Autodrome]</th>        <td>    0.0129</td> <td>    0.177</td> <td>    0.073</td> <td> 0.942</td> <td>   -0.335</td> <td>    0.360</td>\n",
       "</tr>\n",
       "<tr>\n",
       "  <th>circuit_name[T.Nürburgring]</th>                          <td>    0.5608</td> <td>    0.237</td> <td>    2.370</td> <td> 0.018</td> <td>    0.097</td> <td>    1.025</td>\n",
       "</tr>\n",
       "<tr>\n",
       "  <th>circuit_name[T.Red Bull Ring]</th>                        <td>   -0.0358</td> <td>    0.105</td> <td>   -0.340</td> <td> 0.734</td> <td>   -0.242</td> <td>    0.171</td>\n",
       "</tr>\n",
       "<tr>\n",
       "  <th>circuit_name[T.Sepang International Circuit]</th>         <td>   -0.0832</td> <td>    0.206</td> <td>   -0.404</td> <td> 0.686</td> <td>   -0.487</td> <td>    0.320</td>\n",
       "</tr>\n",
       "<tr>\n",
       "  <th>circuit_name[T.Shanghai International Circuit]</th>       <td>   -0.0665</td> <td>    0.157</td> <td>   -0.423</td> <td> 0.672</td> <td>   -0.374</td> <td>    0.241</td>\n",
       "</tr>\n",
       "<tr>\n",
       "  <th>circuit_name[T.Silverstone Circuit]</th>                  <td>   -0.0914</td> <td>    0.117</td> <td>   -0.782</td> <td> 0.434</td> <td>   -0.321</td> <td>    0.138</td>\n",
       "</tr>\n",
       "<tr>\n",
       "  <th>circuit_name[T.Sochi Autodrom]</th>                       <td>    0.0394</td> <td>    0.146</td> <td>    0.271</td> <td> 0.787</td> <td>   -0.246</td> <td>    0.325</td>\n",
       "</tr>\n",
       "<tr>\n",
       "  <th>circuit_name[T.Suzuka Circuit]</th>                       <td>   -0.1969</td> <td>    0.137</td> <td>   -1.441</td> <td> 0.150</td> <td>   -0.465</td> <td>    0.071</td>\n",
       "</tr>\n",
       "<tr>\n",
       "  <th>circuit_name[T.Yas Marina Circuit]</th>                   <td>   -0.2024</td> <td>    0.140</td> <td>   -1.444</td> <td> 0.149</td> <td>   -0.477</td> <td>    0.072</td>\n",
       "</tr>\n",
       "<tr>\n",
       "  <th>year</th>                                                 <td>    0.0246</td> <td>    0.009</td> <td>    2.652</td> <td> 0.008</td> <td>    0.006</td> <td>    0.043</td>\n",
       "</tr>\n",
       "<tr>\n",
       "  <th>race_points</th>                                          <td>    0.1148</td> <td>    0.003</td> <td>   37.593</td> <td> 0.000</td> <td>    0.109</td> <td>    0.121</td>\n",
       "</tr>\n",
       "<tr>\n",
       "  <th>fastest_lap_seconds</th>                                  <td>   -0.0057</td> <td>    0.003</td> <td>   -2.256</td> <td> 0.024</td> <td>   -0.011</td> <td>   -0.001</td>\n",
       "</tr>\n",
       "<tr>\n",
       "  <th>race_fastestLapSpeed</th>                                 <td>    0.0017</td> <td>    0.001</td> <td>    1.498</td> <td> 0.134</td> <td>   -0.001</td> <td>    0.004</td>\n",
       "</tr>\n",
       "<tr>\n",
       "  <th>age</th>                                                  <td>    0.0046</td> <td>    0.004</td> <td>    1.284</td> <td> 0.199</td> <td>   -0.002</td> <td>    0.012</td>\n",
       "</tr>\n",
       "<tr>\n",
       "  <th>circuit_altitude</th>                                     <td>   -0.0001</td> <td>    0.000</td> <td>   -1.077</td> <td> 0.281</td> <td>   -0.000</td> <td> 9.46e-05</td>\n",
       "</tr>\n",
       "<tr>\n",
       "  <th>q2_complete</th>                                          <td>    0.7073</td> <td>    0.060</td> <td>   11.834</td> <td> 0.000</td> <td>    0.590</td> <td>    0.824</td>\n",
       "</tr>\n",
       "<tr>\n",
       "  <th>q3_complete</th>                                          <td>    0.6506</td> <td>    0.052</td> <td>   12.519</td> <td> 0.000</td> <td>    0.549</td> <td>    0.752</td>\n",
       "</tr>\n",
       "</table>"
      ],
      "text/latex": [
       "\\begin{center}\n",
       "\\begin{tabular}{lclc}\n",
       "\\toprule\n",
       "\\textbf{Dep. Variable:}                                        & constructor\\_points & \\textbf{  No. Observations:  } &     3481    \\\\\n",
       "\\textbf{Model:}                                                &         GLM         & \\textbf{  Df Residuals:      } &     3441    \\\\\n",
       "\\textbf{Model Family:}                                         &   NegativeBinomial  & \\textbf{  Df Model:          } &       39    \\\\\n",
       "\\textbf{Link Function:}                                        &         Log         & \\textbf{  Scale:             } &    1.0000   \\\\\n",
       "\\textbf{Method:}                                               &         IRLS        & \\textbf{  Log-Likelihood:    } &   -9790.7   \\\\\n",
       "\\textbf{Date:}                                                 &   Wed, 05 Jun 2024  & \\textbf{  Deviance:          } &    4319.0   \\\\\n",
       "\\textbf{Time:}                                                 &       14:21:21      & \\textbf{  Pearson chi2:      } &  4.78e+03   \\\\\n",
       "\\textbf{No. Iterations:}                                       &         100         & \\textbf{  Pseudo R-squ. (CS):} &   0.6748    \\\\\n",
       "\\textbf{Covariance Type:}                                      &      nonrobust      & \\textbf{                     } &             \\\\\n",
       "\\bottomrule\n",
       "\\end{tabular}\n",
       "\\begin{tabular}{lcccccc}\n",
       "                                                               & \\textbf{coef} & \\textbf{std err} & \\textbf{z} & \\textbf{P$> |$z$|$} & \\textbf{[0.025} & \\textbf{0.975]}  \\\\\n",
       "\\midrule\n",
       "\\textbf{Intercept}                                             &     -48.3843  &       18.767     &    -2.578  &         0.010        &      -85.167    &      -11.602     \\\\\n",
       "\\textbf{C(q1\\_complete, Treatment(0))[T.1]}                    &      -0.9838  &        0.187     &    -5.265  &         0.000        &       -1.350    &       -0.618     \\\\\n",
       "\\textbf{circuit\\_name[T.Autodromo Enzo e Dino Ferrari]}        &       0.1984  &        0.169     &     1.175  &         0.240        &       -0.132    &        0.529     \\\\\n",
       "\\textbf{circuit\\_name[T.Autodromo Internazionale del Mugello]} &       0.2529  &        0.257     &     0.982  &         0.326        &       -0.252    &        0.758     \\\\\n",
       "\\textbf{circuit\\_name[T.Autodromo Nazionale di Monza]}         &      -0.2251  &        0.124     &    -1.812  &         0.070        &       -0.469    &        0.018     \\\\\n",
       "\\textbf{circuit\\_name[T.Autódromo Hermanos Rodríguez]}         &       0.1116  &        0.150     &     0.743  &         0.458        &       -0.183    &        0.406     \\\\\n",
       "\\textbf{circuit\\_name[T.Autódromo Internacional do Algarve]}   &      -0.0595  &        0.197     &    -0.302  &         0.763        &       -0.446    &        0.327     \\\\\n",
       "\\textbf{circuit\\_name[T.Autódromo José Carlos Pace]}           &       0.0231  &        0.101     &     0.227  &         0.820        &       -0.176    &        0.222     \\\\\n",
       "\\textbf{circuit\\_name[T.Bahrain International Circuit]}        &      -0.0979  &        0.128     &    -0.765  &         0.444        &       -0.349    &        0.153     \\\\\n",
       "\\textbf{circuit\\_name[T.Baku City Circuit]}                    &       0.1588  &        0.152     &     1.047  &         0.295        &       -0.139    &        0.456     \\\\\n",
       "\\textbf{circuit\\_name[T.Circuit Gilles Villeneuve]}            &      -0.1617  &        0.140     &    -1.157  &         0.247        &       -0.436    &        0.112     \\\\\n",
       "\\textbf{circuit\\_name[T.Circuit Park Zandvoort]}               &       0.0384  &        0.173     &     0.222  &         0.824        &       -0.300    &        0.377     \\\\\n",
       "\\textbf{circuit\\_name[T.Circuit Paul Ricard]}                  &      -0.2161  &        0.141     &    -1.530  &         0.126        &       -0.493    &        0.061     \\\\\n",
       "\\textbf{circuit\\_name[T.Circuit de Barcelona-Catalunya]}       &      -0.1263  &        0.124     &    -1.017  &         0.309        &       -0.370    &        0.117     \\\\\n",
       "\\textbf{circuit\\_name[T.Circuit de Monaco]}                    &       0.1285  &        0.144     &     0.891  &         0.373        &       -0.154    &        0.411     \\\\\n",
       "\\textbf{circuit\\_name[T.Circuit de Spa-Francorchamps]}         &       0.0454  &        0.114     &     0.398  &         0.691        &       -0.178    &        0.269     \\\\\n",
       "\\textbf{circuit\\_name[T.Circuit of the Americas]}              &       0.0978  &        0.138     &     0.711  &         0.477        &       -0.172    &        0.368     \\\\\n",
       "\\textbf{circuit\\_name[T.Hockenheimring]}                       &       0.1809  &        0.166     &     1.090  &         0.276        &       -0.144    &        0.506     \\\\\n",
       "\\textbf{circuit\\_name[T.Hungaroring]}                          &      -0.1458  &        0.117     &    -1.250  &         0.211        &       -0.374    &        0.083     \\\\\n",
       "\\textbf{circuit\\_name[T.Istanbul Park]}                        &       0.1160  &        0.201     &     0.576  &         0.564        &       -0.278    &        0.510     \\\\\n",
       "\\textbf{circuit\\_name[T.Jeddah Corniche Circuit]}              &      -0.2798  &        0.159     &    -1.764  &         0.078        &       -0.591    &        0.031     \\\\\n",
       "\\textbf{circuit\\_name[T.Las Vegas Strip Street Circuit]}       &      -0.0050  &        0.240     &    -0.021  &         0.983        &       -0.476    &        0.466     \\\\\n",
       "\\textbf{circuit\\_name[T.Losail International Circuit]}         &       0.2736  &        0.197     &     1.388  &         0.165        &       -0.113    &        0.660     \\\\\n",
       "\\textbf{circuit\\_name[T.Marina Bay Street Circuit]}            &       0.1200  &        0.172     &     0.697  &         0.486        &       -0.218    &        0.458     \\\\\n",
       "\\textbf{circuit\\_name[T.Miami International Autodrome]}        &       0.0129  &        0.177     &     0.073  &         0.942        &       -0.335    &        0.360     \\\\\n",
       "\\textbf{circuit\\_name[T.Nürburgring]}                          &       0.5608  &        0.237     &     2.370  &         0.018        &        0.097    &        1.025     \\\\\n",
       "\\textbf{circuit\\_name[T.Red Bull Ring]}                        &      -0.0358  &        0.105     &    -0.340  &         0.734        &       -0.242    &        0.171     \\\\\n",
       "\\textbf{circuit\\_name[T.Sepang International Circuit]}         &      -0.0832  &        0.206     &    -0.404  &         0.686        &       -0.487    &        0.320     \\\\\n",
       "\\textbf{circuit\\_name[T.Shanghai International Circuit]}       &      -0.0665  &        0.157     &    -0.423  &         0.672        &       -0.374    &        0.241     \\\\\n",
       "\\textbf{circuit\\_name[T.Silverstone Circuit]}                  &      -0.0914  &        0.117     &    -0.782  &         0.434        &       -0.321    &        0.138     \\\\\n",
       "\\textbf{circuit\\_name[T.Sochi Autodrom]}                       &       0.0394  &        0.146     &     0.271  &         0.787        &       -0.246    &        0.325     \\\\\n",
       "\\textbf{circuit\\_name[T.Suzuka Circuit]}                       &      -0.1969  &        0.137     &    -1.441  &         0.150        &       -0.465    &        0.071     \\\\\n",
       "\\textbf{circuit\\_name[T.Yas Marina Circuit]}                   &      -0.2024  &        0.140     &    -1.444  &         0.149        &       -0.477    &        0.072     \\\\\n",
       "\\textbf{year}                                                  &       0.0246  &        0.009     &     2.652  &         0.008        &        0.006    &        0.043     \\\\\n",
       "\\textbf{race\\_points}                                          &       0.1148  &        0.003     &    37.593  &         0.000        &        0.109    &        0.121     \\\\\n",
       "\\textbf{fastest\\_lap\\_seconds}                                 &      -0.0057  &        0.003     &    -2.256  &         0.024        &       -0.011    &       -0.001     \\\\\n",
       "\\textbf{race\\_fastestLapSpeed}                                 &       0.0017  &        0.001     &     1.498  &         0.134        &       -0.001    &        0.004     \\\\\n",
       "\\textbf{age}                                                   &       0.0046  &        0.004     &     1.284  &         0.199        &       -0.002    &        0.012     \\\\\n",
       "\\textbf{circuit\\_altitude}                                     &      -0.0001  &        0.000     &    -1.077  &         0.281        &       -0.000    &     9.46e-05     \\\\\n",
       "\\textbf{q2\\_complete}                                          &       0.7073  &        0.060     &    11.834  &         0.000        &        0.590    &        0.824     \\\\\n",
       "\\textbf{q3\\_complete}                                          &       0.6506  &        0.052     &    12.519  &         0.000        &        0.549    &        0.752     \\\\\n",
       "\\bottomrule\n",
       "\\end{tabular}\n",
       "%\\caption{Generalized Linear Model Regression Results}\n",
       "\\end{center}"
      ],
      "text/plain": [
       "<class 'statsmodels.iolib.summary.Summary'>\n",
       "\"\"\"\n",
       "                 Generalized Linear Model Regression Results                  \n",
       "==============================================================================\n",
       "Dep. Variable:     constructor_points   No. Observations:                 3481\n",
       "Model:                            GLM   Df Residuals:                     3441\n",
       "Model Family:        NegativeBinomial   Df Model:                           39\n",
       "Link Function:                    Log   Scale:                          1.0000\n",
       "Method:                          IRLS   Log-Likelihood:                -9790.7\n",
       "Date:                Wed, 05 Jun 2024   Deviance:                       4319.0\n",
       "Time:                        14:21:21   Pearson chi2:                 4.78e+03\n",
       "No. Iterations:                   100   Pseudo R-squ. (CS):             0.6748\n",
       "Covariance Type:            nonrobust                                         \n",
       "========================================================================================================================\n",
       "                                                           coef    std err          z      P>|z|      [0.025      0.975]\n",
       "------------------------------------------------------------------------------------------------------------------------\n",
       "Intercept                                              -48.3843     18.767     -2.578      0.010     -85.167     -11.602\n",
       "C(q1_complete, Treatment(0))[T.1]                       -0.9838      0.187     -5.265      0.000      -1.350      -0.618\n",
       "circuit_name[T.Autodromo Enzo e Dino Ferrari]            0.1984      0.169      1.175      0.240      -0.132       0.529\n",
       "circuit_name[T.Autodromo Internazionale del Mugello]     0.2529      0.257      0.982      0.326      -0.252       0.758\n",
       "circuit_name[T.Autodromo Nazionale di Monza]            -0.2251      0.124     -1.812      0.070      -0.469       0.018\n",
       "circuit_name[T.Autódromo Hermanos Rodríguez]             0.1116      0.150      0.743      0.458      -0.183       0.406\n",
       "circuit_name[T.Autódromo Internacional do Algarve]      -0.0595      0.197     -0.302      0.763      -0.446       0.327\n",
       "circuit_name[T.Autódromo José Carlos Pace]               0.0231      0.101      0.227      0.820      -0.176       0.222\n",
       "circuit_name[T.Bahrain International Circuit]           -0.0979      0.128     -0.765      0.444      -0.349       0.153\n",
       "circuit_name[T.Baku City Circuit]                        0.1588      0.152      1.047      0.295      -0.139       0.456\n",
       "circuit_name[T.Circuit Gilles Villeneuve]               -0.1617      0.140     -1.157      0.247      -0.436       0.112\n",
       "circuit_name[T.Circuit Park Zandvoort]                   0.0384      0.173      0.222      0.824      -0.300       0.377\n",
       "circuit_name[T.Circuit Paul Ricard]                     -0.2161      0.141     -1.530      0.126      -0.493       0.061\n",
       "circuit_name[T.Circuit de Barcelona-Catalunya]          -0.1263      0.124     -1.017      0.309      -0.370       0.117\n",
       "circuit_name[T.Circuit de Monaco]                        0.1285      0.144      0.891      0.373      -0.154       0.411\n",
       "circuit_name[T.Circuit de Spa-Francorchamps]             0.0454      0.114      0.398      0.691      -0.178       0.269\n",
       "circuit_name[T.Circuit of the Americas]                  0.0978      0.138      0.711      0.477      -0.172       0.368\n",
       "circuit_name[T.Hockenheimring]                           0.1809      0.166      1.090      0.276      -0.144       0.506\n",
       "circuit_name[T.Hungaroring]                             -0.1458      0.117     -1.250      0.211      -0.374       0.083\n",
       "circuit_name[T.Istanbul Park]                            0.1160      0.201      0.576      0.564      -0.278       0.510\n",
       "circuit_name[T.Jeddah Corniche Circuit]                 -0.2798      0.159     -1.764      0.078      -0.591       0.031\n",
       "circuit_name[T.Las Vegas Strip Street Circuit]          -0.0050      0.240     -0.021      0.983      -0.476       0.466\n",
       "circuit_name[T.Losail International Circuit]             0.2736      0.197      1.388      0.165      -0.113       0.660\n",
       "circuit_name[T.Marina Bay Street Circuit]                0.1200      0.172      0.697      0.486      -0.218       0.458\n",
       "circuit_name[T.Miami International Autodrome]            0.0129      0.177      0.073      0.942      -0.335       0.360\n",
       "circuit_name[T.Nürburgring]                              0.5608      0.237      2.370      0.018       0.097       1.025\n",
       "circuit_name[T.Red Bull Ring]                           -0.0358      0.105     -0.340      0.734      -0.242       0.171\n",
       "circuit_name[T.Sepang International Circuit]            -0.0832      0.206     -0.404      0.686      -0.487       0.320\n",
       "circuit_name[T.Shanghai International Circuit]          -0.0665      0.157     -0.423      0.672      -0.374       0.241\n",
       "circuit_name[T.Silverstone Circuit]                     -0.0914      0.117     -0.782      0.434      -0.321       0.138\n",
       "circuit_name[T.Sochi Autodrom]                           0.0394      0.146      0.271      0.787      -0.246       0.325\n",
       "circuit_name[T.Suzuka Circuit]                          -0.1969      0.137     -1.441      0.150      -0.465       0.071\n",
       "circuit_name[T.Yas Marina Circuit]                      -0.2024      0.140     -1.444      0.149      -0.477       0.072\n",
       "year                                                     0.0246      0.009      2.652      0.008       0.006       0.043\n",
       "race_points                                              0.1148      0.003     37.593      0.000       0.109       0.121\n",
       "fastest_lap_seconds                                     -0.0057      0.003     -2.256      0.024      -0.011      -0.001\n",
       "race_fastestLapSpeed                                     0.0017      0.001      1.498      0.134      -0.001       0.004\n",
       "age                                                      0.0046      0.004      1.284      0.199      -0.002       0.012\n",
       "circuit_altitude                                        -0.0001      0.000     -1.077      0.281      -0.000    9.46e-05\n",
       "q2_complete                                              0.7073      0.060     11.834      0.000       0.590       0.824\n",
       "q3_complete                                              0.6506      0.052     12.519      0.000       0.549       0.752\n",
       "========================================================================================================================\n",
       "\"\"\""
      ]
     },
     "execution_count": 553,
     "metadata": {},
     "output_type": "execute_result"
    }
   ],
   "source": [
    "negativebinomial1.summary()"
   ]
  },
  {
   "cell_type": "code",
   "execution_count": 556,
   "id": "9a39de74-e3b3-434b-bb84-6454daaf6c8a",
   "metadata": {
    "tags": []
   },
   "outputs": [
    {
     "data": {
      "text/html": [
       "<div>\n",
       "<style scoped>\n",
       "    .dataframe tbody tr th:only-of-type {\n",
       "        vertical-align: middle;\n",
       "    }\n",
       "\n",
       "    .dataframe tbody tr th {\n",
       "        vertical-align: top;\n",
       "    }\n",
       "\n",
       "    .dataframe thead th {\n",
       "        text-align: right;\n",
       "    }\n",
       "</style>\n",
       "<table border=\"1\" class=\"dataframe\">\n",
       "  <thead>\n",
       "    <tr style=\"text-align: right;\">\n",
       "      <th></th>\n",
       "      <th>Coefficients</th>\n",
       "    </tr>\n",
       "  </thead>\n",
       "  <tbody>\n",
       "    <tr>\n",
       "      <th>Intercept</th>\n",
       "      <td>-48.384326</td>\n",
       "    </tr>\n",
       "    <tr>\n",
       "      <th>C(q1_complete, Treatment(0))[T.1]</th>\n",
       "      <td>-0.983755</td>\n",
       "    </tr>\n",
       "    <tr>\n",
       "      <th>circuit_name[T.Autodromo Enzo e Dino Ferrari]</th>\n",
       "      <td>0.198376</td>\n",
       "    </tr>\n",
       "    <tr>\n",
       "      <th>circuit_name[T.Autodromo Internazionale del Mugello]</th>\n",
       "      <td>0.252941</td>\n",
       "    </tr>\n",
       "    <tr>\n",
       "      <th>circuit_name[T.Autodromo Nazionale di Monza]</th>\n",
       "      <td>-0.225117</td>\n",
       "    </tr>\n",
       "    <tr>\n",
       "      <th>circuit_name[T.Autódromo Hermanos Rodríguez]</th>\n",
       "      <td>0.111572</td>\n",
       "    </tr>\n",
       "    <tr>\n",
       "      <th>circuit_name[T.Autódromo Internacional do Algarve]</th>\n",
       "      <td>-0.059475</td>\n",
       "    </tr>\n",
       "    <tr>\n",
       "      <th>circuit_name[T.Autódromo José Carlos Pace]</th>\n",
       "      <td>0.023060</td>\n",
       "    </tr>\n",
       "    <tr>\n",
       "      <th>circuit_name[T.Bahrain International Circuit]</th>\n",
       "      <td>-0.097881</td>\n",
       "    </tr>\n",
       "    <tr>\n",
       "      <th>circuit_name[T.Baku City Circuit]</th>\n",
       "      <td>0.158823</td>\n",
       "    </tr>\n",
       "    <tr>\n",
       "      <th>circuit_name[T.Circuit Gilles Villeneuve]</th>\n",
       "      <td>-0.161672</td>\n",
       "    </tr>\n",
       "    <tr>\n",
       "      <th>circuit_name[T.Circuit Park Zandvoort]</th>\n",
       "      <td>0.038367</td>\n",
       "    </tr>\n",
       "    <tr>\n",
       "      <th>circuit_name[T.Circuit Paul Ricard]</th>\n",
       "      <td>-0.216081</td>\n",
       "    </tr>\n",
       "    <tr>\n",
       "      <th>circuit_name[T.Circuit de Barcelona-Catalunya]</th>\n",
       "      <td>-0.126329</td>\n",
       "    </tr>\n",
       "    <tr>\n",
       "      <th>circuit_name[T.Circuit de Monaco]</th>\n",
       "      <td>0.128496</td>\n",
       "    </tr>\n",
       "    <tr>\n",
       "      <th>circuit_name[T.Circuit de Spa-Francorchamps]</th>\n",
       "      <td>0.045436</td>\n",
       "    </tr>\n",
       "    <tr>\n",
       "      <th>circuit_name[T.Circuit of the Americas]</th>\n",
       "      <td>0.097836</td>\n",
       "    </tr>\n",
       "    <tr>\n",
       "      <th>circuit_name[T.Hockenheimring]</th>\n",
       "      <td>0.180937</td>\n",
       "    </tr>\n",
       "    <tr>\n",
       "      <th>circuit_name[T.Hungaroring]</th>\n",
       "      <td>-0.145790</td>\n",
       "    </tr>\n",
       "    <tr>\n",
       "      <th>circuit_name[T.Istanbul Park]</th>\n",
       "      <td>0.115965</td>\n",
       "    </tr>\n",
       "    <tr>\n",
       "      <th>circuit_name[T.Jeddah Corniche Circuit]</th>\n",
       "      <td>-0.279842</td>\n",
       "    </tr>\n",
       "    <tr>\n",
       "      <th>circuit_name[T.Las Vegas Strip Street Circuit]</th>\n",
       "      <td>-0.004993</td>\n",
       "    </tr>\n",
       "    <tr>\n",
       "      <th>circuit_name[T.Losail International Circuit]</th>\n",
       "      <td>0.273587</td>\n",
       "    </tr>\n",
       "    <tr>\n",
       "      <th>circuit_name[T.Marina Bay Street Circuit]</th>\n",
       "      <td>0.120022</td>\n",
       "    </tr>\n",
       "    <tr>\n",
       "      <th>circuit_name[T.Miami International Autodrome]</th>\n",
       "      <td>0.012871</td>\n",
       "    </tr>\n",
       "    <tr>\n",
       "      <th>circuit_name[T.Nürburgring]</th>\n",
       "      <td>0.560763</td>\n",
       "    </tr>\n",
       "    <tr>\n",
       "      <th>circuit_name[T.Red Bull Ring]</th>\n",
       "      <td>-0.035826</td>\n",
       "    </tr>\n",
       "    <tr>\n",
       "      <th>circuit_name[T.Sepang International Circuit]</th>\n",
       "      <td>-0.083219</td>\n",
       "    </tr>\n",
       "    <tr>\n",
       "      <th>circuit_name[T.Shanghai International Circuit]</th>\n",
       "      <td>-0.066451</td>\n",
       "    </tr>\n",
       "    <tr>\n",
       "      <th>circuit_name[T.Silverstone Circuit]</th>\n",
       "      <td>-0.091417</td>\n",
       "    </tr>\n",
       "    <tr>\n",
       "      <th>circuit_name[T.Sochi Autodrom]</th>\n",
       "      <td>0.039404</td>\n",
       "    </tr>\n",
       "    <tr>\n",
       "      <th>circuit_name[T.Suzuka Circuit]</th>\n",
       "      <td>-0.196941</td>\n",
       "    </tr>\n",
       "    <tr>\n",
       "      <th>circuit_name[T.Yas Marina Circuit]</th>\n",
       "      <td>-0.202401</td>\n",
       "    </tr>\n",
       "    <tr>\n",
       "      <th>year</th>\n",
       "      <td>0.024599</td>\n",
       "    </tr>\n",
       "    <tr>\n",
       "      <th>race_points</th>\n",
       "      <td>0.114767</td>\n",
       "    </tr>\n",
       "    <tr>\n",
       "      <th>fastest_lap_seconds</th>\n",
       "      <td>-0.005653</td>\n",
       "    </tr>\n",
       "    <tr>\n",
       "      <th>race_fastestLapSpeed</th>\n",
       "      <td>0.001702</td>\n",
       "    </tr>\n",
       "    <tr>\n",
       "      <th>age</th>\n",
       "      <td>0.004586</td>\n",
       "    </tr>\n",
       "    <tr>\n",
       "      <th>circuit_altitude</th>\n",
       "      <td>-0.000116</td>\n",
       "    </tr>\n",
       "    <tr>\n",
       "      <th>q2_complete</th>\n",
       "      <td>0.707326</td>\n",
       "    </tr>\n",
       "    <tr>\n",
       "      <th>q3_complete</th>\n",
       "      <td>0.650585</td>\n",
       "    </tr>\n",
       "  </tbody>\n",
       "</table>\n",
       "</div>"
      ],
      "text/plain": [
       "                                                    Coefficients\n",
       "Intercept                                             -48.384326\n",
       "C(q1_complete, Treatment(0))[T.1]                      -0.983755\n",
       "circuit_name[T.Autodromo Enzo e Dino Ferrari]           0.198376\n",
       "circuit_name[T.Autodromo Internazionale del Mug...      0.252941\n",
       "circuit_name[T.Autodromo Nazionale di Monza]           -0.225117\n",
       "circuit_name[T.Autódromo Hermanos Rodríguez]            0.111572\n",
       "circuit_name[T.Autódromo Internacional do Algarve]     -0.059475\n",
       "circuit_name[T.Autódromo José Carlos Pace]              0.023060\n",
       "circuit_name[T.Bahrain International Circuit]          -0.097881\n",
       "circuit_name[T.Baku City Circuit]                       0.158823\n",
       "circuit_name[T.Circuit Gilles Villeneuve]              -0.161672\n",
       "circuit_name[T.Circuit Park Zandvoort]                  0.038367\n",
       "circuit_name[T.Circuit Paul Ricard]                    -0.216081\n",
       "circuit_name[T.Circuit de Barcelona-Catalunya]         -0.126329\n",
       "circuit_name[T.Circuit de Monaco]                       0.128496\n",
       "circuit_name[T.Circuit de Spa-Francorchamps]            0.045436\n",
       "circuit_name[T.Circuit of the Americas]                 0.097836\n",
       "circuit_name[T.Hockenheimring]                          0.180937\n",
       "circuit_name[T.Hungaroring]                            -0.145790\n",
       "circuit_name[T.Istanbul Park]                           0.115965\n",
       "circuit_name[T.Jeddah Corniche Circuit]                -0.279842\n",
       "circuit_name[T.Las Vegas Strip Street Circuit]         -0.004993\n",
       "circuit_name[T.Losail International Circuit]            0.273587\n",
       "circuit_name[T.Marina Bay Street Circuit]               0.120022\n",
       "circuit_name[T.Miami International Autodrome]           0.012871\n",
       "circuit_name[T.Nürburgring]                             0.560763\n",
       "circuit_name[T.Red Bull Ring]                          -0.035826\n",
       "circuit_name[T.Sepang International Circuit]           -0.083219\n",
       "circuit_name[T.Shanghai International Circuit]         -0.066451\n",
       "circuit_name[T.Silverstone Circuit]                    -0.091417\n",
       "circuit_name[T.Sochi Autodrom]                          0.039404\n",
       "circuit_name[T.Suzuka Circuit]                         -0.196941\n",
       "circuit_name[T.Yas Marina Circuit]                     -0.202401\n",
       "year                                                    0.024599\n",
       "race_points                                             0.114767\n",
       "fastest_lap_seconds                                    -0.005653\n",
       "race_fastestLapSpeed                                    0.001702\n",
       "age                                                     0.004586\n",
       "circuit_altitude                                       -0.000116\n",
       "q2_complete                                             0.707326\n",
       "q3_complete                                             0.650585"
      ]
     },
     "execution_count": 556,
     "metadata": {},
     "output_type": "execute_result"
    }
   ],
   "source": [
    "negbinomial1_coeffs = pd.DataFrame(negativebinomial1 .params)\n",
    "negbinomial1_coeffs=negbinomial1_coeffs.rename(columns={0: \"Coefficients\"})\n",
    "negbinomial1_coeffs"
   ]
  },
  {
   "cell_type": "code",
   "execution_count": 558,
   "id": "0d6fb817-3b9b-45a1-a58a-454d991c26a4",
   "metadata": {
    "tags": []
   },
   "outputs": [
    {
     "data": {
      "text/plain": [
       "1.9166617482357744"
      ]
     },
     "execution_count": 558,
     "metadata": {},
     "output_type": "execute_result"
    }
   ],
   "source": [
    "np.exp(0.650585)"
   ]
  },
  {
   "cell_type": "code",
   "execution_count": 560,
   "id": "9361730f-ec2e-4420-8cad-370eb8199ffb",
   "metadata": {
    "tags": []
   },
   "outputs": [
    {
     "name": "stdout",
     "output_type": "stream",
     "text": [
      "Substantive Effects of Intercept and Variable Coefficients:\n",
      "0.0\n",
      "0.3739\n",
      "1.2194\n",
      "1.2878\n",
      "0.7984\n",
      "1.118\n",
      "0.9423\n",
      "1.0233\n",
      "0.9068\n",
      "1.1721\n",
      "0.8507\n",
      "1.0391\n",
      "0.8057\n",
      "0.8813\n",
      "1.1371\n",
      "1.0465\n",
      "1.1028\n",
      "1.1983\n",
      "0.8643\n",
      "1.123\n",
      "0.7559\n",
      "0.995\n",
      "1.3147\n",
      "1.1275\n",
      "1.013\n",
      "1.752\n",
      "0.9648\n",
      "0.9201\n",
      "0.9357\n",
      "0.9126\n",
      "1.0402\n",
      "0.8212\n",
      "0.8168\n",
      "1.0249\n",
      "1.1216\n",
      "0.9944\n",
      "1.0017\n",
      "1.0046\n",
      "0.9999\n",
      "2.0286\n",
      "1.9167\n"
     ]
    }
   ],
   "source": [
    "negbinomial1_coeffs = negbinomial1_coeffs['Coefficients']\n",
    "\n",
    "print(f'Substantive Effects of Intercept and Variable Coefficients:')\n",
    "for i in negbinomial1_coeffs:\n",
    "    print(round(np.exp(i),4))"
   ]
  },
  {
   "cell_type": "code",
   "execution_count": 562,
   "id": "b85de532-3944-4d0f-8d89-b07e4affec09",
   "metadata": {
    "tags": []
   },
   "outputs": [],
   "source": [
    "df['negbinomial1_fitted_values'] = negativebinomial1.fittedvalues"
   ]
  },
  {
   "cell_type": "code",
   "execution_count": 564,
   "id": "4d774a13-aaed-4897-acaa-84b1d8451558",
   "metadata": {
    "tags": []
   },
   "outputs": [
    {
     "data": {
      "image/png": "[encoded data removed]",
      "text/plain": [
       "<Figure size 640x480 with 1 Axes>"
      ]
     },
     "metadata": {},
     "output_type": "display_data"
    }
   ],
   "source": [
    "sns.regplot(data = df, x='race_points', y='constructor_points', y_jitter = 0.3, fit_reg = True, color ='paleturquoise',line_kws = {'color':'dimgray','label':'LM fit'})\n",
    "s=sns.scatterplot(data = df, x='race_points', y='negbinomial1_fitted_values', color = 'navy', label = 'Negative Binomial')\n",
    "plt.xlabel('Race Points', color='dimgray')\n",
    "plt.ylabel('Constructor Points', color='dimgray')\n",
    "\n",
    "s.spines['top'].set_color('dimgray')\n",
    "s.spines['right'].set_color('dimgray')\n",
    "s.spines['bottom'].set_color('dimgray')\n",
    "s.spines['left'].set_color('dimgray')\n",
    "s.tick_params(axis='x', colors='dimgray')\n",
    "s.tick_params(axis='y', colors='dimgray')"
   ]
  },
  {
   "cell_type": "markdown",
   "id": "df71bef6-d4c8-49e3-b341-3956173aa0bd",
   "metadata": {},
   "source": [
    "### Negative Binomial #2"
   ]
  },
  {
   "cell_type": "markdown",
   "id": "1bf2a3b6-e488-47fa-9bec-b21ca00aec43",
   "metadata": {},
   "source": [
    "Without Circuit Name"
   ]
  },
  {
   "cell_type": "code",
   "execution_count": 568,
   "id": "a16ac0b7-8208-4434-9547-2907b318d8e7",
   "metadata": {
    "tags": []
   },
   "outputs": [],
   "source": [
    "negativebinomial2 = glm('constructor_points ~ year + race_points + fastest_lap_seconds + race_fastestLapSpeed + age + circuit_altitude + q1_complete + q2_complete + q3_complete', data=df, family=sm.families.NegativeBinomial()).fit()"
   ]
  },
  {
   "cell_type": "code",
   "execution_count": 570,
   "id": "717885d6-d128-49ee-9d5f-e6543b37193e",
   "metadata": {
    "tags": []
   },
   "outputs": [
    {
     "data": {
      "text/html": [
       "<table class=\"simpletable\">\n",
       "<caption>Generalized Linear Model Regression Results</caption>\n",
       "<tr>\n",
       "  <th>Dep. Variable:</th>   <td>constructor_points</td> <th>  No. Observations:  </th>  <td>  3481</td> \n",
       "</tr>\n",
       "<tr>\n",
       "  <th>Model:</th>                   <td>GLM</td>        <th>  Df Residuals:      </th>  <td>  3471</td> \n",
       "</tr>\n",
       "<tr>\n",
       "  <th>Model Family:</th>     <td>NegativeBinomial</td>  <th>  Df Model:          </th>  <td>     9</td> \n",
       "</tr>\n",
       "<tr>\n",
       "  <th>Link Function:</th>           <td>Log</td>        <th>  Scale:             </th> <td>  1.0000</td>\n",
       "</tr>\n",
       "<tr>\n",
       "  <th>Method:</th>                 <td>IRLS</td>        <th>  Log-Likelihood:    </th> <td> -9814.4</td>\n",
       "</tr>\n",
       "<tr>\n",
       "  <th>Date:</th>             <td>Wed, 05 Jun 2024</td>  <th>  Deviance:          </th> <td>  4366.4</td>\n",
       "</tr>\n",
       "<tr>\n",
       "  <th>Time:</th>                 <td>14:21:39</td>      <th>  Pearson chi2:      </th> <td>4.95e+03</td>\n",
       "</tr>\n",
       "<tr>\n",
       "  <th>No. Iterations:</th>          <td>11</td>         <th>  Pseudo R-squ. (CS):</th>  <td>0.6703</td> \n",
       "</tr>\n",
       "<tr>\n",
       "  <th>Covariance Type:</th>      <td>nonrobust</td>     <th>                     </th>     <td> </td>   \n",
       "</tr>\n",
       "</table>\n",
       "<table class=\"simpletable\">\n",
       "<tr>\n",
       "            <td></td>              <th>coef</th>     <th>std err</th>      <th>z</th>      <th>P>|z|</th>  <th>[0.025</th>    <th>0.975]</th>  \n",
       "</tr>\n",
       "<tr>\n",
       "  <th>Intercept</th>            <td>  -54.6522</td> <td>   17.226</td> <td>   -3.173</td> <td> 0.002</td> <td>  -88.414</td> <td>  -20.890</td>\n",
       "</tr>\n",
       "<tr>\n",
       "  <th>year</th>                 <td>    0.0277</td> <td>    0.009</td> <td>    3.260</td> <td> 0.001</td> <td>    0.011</td> <td>    0.044</td>\n",
       "</tr>\n",
       "<tr>\n",
       "  <th>race_points</th>          <td>    0.1148</td> <td>    0.003</td> <td>   38.106</td> <td> 0.000</td> <td>    0.109</td> <td>    0.121</td>\n",
       "</tr>\n",
       "<tr>\n",
       "  <th>fastest_lap_seconds</th>  <td>   -0.0031</td> <td>    0.001</td> <td>   -2.313</td> <td> 0.021</td> <td>   -0.006</td> <td>   -0.000</td>\n",
       "</tr>\n",
       "<tr>\n",
       "  <th>race_fastestLapSpeed</th> <td>    0.0002</td> <td>    0.001</td> <td>    0.405</td> <td> 0.686</td> <td>   -0.001</td> <td>    0.001</td>\n",
       "</tr>\n",
       "<tr>\n",
       "  <th>age</th>                  <td>    0.0042</td> <td>    0.004</td> <td>    1.190</td> <td> 0.234</td> <td>   -0.003</td> <td>    0.011</td>\n",
       "</tr>\n",
       "<tr>\n",
       "  <th>circuit_altitude</th>     <td>-4.018e-05</td> <td> 4.22e-05</td> <td>   -0.953</td> <td> 0.341</td> <td>   -0.000</td> <td> 4.25e-05</td>\n",
       "</tr>\n",
       "<tr>\n",
       "  <th>q1_complete</th>          <td>   -1.0086</td> <td>    0.185</td> <td>   -5.451</td> <td> 0.000</td> <td>   -1.371</td> <td>   -0.646</td>\n",
       "</tr>\n",
       "<tr>\n",
       "  <th>q2_complete</th>          <td>    0.7039</td> <td>    0.059</td> <td>   11.841</td> <td> 0.000</td> <td>    0.587</td> <td>    0.820</td>\n",
       "</tr>\n",
       "<tr>\n",
       "  <th>q3_complete</th>          <td>    0.6319</td> <td>    0.052</td> <td>   12.208</td> <td> 0.000</td> <td>    0.530</td> <td>    0.733</td>\n",
       "</tr>\n",
       "</table>"
      ],
      "text/latex": [
       "\\begin{center}\n",
       "\\begin{tabular}{lclc}\n",
       "\\toprule\n",
       "\\textbf{Dep. Variable:}        & constructor\\_points & \\textbf{  No. Observations:  } &     3481    \\\\\n",
       "\\textbf{Model:}                &         GLM         & \\textbf{  Df Residuals:      } &     3471    \\\\\n",
       "\\textbf{Model Family:}         &   NegativeBinomial  & \\textbf{  Df Model:          } &        9    \\\\\n",
       "\\textbf{Link Function:}        &         Log         & \\textbf{  Scale:             } &    1.0000   \\\\\n",
       "\\textbf{Method:}               &         IRLS        & \\textbf{  Log-Likelihood:    } &   -9814.4   \\\\\n",
       "\\textbf{Date:}                 &   Wed, 05 Jun 2024  & \\textbf{  Deviance:          } &    4366.4   \\\\\n",
       "\\textbf{Time:}                 &       14:21:39      & \\textbf{  Pearson chi2:      } &  4.95e+03   \\\\\n",
       "\\textbf{No. Iterations:}       &          11         & \\textbf{  Pseudo R-squ. (CS):} &   0.6703    \\\\\n",
       "\\textbf{Covariance Type:}      &      nonrobust      & \\textbf{                     } &             \\\\\n",
       "\\bottomrule\n",
       "\\end{tabular}\n",
       "\\begin{tabular}{lcccccc}\n",
       "                               & \\textbf{coef} & \\textbf{std err} & \\textbf{z} & \\textbf{P$> |$z$|$} & \\textbf{[0.025} & \\textbf{0.975]}  \\\\\n",
       "\\midrule\n",
       "\\textbf{Intercept}             &     -54.6522  &       17.226     &    -3.173  &         0.002        &      -88.414    &      -20.890     \\\\\n",
       "\\textbf{year}                  &       0.0277  &        0.009     &     3.260  &         0.001        &        0.011    &        0.044     \\\\\n",
       "\\textbf{race\\_points}          &       0.1148  &        0.003     &    38.106  &         0.000        &        0.109    &        0.121     \\\\\n",
       "\\textbf{fastest\\_lap\\_seconds} &      -0.0031  &        0.001     &    -2.313  &         0.021        &       -0.006    &       -0.000     \\\\\n",
       "\\textbf{race\\_fastestLapSpeed} &       0.0002  &        0.001     &     0.405  &         0.686        &       -0.001    &        0.001     \\\\\n",
       "\\textbf{age}                   &       0.0042  &        0.004     &     1.190  &         0.234        &       -0.003    &        0.011     \\\\\n",
       "\\textbf{circuit\\_altitude}     &   -4.018e-05  &     4.22e-05     &    -0.953  &         0.341        &       -0.000    &     4.25e-05     \\\\\n",
       "\\textbf{q1\\_complete}          &      -1.0086  &        0.185     &    -5.451  &         0.000        &       -1.371    &       -0.646     \\\\\n",
       "\\textbf{q2\\_complete}          &       0.7039  &        0.059     &    11.841  &         0.000        &        0.587    &        0.820     \\\\\n",
       "\\textbf{q3\\_complete}          &       0.6319  &        0.052     &    12.208  &         0.000        &        0.530    &        0.733     \\\\\n",
       "\\bottomrule\n",
       "\\end{tabular}\n",
       "%\\caption{Generalized Linear Model Regression Results}\n",
       "\\end{center}"
      ],
      "text/plain": [
       "<class 'statsmodels.iolib.summary.Summary'>\n",
       "\"\"\"\n",
       "                 Generalized Linear Model Regression Results                  \n",
       "==============================================================================\n",
       "Dep. Variable:     constructor_points   No. Observations:                 3481\n",
       "Model:                            GLM   Df Residuals:                     3471\n",
       "Model Family:        NegativeBinomial   Df Model:                            9\n",
       "Link Function:                    Log   Scale:                          1.0000\n",
       "Method:                          IRLS   Log-Likelihood:                -9814.4\n",
       "Date:                Wed, 05 Jun 2024   Deviance:                       4366.4\n",
       "Time:                        14:21:39   Pearson chi2:                 4.95e+03\n",
       "No. Iterations:                    11   Pseudo R-squ. (CS):             0.6703\n",
       "Covariance Type:            nonrobust                                         \n",
       "========================================================================================\n",
       "                           coef    std err          z      P>|z|      [0.025      0.975]\n",
       "----------------------------------------------------------------------------------------\n",
       "Intercept              -54.6522     17.226     -3.173      0.002     -88.414     -20.890\n",
       "year                     0.0277      0.009      3.260      0.001       0.011       0.044\n",
       "race_points              0.1148      0.003     38.106      0.000       0.109       0.121\n",
       "fastest_lap_seconds     -0.0031      0.001     -2.313      0.021      -0.006      -0.000\n",
       "race_fastestLapSpeed     0.0002      0.001      0.405      0.686      -0.001       0.001\n",
       "age                      0.0042      0.004      1.190      0.234      -0.003       0.011\n",
       "circuit_altitude     -4.018e-05   4.22e-05     -0.953      0.341      -0.000    4.25e-05\n",
       "q1_complete             -1.0086      0.185     -5.451      0.000      -1.371      -0.646\n",
       "q2_complete              0.7039      0.059     11.841      0.000       0.587       0.820\n",
       "q3_complete              0.6319      0.052     12.208      0.000       0.530       0.733\n",
       "========================================================================================\n",
       "\"\"\""
      ]
     },
     "execution_count": 570,
     "metadata": {},
     "output_type": "execute_result"
    }
   ],
   "source": [
    "negativebinomial2.summary()"
   ]
  },
  {
   "cell_type": "code",
   "execution_count": 572,
   "id": "3463c55c-fb66-40af-b532-172e9c5bb96c",
   "metadata": {
    "tags": []
   },
   "outputs": [
    {
     "data": {
      "text/html": [
       "<div>\n",
       "<style scoped>\n",
       "    .dataframe tbody tr th:only-of-type {\n",
       "        vertical-align: middle;\n",
       "    }\n",
       "\n",
       "    .dataframe tbody tr th {\n",
       "        vertical-align: top;\n",
       "    }\n",
       "\n",
       "    .dataframe thead th {\n",
       "        text-align: right;\n",
       "    }\n",
       "</style>\n",
       "<table border=\"1\" class=\"dataframe\">\n",
       "  <thead>\n",
       "    <tr style=\"text-align: right;\">\n",
       "      <th></th>\n",
       "      <th>Coefficients</th>\n",
       "    </tr>\n",
       "  </thead>\n",
       "  <tbody>\n",
       "    <tr>\n",
       "      <th>Intercept</th>\n",
       "      <td>-54.652177</td>\n",
       "    </tr>\n",
       "    <tr>\n",
       "      <th>year</th>\n",
       "      <td>0.027742</td>\n",
       "    </tr>\n",
       "    <tr>\n",
       "      <th>race_points</th>\n",
       "      <td>0.114779</td>\n",
       "    </tr>\n",
       "    <tr>\n",
       "      <th>fastest_lap_seconds</th>\n",
       "      <td>-0.003101</td>\n",
       "    </tr>\n",
       "    <tr>\n",
       "      <th>race_fastestLapSpeed</th>\n",
       "      <td>0.000249</td>\n",
       "    </tr>\n",
       "    <tr>\n",
       "      <th>age</th>\n",
       "      <td>0.004239</td>\n",
       "    </tr>\n",
       "    <tr>\n",
       "      <th>circuit_altitude</th>\n",
       "      <td>-0.000040</td>\n",
       "    </tr>\n",
       "    <tr>\n",
       "      <th>q1_complete</th>\n",
       "      <td>-1.008587</td>\n",
       "    </tr>\n",
       "    <tr>\n",
       "      <th>q2_complete</th>\n",
       "      <td>0.703938</td>\n",
       "    </tr>\n",
       "    <tr>\n",
       "      <th>q3_complete</th>\n",
       "      <td>0.631871</td>\n",
       "    </tr>\n",
       "  </tbody>\n",
       "</table>\n",
       "</div>"
      ],
      "text/plain": [
       "                      Coefficients\n",
       "Intercept               -54.652177\n",
       "year                      0.027742\n",
       "race_points               0.114779\n",
       "fastest_lap_seconds      -0.003101\n",
       "race_fastestLapSpeed      0.000249\n",
       "age                       0.004239\n",
       "circuit_altitude         -0.000040\n",
       "q1_complete              -1.008587\n",
       "q2_complete               0.703938\n",
       "q3_complete               0.631871"
      ]
     },
     "execution_count": 572,
     "metadata": {},
     "output_type": "execute_result"
    }
   ],
   "source": [
    "negbinomial2_coeffs = pd.DataFrame(negativebinomial2.params)\n",
    "negbinomial2_coeffs=negbinomial2_coeffs.rename(columns={0: \"Coefficients\"})\n",
    "negbinomial2_coeffs"
   ]
  },
  {
   "cell_type": "code",
   "execution_count": 574,
   "id": "c99c5565-b9cb-4624-b36c-b75ca62ef326",
   "metadata": {
    "tags": []
   },
   "outputs": [
    {
     "name": "stdout",
     "output_type": "stream",
     "text": [
      "Substantive Effects of Intercept and Variable Coefficients:\n",
      "0.0\n",
      "1.0281\n",
      "1.1216\n",
      "0.9969\n",
      "1.0002\n",
      "1.0042\n",
      "1.0\n",
      "0.3647\n",
      "2.0217\n",
      "1.8811\n"
     ]
    }
   ],
   "source": [
    "negbinomial2_coeffs = negbinomial2_coeffs['Coefficients']\n",
    "\n",
    "print(f'Substantive Effects of Intercept and Variable Coefficients:')\n",
    "for i in negbinomial2_coeffs:\n",
    "    print(round(np.exp(i),4))"
   ]
  },
  {
   "cell_type": "code",
   "execution_count": 576,
   "id": "ce10ce16-5236-45a6-97b5-b2ef7fe19f74",
   "metadata": {
    "tags": []
   },
   "outputs": [],
   "source": [
    "df['negbinomial2_fitted_values'] = negativebinomial2.fittedvalues"
   ]
  },
  {
   "cell_type": "code",
   "execution_count": 578,
   "id": "c06045ac-3bd9-4751-add3-7ff46c862dd5",
   "metadata": {
    "tags": []
   },
   "outputs": [
    {
     "data": {
      "text/plain": [
       "<Axes: xlabel='race_points', ylabel='constructor_points'>"
      ]
     },
     "execution_count": 578,
     "metadata": {},
     "output_type": "execute_result"
    },
    {
     "data": {
      "image/png": "[encoded data removed]",
      "text/plain": [
       "<Figure size 640x480 with 1 Axes>"
      ]
     },
     "metadata": {},
     "output_type": "display_data"
    }
   ],
   "source": [
    "sns.regplot(data = df, x='race_points', y='constructor_points', y_jitter = 0.3, fit_reg = True, line_kws = {'color':'purple','label':'LM fit'})\n",
    "sns.scatterplot(data = df, x='race_points', y='negbinomial2_fitted_values', color = 'red', label = 'Poisson')"
   ]
  },
  {
   "cell_type": "markdown",
   "id": "2d86f942-b93c-4b41-9c37-c21d7f2023e3",
   "metadata": {},
   "source": [
    "# Factor Analysis"
   ]
  },
  {
   "cell_type": "code",
   "execution_count": 581,
   "id": "f729e7c3-8a72-4a30-8f90-f27441e8d762",
   "metadata": {
    "tags": []
   },
   "outputs": [],
   "source": [
    "import scipy.stats as stats\n",
    "\n",
    "from factor_analyzer import FactorAnalyzer\n",
    "\n",
    "from factor_analyzer.factor_analyzer import calculate_kmo"
   ]
  },
  {
   "cell_type": "code",
   "execution_count": 583,
   "id": "87047b29-249c-46c4-a07b-09166bcc91cb",
   "metadata": {
    "tags": []
   },
   "outputs": [],
   "source": [
    "df_fa = pd.read_csv(\"F1_EDA_complete.csv\")"
   ]
  },
  {
   "cell_type": "code",
   "execution_count": 585,
   "id": "b4e5b200-424b-4536-b3b8-133c0e36290e",
   "metadata": {
    "tags": []
   },
   "outputs": [
    {
     "name": "stdout",
     "output_type": "stream",
     "text": [
      "<class 'pandas.core.frame.DataFrame'>\n",
      "RangeIndex: 3481 entries, 0 to 3480\n",
      "Data columns (total 23 columns):\n",
      " #   Column                Non-Null Count  Dtype  \n",
      "---  ------                --------------  -----  \n",
      " 0   raceId                3481 non-null   int64  \n",
      " 1   year                  3481 non-null   int64  \n",
      " 2   circuitId             3481 non-null   int64  \n",
      " 3   race_name             3481 non-null   object \n",
      " 4   driverId              3481 non-null   int64  \n",
      " 5   constructorId         3481 non-null   int64  \n",
      " 6   race_points           3481 non-null   float64\n",
      " 7   race_fastestLapTime   3481 non-null   object \n",
      " 8   race_fastestLapSpeed  3481 non-null   float64\n",
      " 9   dob                   3481 non-null   object \n",
      " 10  qualifyId             3471 non-null   float64\n",
      " 11  circuit_name          3481 non-null   object \n",
      " 12  circuit_altitude      3481 non-null   int64  \n",
      " 13  constructor_points    3481 non-null   float64\n",
      " 14  constructor_name      3481 non-null   object \n",
      " 15  q1_complete           3481 non-null   int64  \n",
      " 16  q2_complete           3481 non-null   int64  \n",
      " 17  q3_complete           3481 non-null   int64  \n",
      " 18  age                   3481 non-null   int64  \n",
      " 19  driver_name           3481 non-null   object \n",
      " 20  lap_minutes           3481 non-null   int64  \n",
      " 21  lap_seconds           3481 non-null   int64  \n",
      " 22  fastest_lap_seconds   3481 non-null   int64  \n",
      "dtypes: float64(4), int64(13), object(6)\n",
      "memory usage: 625.6+ KB\n"
     ]
    }
   ],
   "source": [
    "df_fa.info()"
   ]
  },
  {
   "cell_type": "code",
   "execution_count": 587,
   "id": "190f9fad-5d27-40a0-9b62-82230385846f",
   "metadata": {
    "tags": []
   },
   "outputs": [],
   "source": [
    "F1df1= df_fa.drop(['raceId','year','circuitId','race_name','driverId','constructorId','race_fastestLapTime','dob','qualifyId','circuit_name','constructor_name','driver_name','lap_minutes','lap_seconds'],axis=1)"
   ]
  },
  {
   "cell_type": "code",
   "execution_count": 589,
   "id": "6c41a46c-cb03-4fa9-bfd0-b1f00c005dfb",
   "metadata": {
    "tags": []
   },
   "outputs": [
    {
     "name": "stdout",
     "output_type": "stream",
     "text": [
      "<class 'pandas.core.frame.DataFrame'>\n",
      "RangeIndex: 3481 entries, 0 to 3480\n",
      "Data columns (total 9 columns):\n",
      " #   Column                Non-Null Count  Dtype  \n",
      "---  ------                --------------  -----  \n",
      " 0   race_points           3481 non-null   float64\n",
      " 1   race_fastestLapSpeed  3481 non-null   float64\n",
      " 2   circuit_altitude      3481 non-null   int64  \n",
      " 3   constructor_points    3481 non-null   float64\n",
      " 4   q1_complete           3481 non-null   int64  \n",
      " 5   q2_complete           3481 non-null   int64  \n",
      " 6   q3_complete           3481 non-null   int64  \n",
      " 7   age                   3481 non-null   int64  \n",
      " 8   fastest_lap_seconds   3481 non-null   int64  \n",
      "dtypes: float64(3), int64(6)\n",
      "memory usage: 244.9 KB\n"
     ]
    }
   ],
   "source": [
    "F1df1.info()"
   ]
  },
  {
   "cell_type": "markdown",
   "id": "72bafb2f-62cf-4b82-87ac-22d59438885b",
   "metadata": {},
   "source": [
    "## KMO Test ~ Assessing the Adequacy of F1 Dataset"
   ]
  },
  {
   "cell_type": "code",
   "execution_count": 592,
   "id": "3ed90ca5-915e-4013-ab29-35d321a3aa34",
   "metadata": {
    "tags": []
   },
   "outputs": [],
   "source": [
    "kmo_all,kmo_model=calculate_kmo(F1df1)"
   ]
  },
  {
   "cell_type": "code",
   "execution_count": 594,
   "id": "e63aa133-1cfc-4fd3-abd6-b5050c385211",
   "metadata": {
    "tags": []
   },
   "outputs": [
    {
     "data": {
      "text/plain": [
       "0.6355159331261924"
      ]
     },
     "execution_count": 594,
     "metadata": {},
     "output_type": "execute_result"
    }
   ],
   "source": [
    "kmo_model"
   ]
  },
  {
   "cell_type": "markdown",
   "id": "cd588fcf-dad8-456c-8546-d01639f2c8e4",
   "metadata": {},
   "source": [
    "For this dataset, the overall KMO is 0.636. Since it is above the 0.6 threshold, the data is appropriate for Factor Analysis."
   ]
  },
  {
   "cell_type": "code",
   "execution_count": 598,
   "id": "7c957fa5-970e-40a3-8de4-1415d8b61215",
   "metadata": {
    "tags": []
   },
   "outputs": [
    {
     "data": {
      "text/html": [
       "<style>#sk-container-id-2 {color: black;background-color: white;}#sk-container-id-2 pre{padding: 0;}#sk-container-id-2 div.sk-toggleable {background-color: white;}#sk-container-id-2 label.sk-toggleable__label {cursor: pointer;display: block;width: 100%;margin-bottom: 0;padding: 0.3em;box-sizing: border-box;text-align: center;}#sk-container-id-2 label.sk-toggleable__label-arrow:before {content: \"▸\";float: left;margin-right: 0.25em;color: #696969;}#sk-container-id-2 label.sk-toggleable__label-arrow:hover:before {color: black;}#sk-container-id-2 div.sk-estimator:hover label.sk-toggleable__label-arrow:before {color: black;}#sk-container-id-2 div.sk-toggleable__content {max-height: 0;max-width: 0;overflow: hidden;text-align: left;background-color: #f0f8ff;}#sk-container-id-2 div.sk-toggleable__content pre {margin: 0.2em;color: black;border-radius: 0.25em;background-color: #f0f8ff;}#sk-container-id-2 input.sk-toggleable__control:checked~div.sk-toggleable__content {max-height: 200px;max-width: 100%;overflow: auto;}#sk-container-id-2 input.sk-toggleable__control:checked~label.sk-toggleable__label-arrow:before {content: \"▾\";}#sk-container-id-2 div.sk-estimator input.sk-toggleable__control:checked~label.sk-toggleable__label {background-color: #d4ebff;}#sk-container-id-2 div.sk-label input.sk-toggleable__control:checked~label.sk-toggleable__label {background-color: #d4ebff;}#sk-container-id-2 input.sk-hidden--visually {border: 0;clip: rect(1px 1px 1px 1px);clip: rect(1px, 1px, 1px, 1px);height: 1px;margin: -1px;overflow: hidden;padding: 0;position: absolute;width: 1px;}#sk-container-id-2 div.sk-estimator {font-family: monospace;background-color: #f0f8ff;border: 1px dotted black;border-radius: 0.25em;box-sizing: border-box;margin-bottom: 0.5em;}#sk-container-id-2 div.sk-estimator:hover {background-color: #d4ebff;}#sk-container-id-2 div.sk-parallel-item::after {content: \"\";width: 100%;border-bottom: 1px solid gray;flex-grow: 1;}#sk-container-id-2 div.sk-label:hover label.sk-toggleable__label {background-color: #d4ebff;}#sk-container-id-2 div.sk-serial::before {content: \"\";position: absolute;border-left: 1px solid gray;box-sizing: border-box;top: 0;bottom: 0;left: 50%;z-index: 0;}#sk-container-id-2 div.sk-serial {display: flex;flex-direction: column;align-items: center;background-color: white;padding-right: 0.2em;padding-left: 0.2em;position: relative;}#sk-container-id-2 div.sk-item {position: relative;z-index: 1;}#sk-container-id-2 div.sk-parallel {display: flex;align-items: stretch;justify-content: center;background-color: white;position: relative;}#sk-container-id-2 div.sk-item::before, #sk-container-id-2 div.sk-parallel-item::before {content: \"\";position: absolute;border-left: 1px solid gray;box-sizing: border-box;top: 0;bottom: 0;left: 50%;z-index: -1;}#sk-container-id-2 div.sk-parallel-item {display: flex;flex-direction: column;z-index: 1;position: relative;background-color: white;}#sk-container-id-2 div.sk-parallel-item:first-child::after {align-self: flex-end;width: 50%;}#sk-container-id-2 div.sk-parallel-item:last-child::after {align-self: flex-start;width: 50%;}#sk-container-id-2 div.sk-parallel-item:only-child::after {width: 0;}#sk-container-id-2 div.sk-dashed-wrapped {border: 1px dashed gray;margin: 0 0.4em 0.5em 0.4em;box-sizing: border-box;padding-bottom: 0.4em;background-color: white;}#sk-container-id-2 div.sk-label label {font-family: monospace;font-weight: bold;display: inline-block;line-height: 1.2em;}#sk-container-id-2 div.sk-label-container {text-align: center;}#sk-container-id-2 div.sk-container {/* jupyter's `normalize.less` sets `[hidden] { display: none; }` but bootstrap.min.css set `[hidden] { display: none !important; }` so we also need the `!important` here to be able to override the default hidden behavior on the sphinx rendered scikit-learn.org. See: https://github.com/scikit-learn/scikit-learn/issues/21755 */display: inline-block !important;position: relative;}#sk-container-id-2 div.sk-text-repr-fallback {display: none;}</style><div id=\"sk-container-id-2\" class=\"sk-top-container\"><div class=\"sk-text-repr-fallback\"><pre>FactorAnalyzer(rotation_kwargs={})</pre><b>In a Jupyter environment, please rerun this cell to show the HTML representation or trust the notebook. <br />On GitHub, the HTML representation is unable to render, please try loading this page with nbviewer.org.</b></div><div class=\"sk-container\" hidden><div class=\"sk-item\"><div class=\"sk-estimator sk-toggleable\"><input class=\"sk-toggleable__control sk-hidden--visually\" id=\"sk-estimator-id-2\" type=\"checkbox\" checked><label for=\"sk-estimator-id-2\" class=\"sk-toggleable__label sk-toggleable__label-arrow\">FactorAnalyzer</label><div class=\"sk-toggleable__content\"><pre>FactorAnalyzer(rotation_kwargs={})</pre></div></div></div></div></div>"
      ],
      "text/plain": [
       "FactorAnalyzer(rotation_kwargs={})"
      ]
     },
     "execution_count": 598,
     "metadata": {},
     "output_type": "execute_result"
    }
   ],
   "source": [
    "# Creating FA object\n",
    "\n",
    "FA = FactorAnalyzer()\n",
    "FA.fit(F1df1)"
   ]
  },
  {
   "cell_type": "code",
   "execution_count": 600,
   "id": "1153597f-2dcc-4c1b-88e2-4f1fc1ee3237",
   "metadata": {
    "tags": []
   },
   "outputs": [
    {
     "data": {
      "text/plain": [
       "array([2.74934512, 1.73564458, 1.05645055, 0.98863936, 0.9711849 ,\n",
       "       0.73581416, 0.37104323, 0.26291616, 0.12896193])"
      ]
     },
     "execution_count": 600,
     "metadata": {},
     "output_type": "execute_result"
    }
   ],
   "source": [
    "# Checking Eigenvalues\n",
    "eigen_values, vectors = FA.get_eigenvalues()\n",
    "\n",
    "eigen_values"
   ]
  },
  {
   "cell_type": "code",
   "execution_count": 602,
   "id": "a34be0a4-02ae-4ec6-92a6-ee800a0d31fc",
   "metadata": {
    "tags": []
   },
   "outputs": [
    {
     "data": {
      "image/png": "[encoded data removed]",
      "text/plain": [
       "<Figure size 640x480 with 1 Axes>"
      ]
     },
     "metadata": {},
     "output_type": "display_data"
    }
   ],
   "source": [
    "# Creating a scree plot\n",
    "\n",
    "plt.scatter(range(1, F1df1.shape[1]+1), eigen_values)\n",
    "plt.plot(range(1, F1df1.shape[1]+1), eigen_values)\n",
    "plt.title('Scree Plot')\n",
    "plt.xlabel('Factors')\n",
    "plt.ylabel('Eigenvalue')\n",
    "plt.grid()\n",
    "plt.show()"
   ]
  },
  {
   "cell_type": "markdown",
   "id": "7fe6898f-3957-4c22-baea-23bf6b056930",
   "metadata": {},
   "source": [
    "We observe that three factor have an eigen value of more than 1 and 2 more factors have eigen value very close to 1. Therefore, we want to try Factor Analysis by first choosing 3 factors (or unobserved variables) as our k and then with 5 factors as our k.\n",
    "\n",
    "Factor solution that has an eigenvalue of 1 or above explains more variance than a single observed variable while factor solution with eigenvalue of less than 1 explains less variance that a single variable. This is why we will only retain the factor with eigenvalue of 1 or greater for the Factor Analysis."
   ]
  },
  {
   "cell_type": "markdown",
   "id": "2fc10518-959e-428f-a95f-0faf30ab4829",
   "metadata": {},
   "source": [
    "### Principal Axis Component Factor Analysis with Varimax rotation (k=3)"
   ]
  },
  {
   "cell_type": "code",
   "execution_count": 611,
   "id": "3ff41060-0c00-40d2-ace0-4626f89a7b24",
   "metadata": {
    "tags": []
   },
   "outputs": [],
   "source": [
    "FA_p = FactorAnalyzer(3, rotation = \"varimax\", method = 'principal')\n",
    "FA_p.fit(F1df1)\n",
    "loadings_FA_p = FA_p.loadings_"
   ]
  },
  {
   "cell_type": "code",
   "execution_count": 614,
   "id": "bac52fa7-c876-4f88-985a-f7b7bcb13a21",
   "metadata": {
    "tags": []
   },
   "outputs": [
    {
     "name": "stdout",
     "output_type": "stream",
     "text": [
      "Factor Loadings \n",
      "                      Factor 1  Factor 2  Factor 3\n",
      "race_points           0.885540  0.083327 -0.169121\n",
      "race_fastestLapSpeed  0.118747  0.896226 -0.056269\n",
      "circuit_altitude      0.022845 -0.252581 -0.041720\n",
      "constructor_points    0.896318  0.035155 -0.165425\n",
      "q1_complete           0.055541  0.051623  0.902693\n",
      "q2_complete           0.645672 -0.059364  0.409789\n",
      "q3_complete           0.804790 -0.047917  0.174120\n",
      "age                   0.205947  0.020611  0.096185\n",
      "fastest_lap_seconds   0.012604  0.927896 -0.026306\n"
     ]
    }
   ],
   "source": [
    "# Checking out loadings\n",
    "loadings_p = pd.DataFrame(loadings_FA_p, columns=['Factor 1', 'Factor 2','Factor 3'], index= F1df1.columns)\n",
    "print('Factor Loadings \\n%s' %loadings_p)"
   ]
  },
  {
   "cell_type": "markdown",
   "id": "ef38359e-4118-4ddc-a3a0-d176d8819ac6",
   "metadata": {},
   "source": [
    "**Findings from the first model**\n",
    "\n",
    "For this model that uses principal axis component factor analysis with Varimax rotation, we see that Factor 1 has has a high loading for Race points, Constructor Points and Q3 complete attributes/variables (a factor loading of +-0.7 or greater is considered a high factor loading). This means that over half of the variance is being explained by the factor. Q2 complete has a moderate loading. We will choose to ignore the other variable because it is not explaining much variance. In terms of the association, we see that the three variables are positively associated with each other in Factor 1. On the other hand, for Factor 2, we see that the variables with a high factor loading are race_fastestLapSpeed and fastest_lap_seconds. We also notice that these variables are positively associated with each other. For Factor 3, the only variable with a high factor loading is Q1 complete.\n",
    "\n",
    "There is a good distinction between the Factors in this model."
   ]
  },
  {
   "cell_type": "markdown",
   "id": "9f53e7c6-3574-494f-a246-9c99da2387ad",
   "metadata": {
    "tags": []
   },
   "source": [
    "#### Variances"
   ]
  },
  {
   "cell_type": "code",
   "execution_count": 623,
   "id": "aa1cc898-6ffe-422a-b82f-3161b2799d82",
   "metadata": {
    "tags": []
   },
   "outputs": [
    {
     "name": "stdout",
     "output_type": "stream",
     "text": [
      "3 Factor Model-Factor Variance \n",
      "                  Factor 1  Factor 2  Factor 3\n",
      "Loadings          2.712426  1.745098  1.083916\n",
      "Proportional Var  0.301381  0.193900  0.120435\n",
      "Cumulative Var    0.301381  0.495280  0.615716\n"
     ]
    }
   ],
   "source": [
    "FA_variance = pd.DataFrame(FA_p.get_factor_variance(), columns=['Factor 1', 'Factor 2','Factor 3'], \n",
    "                           index= ['Loadings', 'Proportional Var', 'Cumulative Var'])\n",
    "print('3 Factor Model-Factor Variance \\n%s' %FA_variance)"
   ]
  },
  {
   "cell_type": "markdown",
   "id": "91ee1290-2a33-4421-97bf-00e7084db0f3",
   "metadata": {
    "tags": []
   },
   "source": [
    "**Explanation**\n",
    "\n",
    "From the results, we can see how our variance are partitioned between the three Factors.\n",
    "\n",
    "Factor 1 loading is carrying more of the weight. With a variance of 2.71, Factor 1 explains 30.1% of the variance while Factor 2 with a variance of 1.75 explains 19.4% of the variance, and Factor 3 with a variance of 1.08 explains 12.0% of the variance. The three Factors explain 61.57% of the cumulative variance, which is not very significant.\n",
    "\n",
    "Therefore, we might also want to look at a 5 Factor Factor Analysis model and see if that might explain more variance compared to this model."
   ]
  },
  {
   "cell_type": "markdown",
   "id": "d69919f7-0a60-4777-b48b-6d9955d75c1e",
   "metadata": {},
   "source": [
    "#### Communalites"
   ]
  },
  {
   "cell_type": "code",
   "execution_count": 640,
   "id": "da905bb9-2dae-457b-b3c9-07c0c0a8e332",
   "metadata": {
    "tags": []
   },
   "outputs": [
    {
     "name": "stdout",
     "output_type": "stream",
     "text": [
      "3 Factor Model-Factor Communalities \n",
      "                      Communalities\n",
      "race_points                0.819726\n",
      "race_fastestLapSpeed       0.820487\n",
      "circuit_altitude           0.066059\n",
      "constructor_points         0.831987\n",
      "q1_complete                0.820604\n",
      "q2_complete                0.588344\n",
      "q3_complete                0.680301\n",
      "age                        0.052091\n",
      "fastest_lap_seconds        0.861843\n"
     ]
    }
   ],
   "source": [
    "FA_communalities = pd.DataFrame(FA_p.get_communalities(), index=F1df1.columns, columns=['Communalities'])\n",
    "print('3 Factor Model-Factor Communalities \\n%s' %FA_communalities)"
   ]
  },
  {
   "cell_type": "markdown",
   "id": "e128a31a-5f7a-4866-b3a4-65a33e9b036b",
   "metadata": {
    "jp-MarkdownHeadingCollapsed": true,
    "tags": []
   },
   "source": [
    "**Explanation**\n",
    "\n",
    "The communalities measure provides information on the proportion of each variable's variance that can be explained by the factors. For instance, the communality of the race_point variable/item is 0.8197, which means that 81.97% of the variance in this variable is explained by all of the factors taken together.\n",
    "\n",
    "In general, we can see that a high proportion of their variance is explained by the factors taken together for all of the variables except for age. This means that the uniqueness or the proportion of variance that is distinct to the variable and not shared with other variables is low for all of them except for age and circuit altitude variables. Some other variables to note are q2_complete and q3_complete which have a communalities score of more than 0.55 but they are relatively lower than other variables in our model.\n",
    "\n",
    "We can conclude that all of the variables other than age and circuit altitude are relevant in the factor model."
   ]
  },
  {
   "cell_type": "markdown",
   "id": "91fe3410-9fd5-4f3b-9ad3-c0d481dcf79e",
   "metadata": {
    "tags": []
   },
   "source": [
    "### Principal Axis Component Factor Analysis with Varimax rotation (k=5)"
   ]
  },
  {
   "cell_type": "code",
   "execution_count": 651,
   "id": "57c02f93-af80-4905-bf54-25d10b48c6a8",
   "metadata": {
    "tags": []
   },
   "outputs": [],
   "source": [
    "FA_p2 = FactorAnalyzer(5, rotation = \"varimax\", method = 'principal')\n",
    "FA_p2.fit(F1df1)\n",
    "loadings_FA_p2 = FA_p2.loadings_"
   ]
  },
  {
   "cell_type": "code",
   "execution_count": 654,
   "id": "fc1aaf90-ef8c-4613-96b7-8039524fd6a5",
   "metadata": {
    "tags": []
   },
   "outputs": [
    {
     "name": "stdout",
     "output_type": "stream",
     "text": [
      "5 Factor Model- Factor Loadings \n",
      "                      Factor 1  Factor 2  Factor 3  Factor 4  Factor 5\n",
      "race_points           0.890281  0.122371 -0.119427  0.037640  0.029917\n",
      "race_fastestLapSpeed  0.092567  0.925565  0.000849  0.048614 -0.022630\n",
      "circuit_altitude      0.000231 -0.069477  0.020882  0.991198  0.006698\n",
      "constructor_points    0.901372  0.072888 -0.118924  0.034639  0.041240\n",
      "q1_complete           0.015732  0.026595  0.915673  0.033483 -0.003584\n",
      "q2_complete           0.627484 -0.071719  0.429639 -0.070636  0.078521\n",
      "q3_complete           0.801046 -0.038839  0.209258 -0.030528  0.032669\n",
      "age                   0.086064  0.013037  0.010867  0.006659  0.995142\n",
      "fastest_lap_seconds  -0.017677  0.919127  0.007311 -0.132709  0.037801\n"
     ]
    }
   ],
   "source": [
    "loadings_p2 = pd.DataFrame(loadings_FA_p2, columns=['Factor 1', 'Factor 2','Factor 3','Factor 4','Factor 5'], index= F1df1.columns)\n",
    "print('5 Factor Model- Factor Loadings \\n%s' %loadings_p2)"
   ]
  },
  {
   "cell_type": "markdown",
   "id": "ba6247a3-90f3-47bd-aa7c-ff1942b58e46",
   "metadata": {},
   "source": [
    "**Findings from the second model**\n",
    "\n",
    "For this model that uses principal axis component factor analysis with Varimax rotation, we see that Factor 1 has has a high loading for Race points, Constructor Points and Q3 complete attributes/variables (a factor loading of +-0.7 or greater is considered a high factor loading). This means that over half of the variance is being explained by the factor. Q2 complete has a moderate loading. We will choose to ignore the other variable because it is not explaining much variance. In terms of the association, we see that the three variables are positively associated with each other in Factor 1. On the other hand, for Factor 2, we see that the variables with a high factor loading are race_fastestLapSpeed and fastest_lap_seconds. We also notice that these variables are positively associated with each other. For Factor 3, the only variable with a high factor loading is Q1 complete, and for Factor 4, only circuit altitude has a high factor loading. For Factor 5, age is the only variables with a high loading.\n",
    "\n",
    "There is a good distinction between the Factors in this model."
   ]
  },
  {
   "cell_type": "code",
   "execution_count": 659,
   "id": "df90fb3c-642e-43d0-bcee-d72ea843e715",
   "metadata": {
    "tags": []
   },
   "outputs": [
    {
     "name": "stdout",
     "output_type": "stream",
     "text": [
      "5 Factor Model- Factor Variance \n",
      "                  Factor 1  Factor 2  Factor 3  Factor 4  Factor 5\n",
      "Loadings          2.657019  1.734108  1.095850  1.012152  1.002136\n",
      "Proportional Var  0.295224  0.192679  0.121761  0.112461  0.111348\n",
      "Cumulative Var    0.295224  0.487903  0.609664  0.722125  0.833474\n"
     ]
    }
   ],
   "source": [
    "FA_variance2 = pd.DataFrame(FA_p2.get_factor_variance(), columns=['Factor 1', 'Factor 2','Factor 3','Factor 4','Factor 5'], \n",
    "                           index= ['Loadings', 'Proportional Var', 'Cumulative Var'])\n",
    "print('5 Factor Model- Factor Variance \\n%s' %FA_variance2)"
   ]
  },
  {
   "cell_type": "markdown",
   "id": "5b8f957b-70ce-4e1f-9028-e290abda590f",
   "metadata": {},
   "source": [
    "**Explanation**\n",
    "\n",
    "From the results, we can see how our variance are partitioned between the three Factors.\n",
    "\n",
    "Factor 1 loading is carrying more of the weight. With a variance of 2.71, Factor 1 explains 30.1% of the variance while Factor 2 with a variance of 1.75 explains 19.4% of the variance, and Factor 3 with a variance of 1.08 explains 12.0% of the variance. The three Factors explain 61.57% of the cumulative variance, which is not very significant.\n",
    "\n",
    "We see that a 5 Factor model explains significantly more variance than the 3 Factor model, so this model is better."
   ]
  },
  {
   "cell_type": "markdown",
   "id": "069c2c22-35e1-4510-bdf5-95d1d9b54815",
   "metadata": {},
   "source": [
    "#### Communalities"
   ]
  },
  {
   "cell_type": "code",
   "execution_count": 667,
   "id": "4042a340-1c55-4506-9c14-6c7337c57502",
   "metadata": {
    "tags": []
   },
   "outputs": [
    {
     "name": "stdout",
     "output_type": "stream",
     "text": [
      "5 Factor Model- Factor Communalities \n",
      "                      Communalities\n",
      "race_points                0.824150\n",
      "race_fastestLapSpeed       0.868115\n",
      "circuit_altitude           0.987782\n",
      "constructor_points         0.834828\n",
      "q1_complete                0.840547\n",
      "q2_complete                0.594624\n",
      "q3_complete                0.688971\n",
      "age                        0.998048\n",
      "fastest_lap_seconds        0.864201\n"
     ]
    }
   ],
   "source": [
    "FA_communalities2 = pd.DataFrame(FA_p2.get_communalities(), index=F1df1.columns, columns=['Communalities'])\n",
    "print('5 Factor Model- Factor Communalities \\n%s' %FA_communalities2)"
   ]
  },
  {
   "cell_type": "markdown",
   "id": "a4a30117-8cf2-47a1-bd01-9b5e8c26bc51",
   "metadata": {
    "tags": []
   },
   "source": [
    "**Explanation**\n",
    "\n",
    "The communalities measure provides information on the proportion of each variable's variance that can be explained by the factors. For instance, the communality of the race_point variable/item is 0.824, which means that 82.4% of the variance in this variable is explained by all of the factors taken together.\n",
    "\n",
    "In general, we can see that a high proportion of their variance is explained by the factors taken together for all of the variables. This means that the uniqueness or the proportion of variance that is distinct to the variable and not shared with other variables is low for all of them. We see that q2_complete and q3_complete have lower communalities scores but it is still more than 58% for both of them. \n",
    "\n",
    "Thus, we can conclude that all of the variables are relevant in the factor model.\n"
   ]
  },
  {
   "cell_type": "code",
   "execution_count": null,
   "id": "30733151-24bb-4dbb-bf2d-b5e5a5172197",
   "metadata": {},
   "outputs": [],
   "source": []
  }
 ],
 "metadata": {
  "kernelspec": {
   "display_name": "Python 3 (ipykernel)",
   "language": "python",
   "name": "python3"
  },
  "language_info": {
   "codemirror_mode": {
    "name": "ipython",
    "version": 3
   },
   "file_extension": ".py",
   "mimetype": "text/x-python",
   "name": "python",
   "nbconvert_exporter": "python",
   "pygments_lexer": "ipython3",
   "version": "3.11.4"
  }
 },
 "nbformat": 4,
 "nbformat_minor": 5
}
